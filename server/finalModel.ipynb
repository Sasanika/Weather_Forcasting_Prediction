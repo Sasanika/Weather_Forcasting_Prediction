{
 "cells": [
  {
   "cell_type": "code",
   "execution_count": 1,
   "metadata": {
    "id": "V_-ytJNavOQP"
   },
   "outputs": [],
   "source": [
    "import numpy as np\n",
    "import pandas as pd"
   ]
  },
  {
   "cell_type": "code",
   "execution_count": 2,
   "metadata": {
    "id": "SnLA9bzByyaq"
   },
   "outputs": [],
   "source": [
    "weather_hist = pd.read_csv('weatherHistory.csv')"
   ]
  },
  {
   "cell_type": "code",
   "execution_count": 3,
   "metadata": {
    "colab": {
     "base_uri": "https://localhost:8080/"
    },
    "id": "07SFhxQTy58Q",
    "outputId": "8e04212b-c791-4936-8271-8ab446ca5362"
   },
   "outputs": [
    {
     "name": "stdout",
     "output_type": "stream",
     "text": [
      "<class 'pandas.core.frame.DataFrame'>\n",
      "RangeIndex: 96450 entries, 0 to 96449\n",
      "Data columns (total 12 columns):\n",
      " #   Column                    Non-Null Count  Dtype  \n",
      "---  ------                    --------------  -----  \n",
      " 0   Formatted Date            96450 non-null  object \n",
      " 1   Summary                   96450 non-null  object \n",
      " 2   Precip Type               95930 non-null  object \n",
      " 3   Temperature (C)           96450 non-null  float64\n",
      " 4   Apparent Temperature (C)  96450 non-null  float64\n",
      " 5   Humidity                  96450 non-null  float64\n",
      " 6   Wind Speed (km/h)         96445 non-null  float64\n",
      " 7   Wind Bearing (degrees)    96450 non-null  int64  \n",
      " 8   Visibility (km)           96442 non-null  float64\n",
      " 9   Loud Cover                96450 non-null  int64  \n",
      " 10  Pressure (millibars)      96443 non-null  float64\n",
      " 11  Daily Summary             96450 non-null  object \n",
      "dtypes: float64(6), int64(2), object(4)\n",
      "memory usage: 8.8+ MB\n"
     ]
    }
   ],
   "source": [
    "weather_hist.info()"
   ]
  },
  {
   "cell_type": "code",
   "execution_count": 4,
   "metadata": {
    "colab": {
     "base_uri": "https://localhost:8080/",
     "height": 414
    },
    "id": "Br5siQoly-zw",
    "outputId": "0d9a2f62-bff3-4314-93a3-4b2b5fad9931"
   },
   "outputs": [
    {
     "data": {
      "text/html": [
       "<div>\n",
       "<style scoped>\n",
       "    .dataframe tbody tr th:only-of-type {\n",
       "        vertical-align: middle;\n",
       "    }\n",
       "\n",
       "    .dataframe tbody tr th {\n",
       "        vertical-align: top;\n",
       "    }\n",
       "\n",
       "    .dataframe thead th {\n",
       "        text-align: right;\n",
       "    }\n",
       "</style>\n",
       "<table border=\"1\" class=\"dataframe\">\n",
       "  <thead>\n",
       "    <tr style=\"text-align: right;\">\n",
       "      <th></th>\n",
       "      <th>Formatted Date</th>\n",
       "      <th>Summary</th>\n",
       "      <th>Precip Type</th>\n",
       "      <th>Temperature (C)</th>\n",
       "      <th>Apparent Temperature (C)</th>\n",
       "      <th>Humidity</th>\n",
       "      <th>Wind Speed (km/h)</th>\n",
       "      <th>Wind Bearing (degrees)</th>\n",
       "      <th>Visibility (km)</th>\n",
       "      <th>Loud Cover</th>\n",
       "      <th>Pressure (millibars)</th>\n",
       "      <th>Daily Summary</th>\n",
       "    </tr>\n",
       "  </thead>\n",
       "  <tbody>\n",
       "    <tr>\n",
       "      <th>0</th>\n",
       "      <td>2006-04-01 00:00:00.000 +0200</td>\n",
       "      <td>Partly Cloudy</td>\n",
       "      <td>rain</td>\n",
       "      <td>9.472222</td>\n",
       "      <td>7.388889</td>\n",
       "      <td>0.89</td>\n",
       "      <td>14.1197</td>\n",
       "      <td>251</td>\n",
       "      <td>15.8263</td>\n",
       "      <td>0</td>\n",
       "      <td>1015.13</td>\n",
       "      <td>Partly cloudy throughout the day.</td>\n",
       "    </tr>\n",
       "    <tr>\n",
       "      <th>1</th>\n",
       "      <td>2006-04-01 01:00:00.000 +0200</td>\n",
       "      <td>Partly Cloudy</td>\n",
       "      <td>rain</td>\n",
       "      <td>9.355556</td>\n",
       "      <td>7.227778</td>\n",
       "      <td>0.86</td>\n",
       "      <td>14.2646</td>\n",
       "      <td>259</td>\n",
       "      <td>15.8263</td>\n",
       "      <td>0</td>\n",
       "      <td>1015.63</td>\n",
       "      <td>Partly cloudy throughout the day.</td>\n",
       "    </tr>\n",
       "    <tr>\n",
       "      <th>2</th>\n",
       "      <td>2006-04-01 02:00:00.000 +0200</td>\n",
       "      <td>Mostly Cloudy</td>\n",
       "      <td>rain</td>\n",
       "      <td>9.377778</td>\n",
       "      <td>9.377778</td>\n",
       "      <td>0.89</td>\n",
       "      <td>3.9284</td>\n",
       "      <td>204</td>\n",
       "      <td>14.9569</td>\n",
       "      <td>0</td>\n",
       "      <td>1015.94</td>\n",
       "      <td>Partly cloudy throughout the day.</td>\n",
       "    </tr>\n",
       "    <tr>\n",
       "      <th>3</th>\n",
       "      <td>2006-04-01 03:00:00.000 +0200</td>\n",
       "      <td>Partly Cloudy</td>\n",
       "      <td>rain</td>\n",
       "      <td>8.288889</td>\n",
       "      <td>5.944444</td>\n",
       "      <td>0.83</td>\n",
       "      <td>14.1036</td>\n",
       "      <td>269</td>\n",
       "      <td>15.8263</td>\n",
       "      <td>0</td>\n",
       "      <td>1016.41</td>\n",
       "      <td>Partly cloudy throughout the day.</td>\n",
       "    </tr>\n",
       "    <tr>\n",
       "      <th>4</th>\n",
       "      <td>2006-04-01 04:00:00.000 +0200</td>\n",
       "      <td>Mostly Cloudy</td>\n",
       "      <td>rain</td>\n",
       "      <td>8.755556</td>\n",
       "      <td>6.977778</td>\n",
       "      <td>0.83</td>\n",
       "      <td>11.0446</td>\n",
       "      <td>259</td>\n",
       "      <td>15.8263</td>\n",
       "      <td>0</td>\n",
       "      <td>1016.51</td>\n",
       "      <td>Partly cloudy throughout the day.</td>\n",
       "    </tr>\n",
       "  </tbody>\n",
       "</table>\n",
       "</div>"
      ],
      "text/plain": [
       "                  Formatted Date        Summary Precip Type  Temperature (C)  \\\n",
       "0  2006-04-01 00:00:00.000 +0200  Partly Cloudy        rain         9.472222   \n",
       "1  2006-04-01 01:00:00.000 +0200  Partly Cloudy        rain         9.355556   \n",
       "2  2006-04-01 02:00:00.000 +0200  Mostly Cloudy        rain         9.377778   \n",
       "3  2006-04-01 03:00:00.000 +0200  Partly Cloudy        rain         8.288889   \n",
       "4  2006-04-01 04:00:00.000 +0200  Mostly Cloudy        rain         8.755556   \n",
       "\n",
       "   Apparent Temperature (C)  Humidity  Wind Speed (km/h)  \\\n",
       "0                  7.388889      0.89            14.1197   \n",
       "1                  7.227778      0.86            14.2646   \n",
       "2                  9.377778      0.89             3.9284   \n",
       "3                  5.944444      0.83            14.1036   \n",
       "4                  6.977778      0.83            11.0446   \n",
       "\n",
       "   Wind Bearing (degrees)  Visibility (km)  Loud Cover  Pressure (millibars)  \\\n",
       "0                     251          15.8263           0               1015.13   \n",
       "1                     259          15.8263           0               1015.63   \n",
       "2                     204          14.9569           0               1015.94   \n",
       "3                     269          15.8263           0               1016.41   \n",
       "4                     259          15.8263           0               1016.51   \n",
       "\n",
       "                       Daily Summary  \n",
       "0  Partly cloudy throughout the day.  \n",
       "1  Partly cloudy throughout the day.  \n",
       "2  Partly cloudy throughout the day.  \n",
       "3  Partly cloudy throughout the day.  \n",
       "4  Partly cloudy throughout the day.  "
      ]
     },
     "execution_count": 4,
     "metadata": {},
     "output_type": "execute_result"
    }
   ],
   "source": [
    "weather_hist.head()"
   ]
  },
  {
   "cell_type": "code",
   "execution_count": 5,
   "metadata": {
    "colab": {
     "base_uri": "https://localhost:8080/",
     "height": 317
    },
    "id": "uZmlDMeazRSQ",
    "outputId": "8cac185f-b546-47e5-e020-46ad3cbd587b"
   },
   "outputs": [
    {
     "data": {
      "text/html": [
       "<div>\n",
       "<style scoped>\n",
       "    .dataframe tbody tr th:only-of-type {\n",
       "        vertical-align: middle;\n",
       "    }\n",
       "\n",
       "    .dataframe tbody tr th {\n",
       "        vertical-align: top;\n",
       "    }\n",
       "\n",
       "    .dataframe thead th {\n",
       "        text-align: right;\n",
       "    }\n",
       "</style>\n",
       "<table border=\"1\" class=\"dataframe\">\n",
       "  <thead>\n",
       "    <tr style=\"text-align: right;\">\n",
       "      <th></th>\n",
       "      <th>Temperature (C)</th>\n",
       "      <th>Apparent Temperature (C)</th>\n",
       "      <th>Humidity</th>\n",
       "      <th>Wind Speed (km/h)</th>\n",
       "      <th>Wind Bearing (degrees)</th>\n",
       "      <th>Visibility (km)</th>\n",
       "      <th>Loud Cover</th>\n",
       "      <th>Pressure (millibars)</th>\n",
       "    </tr>\n",
       "  </thead>\n",
       "  <tbody>\n",
       "    <tr>\n",
       "      <th>count</th>\n",
       "      <td>96450.000000</td>\n",
       "      <td>96450.000000</td>\n",
       "      <td>96450.000000</td>\n",
       "      <td>96445.000000</td>\n",
       "      <td>96450.000000</td>\n",
       "      <td>96442.000000</td>\n",
       "      <td>96450.0</td>\n",
       "      <td>96443.000000</td>\n",
       "    </tr>\n",
       "    <tr>\n",
       "      <th>mean</th>\n",
       "      <td>11.932456</td>\n",
       "      <td>10.854838</td>\n",
       "      <td>0.734912</td>\n",
       "      <td>10.809563</td>\n",
       "      <td>187.507838</td>\n",
       "      <td>10.347331</td>\n",
       "      <td>0.0</td>\n",
       "      <td>1003.235465</td>\n",
       "    </tr>\n",
       "    <tr>\n",
       "      <th>std</th>\n",
       "      <td>9.551517</td>\n",
       "      <td>10.696820</td>\n",
       "      <td>0.195462</td>\n",
       "      <td>6.910700</td>\n",
       "      <td>107.384208</td>\n",
       "      <td>4.192359</td>\n",
       "      <td>0.0</td>\n",
       "      <td>116.975940</td>\n",
       "    </tr>\n",
       "    <tr>\n",
       "      <th>min</th>\n",
       "      <td>-21.822222</td>\n",
       "      <td>-27.716667</td>\n",
       "      <td>0.000000</td>\n",
       "      <td>0.000000</td>\n",
       "      <td>0.000000</td>\n",
       "      <td>0.000000</td>\n",
       "      <td>0.0</td>\n",
       "      <td>0.000000</td>\n",
       "    </tr>\n",
       "    <tr>\n",
       "      <th>25%</th>\n",
       "      <td>4.688889</td>\n",
       "      <td>2.311111</td>\n",
       "      <td>0.600000</td>\n",
       "      <td>5.828200</td>\n",
       "      <td>116.000000</td>\n",
       "      <td>8.339800</td>\n",
       "      <td>0.0</td>\n",
       "      <td>1011.900000</td>\n",
       "    </tr>\n",
       "    <tr>\n",
       "      <th>50%</th>\n",
       "      <td>12.000000</td>\n",
       "      <td>12.000000</td>\n",
       "      <td>0.780000</td>\n",
       "      <td>9.965900</td>\n",
       "      <td>180.000000</td>\n",
       "      <td>10.046400</td>\n",
       "      <td>0.0</td>\n",
       "      <td>1016.450000</td>\n",
       "    </tr>\n",
       "    <tr>\n",
       "      <th>75%</th>\n",
       "      <td>18.838889</td>\n",
       "      <td>18.838889</td>\n",
       "      <td>0.890000</td>\n",
       "      <td>14.135800</td>\n",
       "      <td>290.000000</td>\n",
       "      <td>14.812000</td>\n",
       "      <td>0.0</td>\n",
       "      <td>1021.090000</td>\n",
       "    </tr>\n",
       "    <tr>\n",
       "      <th>max</th>\n",
       "      <td>39.905556</td>\n",
       "      <td>39.344444</td>\n",
       "      <td>1.000000</td>\n",
       "      <td>55.931400</td>\n",
       "      <td>359.000000</td>\n",
       "      <td>16.100000</td>\n",
       "      <td>0.0</td>\n",
       "      <td>1046.380000</td>\n",
       "    </tr>\n",
       "  </tbody>\n",
       "</table>\n",
       "</div>"
      ],
      "text/plain": [
       "       Temperature (C)  Apparent Temperature (C)      Humidity  \\\n",
       "count     96450.000000              96450.000000  96450.000000   \n",
       "mean         11.932456                 10.854838      0.734912   \n",
       "std           9.551517                 10.696820      0.195462   \n",
       "min         -21.822222                -27.716667      0.000000   \n",
       "25%           4.688889                  2.311111      0.600000   \n",
       "50%          12.000000                 12.000000      0.780000   \n",
       "75%          18.838889                 18.838889      0.890000   \n",
       "max          39.905556                 39.344444      1.000000   \n",
       "\n",
       "       Wind Speed (km/h)  Wind Bearing (degrees)  Visibility (km)  Loud Cover  \\\n",
       "count       96445.000000            96450.000000     96442.000000     96450.0   \n",
       "mean           10.809563              187.507838        10.347331         0.0   \n",
       "std             6.910700              107.384208         4.192359         0.0   \n",
       "min             0.000000                0.000000         0.000000         0.0   \n",
       "25%             5.828200              116.000000         8.339800         0.0   \n",
       "50%             9.965900              180.000000        10.046400         0.0   \n",
       "75%            14.135800              290.000000        14.812000         0.0   \n",
       "max            55.931400              359.000000        16.100000         0.0   \n",
       "\n",
       "       Pressure (millibars)  \n",
       "count          96443.000000  \n",
       "mean            1003.235465  \n",
       "std              116.975940  \n",
       "min                0.000000  \n",
       "25%             1011.900000  \n",
       "50%             1016.450000  \n",
       "75%             1021.090000  \n",
       "max             1046.380000  "
      ]
     },
     "execution_count": 5,
     "metadata": {},
     "output_type": "execute_result"
    }
   ],
   "source": [
    "weather_hist.describe()"
   ]
  },
  {
   "cell_type": "code",
   "execution_count": 6,
   "metadata": {
    "colab": {
     "base_uri": "https://localhost:8080/"
    },
    "id": "mtxD5USVzW3I",
    "outputId": "fe76b7c5-d494-47ad-dcb1-3afe6fe0aea8"
   },
   "outputs": [
    {
     "name": "stdout",
     "output_type": "stream",
     "text": [
      "Number of Columns in the Weather History Data frame: 12\n",
      "Number of records in the Weather History data frame: 96450\n"
     ]
    }
   ],
   "source": [
    "print(\"Number of Columns in the Weather History Data frame:\", weather_hist.shape[1])\n",
    "print(\"Number of records in the Weather History data frame:\", weather_hist.shape[0])"
   ]
  },
  {
   "cell_type": "code",
   "execution_count": 7,
   "metadata": {
    "colab": {
     "base_uri": "https://localhost:8080/"
    },
    "id": "QHVd-RlPzdDP",
    "outputId": "049955a9-2134-405a-f742-51cbc50fc8de"
   },
   "outputs": [
    {
     "name": "stdout",
     "output_type": "stream",
     "text": [
      "Unique values are:\n",
      " Formatted Date              96426\n",
      "Summary                        24\n",
      "Precip Type                     4\n",
      "Temperature (C)              7574\n",
      "Apparent Temperature (C)     8984\n",
      "Humidity                       90\n",
      "Wind Speed (km/h)            2483\n",
      "Wind Bearing (degrees)        360\n",
      "Visibility (km)               949\n",
      "Loud Cover                      1\n",
      "Pressure (millibars)         4979\n",
      "Daily Summary                 214\n",
      "dtype: int64\n"
     ]
    }
   ],
   "source": [
    "print (\"Unique values are:\\n\",weather_hist.nunique())"
   ]
  },
  {
   "cell_type": "code",
   "execution_count": 8,
   "metadata": {
    "colab": {
     "base_uri": "https://localhost:8080/"
    },
    "id": "tUfn5y8gzivw",
    "outputId": "bee903d0-4f48-4c7e-ffb8-90e7460330fd"
   },
   "outputs": [
    {
     "name": "stdout",
     "output_type": "stream",
     "text": [
      "\n",
      "\n",
      "24 duplicate rows found in Weathe History Dataset.\n",
      "\n",
      "\n",
      "                      Formatted Date        Summary Precip Type  \\\n",
      "36071  2010-08-02 00:00:00.000 +0200          Clear        rain   \n",
      "36072  2010-08-02 01:00:00.000 +0200          Clear        rain   \n",
      "36073  2010-08-02 02:00:00.000 +0200          Clear        rain   \n",
      "36074  2010-08-02 03:00:00.000 +0200          Clear        rain   \n",
      "36075  2010-08-02 04:00:00.000 +0200          Clear        rain   \n",
      "36076  2010-08-02 05:00:00.000 +0200          Clear        rain   \n",
      "36077  2010-08-02 06:00:00.000 +0200          Clear        rain   \n",
      "36078  2010-08-02 07:00:00.000 +0200          Clear        rain   \n",
      "36079  2010-08-02 08:00:00.000 +0200          Clear        rain   \n",
      "36080  2010-08-02 09:00:00.000 +0200          Clear        rain   \n",
      "36081  2010-08-02 10:00:00.000 +0200          Clear        rain   \n",
      "36082  2010-08-02 11:00:00.000 +0200          Clear        rain   \n",
      "36083  2010-08-02 12:00:00.000 +0200          Clear        rain   \n",
      "36084  2010-08-02 13:00:00.000 +0200  Partly Cloudy        rain   \n",
      "36085  2010-08-02 14:00:00.000 +0200  Partly Cloudy        rain   \n",
      "36086  2010-08-02 15:00:00.000 +0200  Partly Cloudy        rain   \n",
      "36087  2010-08-02 16:00:00.000 +0200  Partly Cloudy        rain   \n",
      "36088  2010-08-02 17:00:00.000 +0200  Partly Cloudy        rain   \n",
      "36089  2010-08-02 18:00:00.000 +0200  Partly Cloudy        rain   \n",
      "36090  2010-08-02 19:00:00.000 +0200          Clear        rain   \n",
      "36091  2010-08-02 20:00:00.000 +0200          Clear        rain   \n",
      "36092  2010-08-02 21:00:00.000 +0200          Clear        rain   \n",
      "36093  2010-08-02 22:00:00.000 +0200  Partly Cloudy        rain   \n",
      "36094  2010-08-02 23:00:00.000 +0200          Clear        rain   \n",
      "\n",
      "       Temperature (C)  Apparent Temperature (C)  Humidity  Wind Speed (km/h)  \\\n",
      "36071        18.800000                 18.800000      0.93             6.2790   \n",
      "36072        18.222222                 18.222222      0.97             6.2790   \n",
      "36073        18.072222                 18.072222      0.98            11.2700   \n",
      "36074        16.622222                 16.622222      0.99             6.4400   \n",
      "36075        16.094444                 16.094444      0.99             3.0751   \n",
      "36076        15.955556                 15.955556      0.99             3.8801   \n",
      "36077        17.088889                 17.088889      1.00             6.4400   \n",
      "36078        20.822222                 20.822222      0.87             3.2200   \n",
      "36079        23.405556                 23.405556      0.74             1.8837   \n",
      "36080        26.050000                 26.050000      0.59             1.5939   \n",
      "36081        27.688889                 28.077778      0.50             0.2254   \n",
      "36082        28.561111                 29.588889      0.54             3.2039   \n",
      "36083        28.816667                 29.338889      0.49             1.6100   \n",
      "36084        28.866667                 29.044444      0.46             2.8175   \n",
      "36085        29.827778                 30.338889      0.47             8.0339   \n",
      "36086        30.072222                 30.527778      0.46             2.5921   \n",
      "36087        31.066667                 31.627778      0.44             1.3846   \n",
      "36088        30.861111                 31.361111      0.44             2.2540   \n",
      "36089        29.950000                 30.416667      0.46             3.0751   \n",
      "36090        28.811111                 30.616667      0.59             3.2039   \n",
      "36091        25.250000                 25.250000      0.75             2.4955   \n",
      "36092        22.172222                 22.172222      0.87             1.6100   \n",
      "36093        21.061111                 21.061111      0.90             0.0000   \n",
      "36094        20.255556                 20.255556      0.92             1.0787   \n",
      "\n",
      "       Wind Bearing (degrees)  Visibility (km)  Loud Cover  \\\n",
      "36071                     270          14.9086           0   \n",
      "36072                     291          14.9086           0   \n",
      "36073                     290           6.8425           0   \n",
      "36074                     300          11.9784           0   \n",
      "36075                     280          11.9784           0   \n",
      "36076                     276           9.9820           0   \n",
      "36077                     310           9.9820           0   \n",
      "36078                     300           9.9820           0   \n",
      "36079                     334           9.9820           0   \n",
      "36080                       5           9.9820           0   \n",
      "36081                     338           9.9820           0   \n",
      "36082                     288          10.3523           0   \n",
      "36083                      20           9.9820           0   \n",
      "36084                      33           9.9820           0   \n",
      "36085                     267          10.3523           0   \n",
      "36086                      92           9.9820           0   \n",
      "36087                     297           9.9820           0   \n",
      "36088                     325          10.3523           0   \n",
      "36089                     303           9.9820           0   \n",
      "36090                     351           9.9820           0   \n",
      "36091                     335          10.3523           0   \n",
      "36092                       0           9.9820           0   \n",
      "36093                       0          11.9784           0   \n",
      "36094                     326          14.1680           0   \n",
      "\n",
      "       Pressure (millibars)                                      Daily Summary  \n",
      "36071               1016.99  Partly cloudy starting in the afternoon contin...  \n",
      "36072               1017.09  Partly cloudy starting in the afternoon contin...  \n",
      "36073               1013.23  Partly cloudy starting in the afternoon contin...  \n",
      "36074               1016.78  Partly cloudy starting in the afternoon contin...  \n",
      "36075               1016.67  Partly cloudy starting in the afternoon contin...  \n",
      "36076               1016.69  Partly cloudy starting in the afternoon contin...  \n",
      "36077               1017.08  Partly cloudy starting in the afternoon contin...  \n",
      "36078               1017.27  Partly cloudy starting in the afternoon contin...  \n",
      "36079               1017.27  Partly cloudy starting in the afternoon contin...  \n",
      "36080               1017.15  Partly cloudy starting in the afternoon contin...  \n",
      "36081               1016.68  Partly cloudy starting in the afternoon contin...  \n",
      "36082               1016.58  Partly cloudy starting in the afternoon contin...  \n",
      "36083               1016.55  Partly cloudy starting in the afternoon contin...  \n",
      "36084               1015.99  Partly cloudy starting in the afternoon contin...  \n",
      "36085               1015.50  Partly cloudy starting in the afternoon contin...  \n",
      "36086               1014.97  Partly cloudy starting in the afternoon contin...  \n",
      "36087               1014.47  Partly cloudy starting in the afternoon contin...  \n",
      "36088               1014.08  Partly cloudy starting in the afternoon contin...  \n",
      "36089               1013.59  Partly cloudy starting in the afternoon contin...  \n",
      "36090               1013.19  Partly cloudy starting in the afternoon contin...  \n",
      "36091               1013.20  Partly cloudy starting in the afternoon contin...  \n",
      "36092               1013.49  Partly cloudy starting in the afternoon contin...  \n",
      "36093               1013.37  Partly cloudy starting in the afternoon contin...  \n",
      "36094               1013.00  Partly cloudy starting in the afternoon contin...  \n"
     ]
    }
   ],
   "source": [
    "\n",
    "duplicates = weather_hist[weather_hist.duplicated()]\n",
    "\n",
    "# Print the number of duplicate rows, if any\n",
    "num_duplicates = len(duplicates)\n",
    "if num_duplicates > 0:\n",
    "    print(\"\\n\")\n",
    "    print(f\"{num_duplicates} duplicate rows found in Weathe History Dataset.\")\n",
    "    print(\"\\n\")\n",
    "    print(duplicates)\n",
    "else:\n",
    "    print(\"No duplicate rows found in WeatherHistory.\")"
   ]
  },
  {
   "cell_type": "code",
   "execution_count": 9,
   "metadata": {
    "colab": {
     "base_uri": "https://localhost:8080/"
    },
    "id": "zq1ONxXXzooY",
    "outputId": "3d1c51d4-a576-451f-dd8a-80b0f839894c"
   },
   "outputs": [
    {
     "name": "stdout",
     "output_type": "stream",
     "text": [
      "Duplicated Values:  0\n"
     ]
    }
   ],
   "source": [
    "# Removing duplicated values\n",
    "weather_hist.drop_duplicates(inplace=True)\n",
    "# Again checking for duplicated values\n",
    "print(\"Duplicated Values: \", weather_hist.duplicated().sum())"
   ]
  },
  {
   "cell_type": "code",
   "execution_count": 10,
   "metadata": {
    "colab": {
     "base_uri": "https://localhost:8080/"
    },
    "id": "D4bVUXb6zyx3",
    "outputId": "14b3051d-95a4-42c4-e9af-5458111cf2b6"
   },
   "outputs": [
    {
     "name": "stdout",
     "output_type": "stream",
     "text": [
      "Number of Columns in the Weather History Data frame: 12\n",
      "Number of records in the Weather History data frame: 96426\n"
     ]
    }
   ],
   "source": [
    "#Printing the shape of dataset after deleting Duplicates\n",
    "print(\"Number of Columns in the Weather History Data frame:\", weather_hist.shape[1])\n",
    "print(\"Number of records in the Weather History data frame:\", weather_hist.shape[0])"
   ]
  },
  {
   "cell_type": "code",
   "execution_count": 11,
   "metadata": {
    "colab": {
     "base_uri": "https://localhost:8080/"
    },
    "id": "Uma5ZXoBz4NV",
    "outputId": "8a7467ec-7e8f-4d14-e9d9-b4f0a727a589"
   },
   "outputs": [
    {
     "name": "stdout",
     "output_type": "stream",
     "text": [
      "Checking the NULL Values in  WeatherHistory Dataset..\n",
      "\n",
      "Column 'Precip Type' has 520 null values.\n",
      "Column 'Wind Speed (km/h)' has 5 null values.\n",
      "Column 'Visibility (km)' has 8 null values.\n",
      "Column 'Pressure (millibars)' has 7 null values.\n"
     ]
    }
   ],
   "source": [
    "# Checking missing values\n",
    "\n",
    "# Check for null values in the DataFrame\n",
    "null_values = weather_hist.isnull().sum()\n",
    "\n",
    "# Print the count of null values in each column\n",
    "print('Checking the NULL Values in  WeatherHistory Dataset..\\n')\n",
    "\n",
    "# Check if there are any null values\n",
    "if null_values.sum() == 0:\n",
    "    print(f'\\n There are no null values in the given dataset.')\n",
    "else:\n",
    "    columns_with_null_values = null_values[null_values > 0].index.tolist()\n",
    "    # Loop over the columns with null values and print the count of null values for each column\n",
    "    for column in columns_with_null_values:\n",
    "        count = null_values[column]\n",
    "        print(f\"Column '{column}' has {count} null values.\")"
   ]
  },
  {
   "cell_type": "code",
   "execution_count": 12,
   "metadata": {
    "colab": {
     "base_uri": "https://localhost:8080/"
    },
    "id": "WH39rXZqz8xQ",
    "outputId": "3a3efe06-fd28-489f-eed3-6f6b4ce7324e"
   },
   "outputs": [
    {
     "data": {
      "text/plain": [
       "rain    85191\n",
       "snow    10712\n",
       "?           2\n",
       "%           1\n",
       "Name: Precip Type, dtype: int64"
      ]
     },
     "execution_count": 12,
     "metadata": {},
     "output_type": "execute_result"
    }
   ],
   "source": [
    "# Handling missing values\n",
    "weather_hist['Precip Type'].value_counts()"
   ]
  },
  {
   "cell_type": "code",
   "execution_count": 13,
   "metadata": {
    "colab": {
     "base_uri": "https://localhost:8080/"
    },
    "id": "j0NN-hjY0COv",
    "outputId": "6983f031-4438-4b3b-f93f-03b886817096"
   },
   "outputs": [
    {
     "data": {
      "text/plain": [
       "rain    85191\n",
       "snow    10712\n",
       "Name: Precip Type, dtype: int64"
      ]
     },
     "execution_count": 13,
     "metadata": {},
     "output_type": "execute_result"
    }
   ],
   "source": [
    "# Remove rows with missing values in 'Precip Type' column\n",
    "weather_hist = weather_hist[(weather_hist['Precip Type'] != '?') & (weather_hist['Precip Type'] != '%')]\n",
    "\n",
    "# Verify the changes\n",
    "weather_hist['Precip Type'].value_counts()\n"
   ]
  },
  {
   "cell_type": "code",
   "execution_count": 14,
   "metadata": {
    "id": "wGdUpTQu1kIQ"
   },
   "outputs": [],
   "source": [
    "# Remove rows with null values in specified columns\n",
    "weather_hist = weather_hist.dropna(subset=['Precip Type', 'Wind Speed (km/h)', 'Visibility (km)', 'Pressure (millibars)'])\n",
    "\n"
   ]
  },
  {
   "cell_type": "code",
   "execution_count": 15,
   "metadata": {
    "colab": {
     "base_uri": "https://localhost:8080/"
    },
    "id": "YI9DKc0y4fhn",
    "outputId": "005bec94-03ce-4c7e-b010-9a4759aa2744"
   },
   "outputs": [
    {
     "name": "stdout",
     "output_type": "stream",
     "text": [
      "Missing Values:\n",
      " Formatted Date              0\n",
      "Summary                     0\n",
      "Precip Type                 0\n",
      "Temperature (C)             0\n",
      "Apparent Temperature (C)    0\n",
      "Humidity                    0\n",
      "Wind Speed (km/h)           0\n",
      "Wind Bearing (degrees)      0\n",
      "Visibility (km)             0\n",
      "Loud Cover                  0\n",
      "Pressure (millibars)        0\n",
      "Daily Summary               0\n",
      "dtype: int64\n"
     ]
    }
   ],
   "source": [
    "# Re-check Handling Missing Values\n",
    "missing_values = weather_hist.isnull().sum()\n",
    "print(\"Missing Values:\\n\", missing_values)"
   ]
  },
  {
   "cell_type": "code",
   "execution_count": 16,
   "metadata": {
    "colab": {
     "base_uri": "https://localhost:8080/"
    },
    "id": "mqhtgqHK4lFv",
    "outputId": "a0f2d5b6-abc2-48d4-b2e0-234b7a3725a6"
   },
   "outputs": [
    {
     "name": "stdout",
     "output_type": "stream",
     "text": [
      "Number of Columns in the Weather History Data frame: 12\n",
      "Number of records in the Weather History data frame: 95883\n"
     ]
    }
   ],
   "source": [
    "#Printing the shape of dataset after deleting Duplicates\n",
    "print(\"Number of Columns in the Weather History Data frame:\", weather_hist.shape[1])\n",
    "print(\"Number of records in the Weather History data frame:\", weather_hist.shape[0])"
   ]
  },
  {
   "cell_type": "code",
   "execution_count": 17,
   "metadata": {
    "id": "uMiTi0r75N_8"
   },
   "outputs": [],
   "source": [
    "# Remove the 'Daily Summary' column from the DataFrame\n",
    "weather_hist = weather_hist.drop('Daily Summary', axis=1)\n"
   ]
  },
  {
   "cell_type": "markdown",
   "metadata": {
    "id": "8XcfmeSQ45bY"
   },
   "source": [
    "\n",
    "Here are some reasons to justify deleting the 'Daily Summary' column from the entire dataset:\n",
    "\n",
    "Irrelevance for Analysis: The 'Daily Summary' column contains textual descriptions of daily weather summaries. If your analysis focuses more on numerical weather data (such as temperature, humidity, etc.) rather than descriptive summaries, keeping this column may not add value to your analysis.\n",
    "\n",
    "Reduced Memory Usage: Textual data can occupy more memory compared to numerical data. By removing the 'Daily Summary' column, you can reduce the overall memory usage of your dataset, which can be beneficial for large datasets or when working with memory-constrained environments.\n",
    "\n",
    "Simplicity and Focus: Removing irrelevant columns can simplify your dataset and focus your analysis on the key variables of interest. This can make your analysis more manageable and easier to interpret.\n",
    "\n",
    "Enhanced Performance: With fewer columns, operations on the dataset, such as calculations or transformations, may be faster and more efficient, leading to improved performance in data processing tasks.\n",
    "\n",
    "Consistency and Standardization: By removing a column that contains descriptive text, you can ensure that your dataset remains consistent in terms of data types (e.g., numeric data) and standardizes the format for easier processing and analysis."
   ]
  },
  {
   "cell_type": "code",
   "execution_count": 18,
   "metadata": {
    "colab": {
     "base_uri": "https://localhost:8080/"
    },
    "id": "W72XCOc5pdbd",
    "outputId": "83e2712f-2a4f-4938-cef5-5c88750ce6f1"
   },
   "outputs": [
    {
     "name": "stdout",
     "output_type": "stream",
     "text": [
      "Cloudy Skies    76035\n",
      "Clear Skies     10744\n",
      "Foggy Day        7155\n",
      "Breezy Day       1484\n",
      "Windy Day         155\n",
      "Dry Day           134\n",
      "Rainy Day         112\n",
      "Humid Day          64\n",
      "Name: Summary, dtype: int64\n"
     ]
    }
   ],
   "source": [
    "# Define a dictionary mapping current weather summaries to new categories\n",
    "weather_mapping = {\n",
    "   'Clear': 'Clear Skies',\n",
    "    'Partly Cloudy': 'Cloudy Skies',\n",
    "    'Mostly Cloudy': 'Cloudy Skies',\n",
    "    'Overcast': 'Cloudy Skies',\n",
    "    'Foggy': 'Foggy Day',\n",
    "    'Breezy and Foggy': 'Foggy Day',\n",
    "    'Windy and Foggy': 'Foggy Day',\n",
    "    'Breezy': 'Breezy Day',\n",
    "    'Breezy and Mostly Cloudy': 'Breezy Day',\n",
    "    'Breezy and Partly Cloudy': 'Breezy Day',\n",
    "    'Breezy and Overcast': 'Breezy Day',\n",
    "    'Windy': 'Windy Day',\n",
    "    'Windy and Mostly Cloudy': 'Windy Day',\n",
    "    'Windy and Partly Cloudy': 'Windy Day',\n",
    "    'Windy and Overcast': 'Windy Day',\n",
    "    'Humid and Mostly Cloudy': 'Humid Day',\n",
    "    'Humid and Partly Cloudy': 'Humid Day',\n",
    "    'Humid and Overcast': 'Humid Day',\n",
    "    'Dry': 'Dry Day',\n",
    "    'Dry and Mostly Cloudy': 'Dry Day',\n",
    "    'Dry and Partly Cloudy': 'Dry Day',\n",
    "    'Light Rain': 'Rainy Day',\n",
    "    'Drizzle': 'Rainy Day',\n",
    "    'Rain': 'Rainy Day'\n",
    "}\n",
    "\n",
    "# Create a new column 'Weather Category' based on the mapping\n",
    "weather_hist['Summary'] = weather_hist['Summary'].map(weather_mapping)\n",
    "\n",
    "# Display the value counts of the new column\n",
    "print(weather_hist['Summary'].value_counts())\n"
   ]
  },
  {
   "cell_type": "code",
   "execution_count": 19,
   "metadata": {
    "colab": {
     "base_uri": "https://localhost:8080/"
    },
    "id": "me7qz0rk4sgX",
    "outputId": "6b591fab-1180-48f1-a6d8-ba08ee82278e"
   },
   "outputs": [
    {
     "name": "stdout",
     "output_type": "stream",
     "text": [
      "<class 'pandas.core.frame.DataFrame'>\n",
      "Int64Index: 95883 entries, 0 to 96449\n",
      "Data columns (total 11 columns):\n",
      " #   Column                    Non-Null Count  Dtype  \n",
      "---  ------                    --------------  -----  \n",
      " 0   Formatted Date            95883 non-null  object \n",
      " 1   Summary                   95883 non-null  object \n",
      " 2   Precip Type               95883 non-null  object \n",
      " 3   Temperature (C)           95883 non-null  float64\n",
      " 4   Apparent Temperature (C)  95883 non-null  float64\n",
      " 5   Humidity                  95883 non-null  float64\n",
      " 6   Wind Speed (km/h)         95883 non-null  float64\n",
      " 7   Wind Bearing (degrees)    95883 non-null  int64  \n",
      " 8   Visibility (km)           95883 non-null  float64\n",
      " 9   Loud Cover                95883 non-null  int64  \n",
      " 10  Pressure (millibars)      95883 non-null  float64\n",
      "dtypes: float64(6), int64(2), object(3)\n",
      "memory usage: 8.8+ MB\n"
     ]
    }
   ],
   "source": [
    "# Verify the changes\n",
    "weather_hist.info()\n"
   ]
  },
  {
   "cell_type": "code",
   "execution_count": 20,
   "metadata": {
    "colab": {
     "base_uri": "https://localhost:8080/"
    },
    "id": "5ltDdvIC7RGy",
    "outputId": "6c1c78b1-a3a5-4638-d97a-f5141b62853f"
   },
   "outputs": [
    {
     "name": "stdout",
     "output_type": "stream",
     "text": [
      "Rows with invalid dates:\n",
      "Empty DataFrame\n",
      "Columns: [Formatted Date, is_valid_date]\n",
      "Index: []\n"
     ]
    }
   ],
   "source": [
    "from datetime import datetime\n",
    "\n",
    "# Define the format string for the date\n",
    "format_string = \"%Y-%m-%d %H:%M:%S.%f %z\"\n",
    "\n",
    "# Function to check if a value is in the correct format\n",
    "def check_date_format(value):\n",
    "    try:\n",
    "        datetime.strptime(value, format_string)\n",
    "        return True\n",
    "    except ValueError:\n",
    "        return False\n",
    "\n",
    "# Apply the function to each value in the 'Formatted Date' column and create a new column 'is_valid_date'\n",
    "weather_hist['is_valid_date'] = weather_hist['Formatted Date'].apply(check_date_format)\n",
    "\n",
    "# Filter the DataFrame to show only rows where 'is_valid_date' is False\n",
    "invalid_dates = weather_hist[~weather_hist['is_valid_date']]\n",
    "\n",
    "# Display the rows with invalid dates\n",
    "print(\"Rows with invalid dates:\")\n",
    "print(invalid_dates[['Formatted Date', 'is_valid_date']])\n"
   ]
  },
  {
   "cell_type": "code",
   "execution_count": 21,
   "metadata": {
    "colab": {
     "base_uri": "https://localhost:8080/",
     "height": 223
    },
    "id": "0DGH1_KG5vUA",
    "outputId": "81acebcc-ea22-491c-ae6e-787488a2e81d"
   },
   "outputs": [
    {
     "name": "stderr",
     "output_type": "stream",
     "text": [
      "C:\\Users\\student\\anaconda3\\lib\\site-packages\\scipy\\__init__.py:155: UserWarning: A NumPy version >=1.18.5 and <1.25.0 is required for this version of SciPy (detected version 1.26.4\n",
      "  warnings.warn(f\"A NumPy version >={np_minversion} and <{np_maxversion}\"\n"
     ]
    },
    {
     "name": "stdout",
     "output_type": "stream",
     "text": [
      "Weather History DataFrame:\n"
     ]
    },
    {
     "data": {
      "text/html": [
       "<div>\n",
       "<style scoped>\n",
       "    .dataframe tbody tr th:only-of-type {\n",
       "        vertical-align: middle;\n",
       "    }\n",
       "\n",
       "    .dataframe tbody tr th {\n",
       "        vertical-align: top;\n",
       "    }\n",
       "\n",
       "    .dataframe thead th {\n",
       "        text-align: right;\n",
       "    }\n",
       "</style>\n",
       "<table border=\"1\" class=\"dataframe\">\n",
       "  <thead>\n",
       "    <tr style=\"text-align: right;\">\n",
       "      <th></th>\n",
       "      <th>Summary</th>\n",
       "      <th>Precip Type</th>\n",
       "      <th>Summary_encoded</th>\n",
       "      <th>Precip Type_encoded</th>\n",
       "      <th>Year</th>\n",
       "      <th>Month</th>\n",
       "      <th>Day</th>\n",
       "      <th>Hour</th>\n",
       "    </tr>\n",
       "  </thead>\n",
       "  <tbody>\n",
       "    <tr>\n",
       "      <th>0</th>\n",
       "      <td>Cloudy Skies</td>\n",
       "      <td>rain</td>\n",
       "      <td>2</td>\n",
       "      <td>0</td>\n",
       "      <td>2006</td>\n",
       "      <td>3</td>\n",
       "      <td>31</td>\n",
       "      <td>22</td>\n",
       "    </tr>\n",
       "    <tr>\n",
       "      <th>1</th>\n",
       "      <td>Cloudy Skies</td>\n",
       "      <td>rain</td>\n",
       "      <td>2</td>\n",
       "      <td>0</td>\n",
       "      <td>2006</td>\n",
       "      <td>3</td>\n",
       "      <td>31</td>\n",
       "      <td>23</td>\n",
       "    </tr>\n",
       "    <tr>\n",
       "      <th>2</th>\n",
       "      <td>Cloudy Skies</td>\n",
       "      <td>rain</td>\n",
       "      <td>2</td>\n",
       "      <td>0</td>\n",
       "      <td>2006</td>\n",
       "      <td>4</td>\n",
       "      <td>1</td>\n",
       "      <td>0</td>\n",
       "    </tr>\n",
       "    <tr>\n",
       "      <th>3</th>\n",
       "      <td>Cloudy Skies</td>\n",
       "      <td>rain</td>\n",
       "      <td>2</td>\n",
       "      <td>0</td>\n",
       "      <td>2006</td>\n",
       "      <td>4</td>\n",
       "      <td>1</td>\n",
       "      <td>1</td>\n",
       "    </tr>\n",
       "    <tr>\n",
       "      <th>4</th>\n",
       "      <td>Cloudy Skies</td>\n",
       "      <td>rain</td>\n",
       "      <td>2</td>\n",
       "      <td>0</td>\n",
       "      <td>2006</td>\n",
       "      <td>4</td>\n",
       "      <td>1</td>\n",
       "      <td>2</td>\n",
       "    </tr>\n",
       "  </tbody>\n",
       "</table>\n",
       "</div>"
      ],
      "text/plain": [
       "        Summary Precip Type  Summary_encoded  Precip Type_encoded  Year  \\\n",
       "0  Cloudy Skies        rain                2                    0  2006   \n",
       "1  Cloudy Skies        rain                2                    0  2006   \n",
       "2  Cloudy Skies        rain                2                    0  2006   \n",
       "3  Cloudy Skies        rain                2                    0  2006   \n",
       "4  Cloudy Skies        rain                2                    0  2006   \n",
       "\n",
       "   Month  Day  Hour  \n",
       "0      3   31    22  \n",
       "1      3   31    23  \n",
       "2      4    1     0  \n",
       "3      4    1     1  \n",
       "4      4    1     2  "
      ]
     },
     "execution_count": 21,
     "metadata": {},
     "output_type": "execute_result"
    }
   ],
   "source": [
    "from sklearn.preprocessing import LabelEncoder\n",
    "\n",
    "# Initialize LabelEncoder\n",
    "label_encoder = LabelEncoder()\n",
    "\n",
    "# Label encode object columns\n",
    "object_columns = ['Summary', 'Precip Type']\n",
    "for col in object_columns:\n",
    "    weather_hist[col+'_encoded'] = label_encoder.fit_transform(weather_hist[col])\n",
    "\n",
    "# Convert 'Formatted Date' to datetime format with utc=True\n",
    "weather_hist['Formatted Date'] = pd.to_datetime(weather_hist['Formatted Date'], utc=True)\n",
    "\n",
    "# Extract year, month, day, and hour\n",
    "weather_hist['Year'] = weather_hist['Formatted Date'].dt.year\n",
    "weather_hist['Month'] = weather_hist['Formatted Date'].dt.month\n",
    "weather_hist['Day'] = weather_hist['Formatted Date'].dt.day\n",
    "weather_hist['Hour'] = weather_hist['Formatted Date'].dt.hour\n",
    "\n",
    "# Create dictionaries for mapping encoded values to original labels\n",
    "summary_mapping = dict(zip(weather_hist['Summary_encoded'], weather_hist['Summary']))\n",
    "precip_mapping = dict(zip(weather_hist['Precip Type_encoded'], weather_hist['Precip Type']))\n",
    "\n",
    "# Display the updated DataFrame and the mapping dictionaries\n",
    "print(\"Weather History DataFrame:\")\n",
    "weather_hist[['Summary', 'Precip Type', 'Summary_encoded', 'Precip Type_encoded', 'Year', 'Month', 'Day', 'Hour']].head()\n",
    "\n"
   ]
  },
  {
   "cell_type": "code",
   "execution_count": null,
   "metadata": {
    "id": "gX7DT0WNocOX"
   },
   "outputs": [],
   "source": []
  },
  {
   "cell_type": "code",
   "execution_count": 22,
   "metadata": {
    "colab": {
     "base_uri": "https://localhost:8080/",
     "height": 652
    },
    "id": "Kgwh6WnCE4iC",
    "outputId": "23b3fd8e-bc81-4d6b-cf36-8e6c8eac51d3"
   },
   "outputs": [
    {
     "data": {
      "text/html": [
       "<div>\n",
       "<style scoped>\n",
       "    .dataframe tbody tr th:only-of-type {\n",
       "        vertical-align: middle;\n",
       "    }\n",
       "\n",
       "    .dataframe tbody tr th {\n",
       "        vertical-align: top;\n",
       "    }\n",
       "\n",
       "    .dataframe thead th {\n",
       "        text-align: right;\n",
       "    }\n",
       "</style>\n",
       "<table border=\"1\" class=\"dataframe\">\n",
       "  <thead>\n",
       "    <tr style=\"text-align: right;\">\n",
       "      <th></th>\n",
       "      <th>Formatted Date</th>\n",
       "      <th>Summary</th>\n",
       "      <th>Precip Type</th>\n",
       "      <th>Temperature (C)</th>\n",
       "      <th>Apparent Temperature (C)</th>\n",
       "      <th>Humidity</th>\n",
       "      <th>Wind Speed (km/h)</th>\n",
       "      <th>Wind Bearing (degrees)</th>\n",
       "      <th>Visibility (km)</th>\n",
       "      <th>Loud Cover</th>\n",
       "      <th>Pressure (millibars)</th>\n",
       "      <th>is_valid_date</th>\n",
       "      <th>Summary_encoded</th>\n",
       "      <th>Precip Type_encoded</th>\n",
       "      <th>Year</th>\n",
       "      <th>Month</th>\n",
       "      <th>Day</th>\n",
       "      <th>Hour</th>\n",
       "    </tr>\n",
       "  </thead>\n",
       "  <tbody>\n",
       "    <tr>\n",
       "      <th>0</th>\n",
       "      <td>2006-03-31 22:00:00+00:00</td>\n",
       "      <td>Cloudy Skies</td>\n",
       "      <td>rain</td>\n",
       "      <td>9.472222</td>\n",
       "      <td>7.388889</td>\n",
       "      <td>0.89</td>\n",
       "      <td>14.1197</td>\n",
       "      <td>251</td>\n",
       "      <td>15.8263</td>\n",
       "      <td>0</td>\n",
       "      <td>1015.13</td>\n",
       "      <td>True</td>\n",
       "      <td>2</td>\n",
       "      <td>0</td>\n",
       "      <td>2006</td>\n",
       "      <td>3</td>\n",
       "      <td>31</td>\n",
       "      <td>22</td>\n",
       "    </tr>\n",
       "    <tr>\n",
       "      <th>1</th>\n",
       "      <td>2006-03-31 23:00:00+00:00</td>\n",
       "      <td>Cloudy Skies</td>\n",
       "      <td>rain</td>\n",
       "      <td>9.355556</td>\n",
       "      <td>7.227778</td>\n",
       "      <td>0.86</td>\n",
       "      <td>14.2646</td>\n",
       "      <td>259</td>\n",
       "      <td>15.8263</td>\n",
       "      <td>0</td>\n",
       "      <td>1015.63</td>\n",
       "      <td>True</td>\n",
       "      <td>2</td>\n",
       "      <td>0</td>\n",
       "      <td>2006</td>\n",
       "      <td>3</td>\n",
       "      <td>31</td>\n",
       "      <td>23</td>\n",
       "    </tr>\n",
       "    <tr>\n",
       "      <th>2</th>\n",
       "      <td>2006-04-01 00:00:00+00:00</td>\n",
       "      <td>Cloudy Skies</td>\n",
       "      <td>rain</td>\n",
       "      <td>9.377778</td>\n",
       "      <td>9.377778</td>\n",
       "      <td>0.89</td>\n",
       "      <td>3.9284</td>\n",
       "      <td>204</td>\n",
       "      <td>14.9569</td>\n",
       "      <td>0</td>\n",
       "      <td>1015.94</td>\n",
       "      <td>True</td>\n",
       "      <td>2</td>\n",
       "      <td>0</td>\n",
       "      <td>2006</td>\n",
       "      <td>4</td>\n",
       "      <td>1</td>\n",
       "      <td>0</td>\n",
       "    </tr>\n",
       "    <tr>\n",
       "      <th>3</th>\n",
       "      <td>2006-04-01 01:00:00+00:00</td>\n",
       "      <td>Cloudy Skies</td>\n",
       "      <td>rain</td>\n",
       "      <td>8.288889</td>\n",
       "      <td>5.944444</td>\n",
       "      <td>0.83</td>\n",
       "      <td>14.1036</td>\n",
       "      <td>269</td>\n",
       "      <td>15.8263</td>\n",
       "      <td>0</td>\n",
       "      <td>1016.41</td>\n",
       "      <td>True</td>\n",
       "      <td>2</td>\n",
       "      <td>0</td>\n",
       "      <td>2006</td>\n",
       "      <td>4</td>\n",
       "      <td>1</td>\n",
       "      <td>1</td>\n",
       "    </tr>\n",
       "    <tr>\n",
       "      <th>4</th>\n",
       "      <td>2006-04-01 02:00:00+00:00</td>\n",
       "      <td>Cloudy Skies</td>\n",
       "      <td>rain</td>\n",
       "      <td>8.755556</td>\n",
       "      <td>6.977778</td>\n",
       "      <td>0.83</td>\n",
       "      <td>11.0446</td>\n",
       "      <td>259</td>\n",
       "      <td>15.8263</td>\n",
       "      <td>0</td>\n",
       "      <td>1016.51</td>\n",
       "      <td>True</td>\n",
       "      <td>2</td>\n",
       "      <td>0</td>\n",
       "      <td>2006</td>\n",
       "      <td>4</td>\n",
       "      <td>1</td>\n",
       "      <td>2</td>\n",
       "    </tr>\n",
       "    <tr>\n",
       "      <th>...</th>\n",
       "      <td>...</td>\n",
       "      <td>...</td>\n",
       "      <td>...</td>\n",
       "      <td>...</td>\n",
       "      <td>...</td>\n",
       "      <td>...</td>\n",
       "      <td>...</td>\n",
       "      <td>...</td>\n",
       "      <td>...</td>\n",
       "      <td>...</td>\n",
       "      <td>...</td>\n",
       "      <td>...</td>\n",
       "      <td>...</td>\n",
       "      <td>...</td>\n",
       "      <td>...</td>\n",
       "      <td>...</td>\n",
       "      <td>...</td>\n",
       "      <td>...</td>\n",
       "    </tr>\n",
       "    <tr>\n",
       "      <th>96445</th>\n",
       "      <td>2016-09-09 17:00:00+00:00</td>\n",
       "      <td>Cloudy Skies</td>\n",
       "      <td>rain</td>\n",
       "      <td>26.016667</td>\n",
       "      <td>26.016667</td>\n",
       "      <td>0.43</td>\n",
       "      <td>10.9963</td>\n",
       "      <td>31</td>\n",
       "      <td>16.1000</td>\n",
       "      <td>0</td>\n",
       "      <td>1014.36</td>\n",
       "      <td>True</td>\n",
       "      <td>2</td>\n",
       "      <td>0</td>\n",
       "      <td>2016</td>\n",
       "      <td>9</td>\n",
       "      <td>9</td>\n",
       "      <td>17</td>\n",
       "    </tr>\n",
       "    <tr>\n",
       "      <th>96446</th>\n",
       "      <td>2016-09-09 18:00:00+00:00</td>\n",
       "      <td>Cloudy Skies</td>\n",
       "      <td>rain</td>\n",
       "      <td>24.583333</td>\n",
       "      <td>24.583333</td>\n",
       "      <td>0.48</td>\n",
       "      <td>10.0947</td>\n",
       "      <td>20</td>\n",
       "      <td>15.5526</td>\n",
       "      <td>0</td>\n",
       "      <td>1015.16</td>\n",
       "      <td>True</td>\n",
       "      <td>2</td>\n",
       "      <td>0</td>\n",
       "      <td>2016</td>\n",
       "      <td>9</td>\n",
       "      <td>9</td>\n",
       "      <td>18</td>\n",
       "    </tr>\n",
       "    <tr>\n",
       "      <th>96447</th>\n",
       "      <td>2016-09-09 19:00:00+00:00</td>\n",
       "      <td>Cloudy Skies</td>\n",
       "      <td>rain</td>\n",
       "      <td>22.038889</td>\n",
       "      <td>22.038889</td>\n",
       "      <td>0.56</td>\n",
       "      <td>8.9838</td>\n",
       "      <td>30</td>\n",
       "      <td>16.1000</td>\n",
       "      <td>0</td>\n",
       "      <td>1015.66</td>\n",
       "      <td>True</td>\n",
       "      <td>2</td>\n",
       "      <td>0</td>\n",
       "      <td>2016</td>\n",
       "      <td>9</td>\n",
       "      <td>9</td>\n",
       "      <td>19</td>\n",
       "    </tr>\n",
       "    <tr>\n",
       "      <th>96448</th>\n",
       "      <td>2016-09-09 20:00:00+00:00</td>\n",
       "      <td>Cloudy Skies</td>\n",
       "      <td>rain</td>\n",
       "      <td>21.522222</td>\n",
       "      <td>21.522222</td>\n",
       "      <td>0.60</td>\n",
       "      <td>10.5294</td>\n",
       "      <td>20</td>\n",
       "      <td>16.1000</td>\n",
       "      <td>0</td>\n",
       "      <td>1015.95</td>\n",
       "      <td>True</td>\n",
       "      <td>2</td>\n",
       "      <td>0</td>\n",
       "      <td>2016</td>\n",
       "      <td>9</td>\n",
       "      <td>9</td>\n",
       "      <td>20</td>\n",
       "    </tr>\n",
       "    <tr>\n",
       "      <th>96449</th>\n",
       "      <td>2016-09-09 21:00:00+00:00</td>\n",
       "      <td>Cloudy Skies</td>\n",
       "      <td>rain</td>\n",
       "      <td>20.438889</td>\n",
       "      <td>20.438889</td>\n",
       "      <td>0.61</td>\n",
       "      <td>5.8765</td>\n",
       "      <td>39</td>\n",
       "      <td>15.5204</td>\n",
       "      <td>0</td>\n",
       "      <td>1016.16</td>\n",
       "      <td>True</td>\n",
       "      <td>2</td>\n",
       "      <td>0</td>\n",
       "      <td>2016</td>\n",
       "      <td>9</td>\n",
       "      <td>9</td>\n",
       "      <td>21</td>\n",
       "    </tr>\n",
       "  </tbody>\n",
       "</table>\n",
       "<p>95883 rows × 18 columns</p>\n",
       "</div>"
      ],
      "text/plain": [
       "                 Formatted Date       Summary Precip Type  Temperature (C)  \\\n",
       "0     2006-03-31 22:00:00+00:00  Cloudy Skies        rain         9.472222   \n",
       "1     2006-03-31 23:00:00+00:00  Cloudy Skies        rain         9.355556   \n",
       "2     2006-04-01 00:00:00+00:00  Cloudy Skies        rain         9.377778   \n",
       "3     2006-04-01 01:00:00+00:00  Cloudy Skies        rain         8.288889   \n",
       "4     2006-04-01 02:00:00+00:00  Cloudy Skies        rain         8.755556   \n",
       "...                         ...           ...         ...              ...   \n",
       "96445 2016-09-09 17:00:00+00:00  Cloudy Skies        rain        26.016667   \n",
       "96446 2016-09-09 18:00:00+00:00  Cloudy Skies        rain        24.583333   \n",
       "96447 2016-09-09 19:00:00+00:00  Cloudy Skies        rain        22.038889   \n",
       "96448 2016-09-09 20:00:00+00:00  Cloudy Skies        rain        21.522222   \n",
       "96449 2016-09-09 21:00:00+00:00  Cloudy Skies        rain        20.438889   \n",
       "\n",
       "       Apparent Temperature (C)  Humidity  Wind Speed (km/h)  \\\n",
       "0                      7.388889      0.89            14.1197   \n",
       "1                      7.227778      0.86            14.2646   \n",
       "2                      9.377778      0.89             3.9284   \n",
       "3                      5.944444      0.83            14.1036   \n",
       "4                      6.977778      0.83            11.0446   \n",
       "...                         ...       ...                ...   \n",
       "96445                 26.016667      0.43            10.9963   \n",
       "96446                 24.583333      0.48            10.0947   \n",
       "96447                 22.038889      0.56             8.9838   \n",
       "96448                 21.522222      0.60            10.5294   \n",
       "96449                 20.438889      0.61             5.8765   \n",
       "\n",
       "       Wind Bearing (degrees)  Visibility (km)  Loud Cover  \\\n",
       "0                         251          15.8263           0   \n",
       "1                         259          15.8263           0   \n",
       "2                         204          14.9569           0   \n",
       "3                         269          15.8263           0   \n",
       "4                         259          15.8263           0   \n",
       "...                       ...              ...         ...   \n",
       "96445                      31          16.1000           0   \n",
       "96446                      20          15.5526           0   \n",
       "96447                      30          16.1000           0   \n",
       "96448                      20          16.1000           0   \n",
       "96449                      39          15.5204           0   \n",
       "\n",
       "       Pressure (millibars)  is_valid_date  Summary_encoded  \\\n",
       "0                   1015.13           True                2   \n",
       "1                   1015.63           True                2   \n",
       "2                   1015.94           True                2   \n",
       "3                   1016.41           True                2   \n",
       "4                   1016.51           True                2   \n",
       "...                     ...            ...              ...   \n",
       "96445               1014.36           True                2   \n",
       "96446               1015.16           True                2   \n",
       "96447               1015.66           True                2   \n",
       "96448               1015.95           True                2   \n",
       "96449               1016.16           True                2   \n",
       "\n",
       "       Precip Type_encoded  Year  Month  Day  Hour  \n",
       "0                        0  2006      3   31    22  \n",
       "1                        0  2006      3   31    23  \n",
       "2                        0  2006      4    1     0  \n",
       "3                        0  2006      4    1     1  \n",
       "4                        0  2006      4    1     2  \n",
       "...                    ...   ...    ...  ...   ...  \n",
       "96445                    0  2016      9    9    17  \n",
       "96446                    0  2016      9    9    18  \n",
       "96447                    0  2016      9    9    19  \n",
       "96448                    0  2016      9    9    20  \n",
       "96449                    0  2016      9    9    21  \n",
       "\n",
       "[95883 rows x 18 columns]"
      ]
     },
     "execution_count": 22,
     "metadata": {},
     "output_type": "execute_result"
    }
   ],
   "source": [
    "weather_hist"
   ]
  },
  {
   "cell_type": "code",
   "execution_count": 23,
   "metadata": {
    "colab": {
     "base_uri": "https://localhost:8080/"
    },
    "id": "_4gWihDRE5b0",
    "outputId": "562767db-0c83-4c2c-f93a-cfc484d8dd3b"
   },
   "outputs": [
    {
     "name": "stdout",
     "output_type": "stream",
     "text": [
      "\n",
      "Summary Mapping:\n"
     ]
    },
    {
     "data": {
      "text/plain": [
       "{2: 'Cloudy Skies',\n",
       " 4: 'Foggy Day',\n",
       " 0: 'Breezy Day',\n",
       " 1: 'Clear Skies',\n",
       " 5: 'Humid Day',\n",
       " 7: 'Windy Day',\n",
       " 3: 'Dry Day',\n",
       " 6: 'Rainy Day'}"
      ]
     },
     "execution_count": 23,
     "metadata": {},
     "output_type": "execute_result"
    }
   ],
   "source": [
    "print(\"\\nSummary Mapping:\")\n",
    "\n",
    "summary_mapping"
   ]
  },
  {
   "cell_type": "code",
   "execution_count": 24,
   "metadata": {
    "colab": {
     "base_uri": "https://localhost:8080/"
    },
    "id": "_ezx4WXUJEYs",
    "outputId": "31890a1f-495c-40de-fe27-93f6c49bc875"
   },
   "outputs": [
    {
     "data": {
      "text/plain": [
       "Cloudy Skies    76035\n",
       "Clear Skies     10744\n",
       "Foggy Day        7155\n",
       "Breezy Day       1484\n",
       "Windy Day         155\n",
       "Dry Day           134\n",
       "Rainy Day         112\n",
       "Humid Day          64\n",
       "Name: Summary, dtype: int64"
      ]
     },
     "execution_count": 24,
     "metadata": {},
     "output_type": "execute_result"
    }
   ],
   "source": [
    "weather_hist['Summary'].value_counts()"
   ]
  },
  {
   "cell_type": "code",
   "execution_count": 25,
   "metadata": {
    "colab": {
     "base_uri": "https://localhost:8080/"
    },
    "id": "qHskC-paE5gg",
    "outputId": "79edbba9-50f1-4edf-8a6f-6746ac394358"
   },
   "outputs": [
    {
     "name": "stdout",
     "output_type": "stream",
     "text": [
      "\n",
      "Precip Type Mapping:\n"
     ]
    },
    {
     "data": {
      "text/plain": [
       "{0: 'rain', 1: 'snow'}"
      ]
     },
     "execution_count": 25,
     "metadata": {},
     "output_type": "execute_result"
    }
   ],
   "source": [
    "print(\"\\nPrecip Type Mapping:\")\n",
    "\n",
    "\n",
    "precip_mapping"
   ]
  },
  {
   "cell_type": "code",
   "execution_count": 26,
   "metadata": {
    "colab": {
     "base_uri": "https://localhost:8080/"
    },
    "id": "f-iiRpjeCm-T",
    "outputId": "b382594d-1302-4c9a-c75a-e1f17e8bbf33"
   },
   "outputs": [
    {
     "name": "stdout",
     "output_type": "stream",
     "text": [
      "Summary Mapping Index:\n",
      "Index(['Cloudy Skies', 'Foggy Day', 'Breezy Day', 'Clear Skies', 'Humid Day',\n",
      "       'Windy Day', 'Dry Day', 'Rainy Day'],\n",
      "      dtype='object')\n",
      "\n",
      "Precip Type Mapping Index:\n",
      "Index(['rain', 'snow'], dtype='object')\n"
     ]
    }
   ],
   "source": [
    "# Assuming 'weather_hist' is your DataFrame\n",
    "\n",
    "# Use factorize to encode 'Summary' and 'Precip Type' columns\n",
    "weather_hist['Summary_encoded'], summary_mapping_index = weather_hist['Summary'].factorize()\n",
    "weather_hist['Precip Type_encoded'], precip_mapping_index = weather_hist['Precip Type'].factorize()\n",
    "\n",
    "# Display the mapping indexes\n",
    "print(\"Summary Mapping Index:\")\n",
    "print(summary_mapping_index)\n",
    "\n",
    "print(\"\\nPrecip Type Mapping Index:\")\n",
    "print(precip_mapping_index)\n"
   ]
  },
  {
   "cell_type": "code",
   "execution_count": 27,
   "metadata": {
    "colab": {
     "base_uri": "https://localhost:8080/"
    },
    "id": "JzmSI0tsDrIP",
    "outputId": "df8d3a4b-b808-489e-fd81-882ae0bf2fe5"
   },
   "outputs": [
    {
     "name": "stdout",
     "output_type": "stream",
     "text": [
      "Unique values in 'Summary' column before encoding:\n",
      "['Cloudy Skies' 'Foggy Day' 'Breezy Day' 'Clear Skies' 'Humid Day'\n",
      " 'Windy Day' 'Dry Day' 'Rainy Day']\n",
      "\n",
      "Unique values in 'Precip Type' column before encoding:\n",
      "['rain' 'snow']\n"
     ]
    }
   ],
   "source": [
    "# Assuming df is your DataFrame\n",
    "\n",
    "# Get the unique values in the 'Summary' column before encoding\n",
    "summary_unique_values = weather_hist['Summary'].unique()\n",
    "\n",
    "# Get the unique values in the 'Precip Type' column before encoding\n",
    "precip_unique_values = weather_hist['Precip Type'].unique()\n",
    "\n",
    "# Display the unique values\n",
    "print(\"Unique values in 'Summary' column before encoding:\")\n",
    "print(summary_unique_values)\n",
    "\n",
    "print(\"\\nUnique values in 'Precip Type' column before encoding:\")\n",
    "print(precip_unique_values)\n"
   ]
  },
  {
   "cell_type": "code",
   "execution_count": 28,
   "metadata": {
    "colab": {
     "base_uri": "https://localhost:8080/",
     "height": 278
    },
    "id": "JYcYFdxqG8y9",
    "outputId": "9b640255-320c-47db-c714-1e45b26fde4d"
   },
   "outputs": [
    {
     "name": "stdout",
     "output_type": "stream",
     "text": [
      "Encoded Weather History DataFrame:\n"
     ]
    },
    {
     "data": {
      "text/html": [
       "<div>\n",
       "<style scoped>\n",
       "    .dataframe tbody tr th:only-of-type {\n",
       "        vertical-align: middle;\n",
       "    }\n",
       "\n",
       "    .dataframe tbody tr th {\n",
       "        vertical-align: top;\n",
       "    }\n",
       "\n",
       "    .dataframe thead th {\n",
       "        text-align: right;\n",
       "    }\n",
       "</style>\n",
       "<table border=\"1\" class=\"dataframe\">\n",
       "  <thead>\n",
       "    <tr style=\"text-align: right;\">\n",
       "      <th></th>\n",
       "      <th>Temperature (C)</th>\n",
       "      <th>Apparent Temperature (C)</th>\n",
       "      <th>Humidity</th>\n",
       "      <th>Wind Speed (km/h)</th>\n",
       "      <th>Wind Bearing (degrees)</th>\n",
       "      <th>Visibility (km)</th>\n",
       "      <th>Loud Cover</th>\n",
       "      <th>Pressure (millibars)</th>\n",
       "      <th>is_valid_date</th>\n",
       "      <th>Summary_encoded</th>\n",
       "      <th>Precip Type_encoded</th>\n",
       "      <th>Year</th>\n",
       "      <th>Month</th>\n",
       "      <th>Day</th>\n",
       "      <th>Hour</th>\n",
       "    </tr>\n",
       "  </thead>\n",
       "  <tbody>\n",
       "    <tr>\n",
       "      <th>0</th>\n",
       "      <td>9.472222</td>\n",
       "      <td>7.388889</td>\n",
       "      <td>0.89</td>\n",
       "      <td>14.1197</td>\n",
       "      <td>251</td>\n",
       "      <td>15.8263</td>\n",
       "      <td>0</td>\n",
       "      <td>1015.13</td>\n",
       "      <td>True</td>\n",
       "      <td>0</td>\n",
       "      <td>0</td>\n",
       "      <td>2006</td>\n",
       "      <td>3</td>\n",
       "      <td>31</td>\n",
       "      <td>22</td>\n",
       "    </tr>\n",
       "    <tr>\n",
       "      <th>1</th>\n",
       "      <td>9.355556</td>\n",
       "      <td>7.227778</td>\n",
       "      <td>0.86</td>\n",
       "      <td>14.2646</td>\n",
       "      <td>259</td>\n",
       "      <td>15.8263</td>\n",
       "      <td>0</td>\n",
       "      <td>1015.63</td>\n",
       "      <td>True</td>\n",
       "      <td>0</td>\n",
       "      <td>0</td>\n",
       "      <td>2006</td>\n",
       "      <td>3</td>\n",
       "      <td>31</td>\n",
       "      <td>23</td>\n",
       "    </tr>\n",
       "    <tr>\n",
       "      <th>2</th>\n",
       "      <td>9.377778</td>\n",
       "      <td>9.377778</td>\n",
       "      <td>0.89</td>\n",
       "      <td>3.9284</td>\n",
       "      <td>204</td>\n",
       "      <td>14.9569</td>\n",
       "      <td>0</td>\n",
       "      <td>1015.94</td>\n",
       "      <td>True</td>\n",
       "      <td>0</td>\n",
       "      <td>0</td>\n",
       "      <td>2006</td>\n",
       "      <td>4</td>\n",
       "      <td>1</td>\n",
       "      <td>0</td>\n",
       "    </tr>\n",
       "    <tr>\n",
       "      <th>3</th>\n",
       "      <td>8.288889</td>\n",
       "      <td>5.944444</td>\n",
       "      <td>0.83</td>\n",
       "      <td>14.1036</td>\n",
       "      <td>269</td>\n",
       "      <td>15.8263</td>\n",
       "      <td>0</td>\n",
       "      <td>1016.41</td>\n",
       "      <td>True</td>\n",
       "      <td>0</td>\n",
       "      <td>0</td>\n",
       "      <td>2006</td>\n",
       "      <td>4</td>\n",
       "      <td>1</td>\n",
       "      <td>1</td>\n",
       "    </tr>\n",
       "    <tr>\n",
       "      <th>4</th>\n",
       "      <td>8.755556</td>\n",
       "      <td>6.977778</td>\n",
       "      <td>0.83</td>\n",
       "      <td>11.0446</td>\n",
       "      <td>259</td>\n",
       "      <td>15.8263</td>\n",
       "      <td>0</td>\n",
       "      <td>1016.51</td>\n",
       "      <td>True</td>\n",
       "      <td>0</td>\n",
       "      <td>0</td>\n",
       "      <td>2006</td>\n",
       "      <td>4</td>\n",
       "      <td>1</td>\n",
       "      <td>2</td>\n",
       "    </tr>\n",
       "  </tbody>\n",
       "</table>\n",
       "</div>"
      ],
      "text/plain": [
       "   Temperature (C)  Apparent Temperature (C)  Humidity  Wind Speed (km/h)  \\\n",
       "0         9.472222                  7.388889      0.89            14.1197   \n",
       "1         9.355556                  7.227778      0.86            14.2646   \n",
       "2         9.377778                  9.377778      0.89             3.9284   \n",
       "3         8.288889                  5.944444      0.83            14.1036   \n",
       "4         8.755556                  6.977778      0.83            11.0446   \n",
       "\n",
       "   Wind Bearing (degrees)  Visibility (km)  Loud Cover  Pressure (millibars)  \\\n",
       "0                     251          15.8263           0               1015.13   \n",
       "1                     259          15.8263           0               1015.63   \n",
       "2                     204          14.9569           0               1015.94   \n",
       "3                     269          15.8263           0               1016.41   \n",
       "4                     259          15.8263           0               1016.51   \n",
       "\n",
       "   is_valid_date  Summary_encoded  Precip Type_encoded  Year  Month  Day  Hour  \n",
       "0           True                0                    0  2006      3   31    22  \n",
       "1           True                0                    0  2006      3   31    23  \n",
       "2           True                0                    0  2006      4    1     0  \n",
       "3           True                0                    0  2006      4    1     1  \n",
       "4           True                0                    0  2006      4    1     2  "
      ]
     },
     "execution_count": 28,
     "metadata": {},
     "output_type": "execute_result"
    }
   ],
   "source": [
    "# Drop original categorical columns\n",
    "weather_hist = weather_hist.drop(columns=['Summary', 'Precip Type', 'Formatted Date'])\n",
    "\n",
    "# Display the updated DataFrame\n",
    "print(\"Encoded Weather History DataFrame:\")\n",
    "weather_hist.head()\n"
   ]
  },
  {
   "cell_type": "code",
   "execution_count": 29,
   "metadata": {
    "colab": {
     "base_uri": "https://localhost:8080/"
    },
    "id": "MdwLBWPr6eho",
    "outputId": "442b2c2a-6990-42a2-e518-eba9108632a8"
   },
   "outputs": [
    {
     "data": {
      "text/plain": [
       "0"
      ]
     },
     "execution_count": 29,
     "metadata": {},
     "output_type": "execute_result"
    }
   ],
   "source": [
    "weather_hist['is_valid_date'].value_counts().get(False, 0)\n"
   ]
  },
  {
   "cell_type": "code",
   "execution_count": 30,
   "metadata": {
    "colab": {
     "base_uri": "https://localhost:8080/"
    },
    "id": "XrSDVP6iADCD",
    "outputId": "b78d314d-58df-4676-a32b-4ae55bd7c78f"
   },
   "outputs": [
    {
     "data": {
      "text/plain": [
       "(95883, 15)"
      ]
     },
     "execution_count": 30,
     "metadata": {},
     "output_type": "execute_result"
    }
   ],
   "source": [
    "weather_hist.shape"
   ]
  },
  {
   "cell_type": "code",
   "execution_count": 31,
   "metadata": {
    "colab": {
     "base_uri": "https://localhost:8080/",
     "height": 261
    },
    "id": "C0BYQuZ8BwbF",
    "outputId": "d641b20e-017f-468a-ebd9-6ce37703e8f4"
   },
   "outputs": [
    {
     "data": {
      "text/html": [
       "<div>\n",
       "<style scoped>\n",
       "    .dataframe tbody tr th:only-of-type {\n",
       "        vertical-align: middle;\n",
       "    }\n",
       "\n",
       "    .dataframe tbody tr th {\n",
       "        vertical-align: top;\n",
       "    }\n",
       "\n",
       "    .dataframe thead th {\n",
       "        text-align: right;\n",
       "    }\n",
       "</style>\n",
       "<table border=\"1\" class=\"dataframe\">\n",
       "  <thead>\n",
       "    <tr style=\"text-align: right;\">\n",
       "      <th></th>\n",
       "      <th>Temperature (C)</th>\n",
       "      <th>Apparent Temperature (C)</th>\n",
       "      <th>Humidity</th>\n",
       "      <th>Wind Speed (km/h)</th>\n",
       "      <th>Wind Bearing (degrees)</th>\n",
       "      <th>Visibility (km)</th>\n",
       "      <th>Loud Cover</th>\n",
       "      <th>Pressure (millibars)</th>\n",
       "      <th>Summary_encoded</th>\n",
       "      <th>Precip Type_encoded</th>\n",
       "      <th>Year</th>\n",
       "      <th>Month</th>\n",
       "      <th>Day</th>\n",
       "      <th>Hour</th>\n",
       "    </tr>\n",
       "  </thead>\n",
       "  <tbody>\n",
       "    <tr>\n",
       "      <th>0</th>\n",
       "      <td>9.472222</td>\n",
       "      <td>7.388889</td>\n",
       "      <td>0.89</td>\n",
       "      <td>14.1197</td>\n",
       "      <td>251</td>\n",
       "      <td>15.8263</td>\n",
       "      <td>0</td>\n",
       "      <td>1015.13</td>\n",
       "      <td>0</td>\n",
       "      <td>0</td>\n",
       "      <td>2006</td>\n",
       "      <td>3</td>\n",
       "      <td>31</td>\n",
       "      <td>22</td>\n",
       "    </tr>\n",
       "    <tr>\n",
       "      <th>1</th>\n",
       "      <td>9.355556</td>\n",
       "      <td>7.227778</td>\n",
       "      <td>0.86</td>\n",
       "      <td>14.2646</td>\n",
       "      <td>259</td>\n",
       "      <td>15.8263</td>\n",
       "      <td>0</td>\n",
       "      <td>1015.63</td>\n",
       "      <td>0</td>\n",
       "      <td>0</td>\n",
       "      <td>2006</td>\n",
       "      <td>3</td>\n",
       "      <td>31</td>\n",
       "      <td>23</td>\n",
       "    </tr>\n",
       "    <tr>\n",
       "      <th>2</th>\n",
       "      <td>9.377778</td>\n",
       "      <td>9.377778</td>\n",
       "      <td>0.89</td>\n",
       "      <td>3.9284</td>\n",
       "      <td>204</td>\n",
       "      <td>14.9569</td>\n",
       "      <td>0</td>\n",
       "      <td>1015.94</td>\n",
       "      <td>0</td>\n",
       "      <td>0</td>\n",
       "      <td>2006</td>\n",
       "      <td>4</td>\n",
       "      <td>1</td>\n",
       "      <td>0</td>\n",
       "    </tr>\n",
       "    <tr>\n",
       "      <th>3</th>\n",
       "      <td>8.288889</td>\n",
       "      <td>5.944444</td>\n",
       "      <td>0.83</td>\n",
       "      <td>14.1036</td>\n",
       "      <td>269</td>\n",
       "      <td>15.8263</td>\n",
       "      <td>0</td>\n",
       "      <td>1016.41</td>\n",
       "      <td>0</td>\n",
       "      <td>0</td>\n",
       "      <td>2006</td>\n",
       "      <td>4</td>\n",
       "      <td>1</td>\n",
       "      <td>1</td>\n",
       "    </tr>\n",
       "    <tr>\n",
       "      <th>4</th>\n",
       "      <td>8.755556</td>\n",
       "      <td>6.977778</td>\n",
       "      <td>0.83</td>\n",
       "      <td>11.0446</td>\n",
       "      <td>259</td>\n",
       "      <td>15.8263</td>\n",
       "      <td>0</td>\n",
       "      <td>1016.51</td>\n",
       "      <td>0</td>\n",
       "      <td>0</td>\n",
       "      <td>2006</td>\n",
       "      <td>4</td>\n",
       "      <td>1</td>\n",
       "      <td>2</td>\n",
       "    </tr>\n",
       "  </tbody>\n",
       "</table>\n",
       "</div>"
      ],
      "text/plain": [
       "   Temperature (C)  Apparent Temperature (C)  Humidity  Wind Speed (km/h)  \\\n",
       "0         9.472222                  7.388889      0.89            14.1197   \n",
       "1         9.355556                  7.227778      0.86            14.2646   \n",
       "2         9.377778                  9.377778      0.89             3.9284   \n",
       "3         8.288889                  5.944444      0.83            14.1036   \n",
       "4         8.755556                  6.977778      0.83            11.0446   \n",
       "\n",
       "   Wind Bearing (degrees)  Visibility (km)  Loud Cover  Pressure (millibars)  \\\n",
       "0                     251          15.8263           0               1015.13   \n",
       "1                     259          15.8263           0               1015.63   \n",
       "2                     204          14.9569           0               1015.94   \n",
       "3                     269          15.8263           0               1016.41   \n",
       "4                     259          15.8263           0               1016.51   \n",
       "\n",
       "   Summary_encoded  Precip Type_encoded  Year  Month  Day  Hour  \n",
       "0                0                    0  2006      3   31    22  \n",
       "1                0                    0  2006      3   31    23  \n",
       "2                0                    0  2006      4    1     0  \n",
       "3                0                    0  2006      4    1     1  \n",
       "4                0                    0  2006      4    1     2  "
      ]
     },
     "execution_count": 31,
     "metadata": {},
     "output_type": "execute_result"
    }
   ],
   "source": [
    "# Assuming df is your DataFrame\n",
    "columns_to_remove = ['is_valid_date']\n",
    "weather_hist = weather_hist.drop(columns=columns_to_remove)\n",
    "\n",
    "# Display the updated DataFrame\n",
    "weather_hist.head()\n"
   ]
  },
  {
   "cell_type": "code",
   "execution_count": 32,
   "metadata": {
    "colab": {
     "base_uri": "https://localhost:8080/",
     "height": 258
    },
    "id": "nWnvOkIrIGjs",
    "outputId": "11e3a47b-13c9-4cda-f7f7-0e17b4fba62d"
   },
   "outputs": [
    {
     "name": "stdout",
     "output_type": "stream",
     "text": [
      "Updated Weather History DataFrame:\n"
     ]
    },
    {
     "data": {
      "text/html": [
       "<div>\n",
       "<style scoped>\n",
       "    .dataframe tbody tr th:only-of-type {\n",
       "        vertical-align: middle;\n",
       "    }\n",
       "\n",
       "    .dataframe tbody tr th {\n",
       "        vertical-align: top;\n",
       "    }\n",
       "\n",
       "    .dataframe thead th {\n",
       "        text-align: right;\n",
       "    }\n",
       "</style>\n",
       "<table border=\"1\" class=\"dataframe\">\n",
       "  <thead>\n",
       "    <tr style=\"text-align: right;\">\n",
       "      <th></th>\n",
       "      <th>Temperature (C)</th>\n",
       "      <th>Apparent Temperature (C)</th>\n",
       "      <th>Humidity</th>\n",
       "      <th>Wind Speed (km/h)</th>\n",
       "      <th>Wind Bearing (degrees)</th>\n",
       "      <th>Visibility (km)</th>\n",
       "      <th>Loud Cover</th>\n",
       "      <th>Pressure (millibars)</th>\n",
       "      <th>Summary</th>\n",
       "      <th>Precip Type</th>\n",
       "      <th>Year</th>\n",
       "      <th>Month</th>\n",
       "      <th>Day</th>\n",
       "      <th>Hour</th>\n",
       "    </tr>\n",
       "  </thead>\n",
       "  <tbody>\n",
       "    <tr>\n",
       "      <th>0</th>\n",
       "      <td>9.472222</td>\n",
       "      <td>7.388889</td>\n",
       "      <td>0.89</td>\n",
       "      <td>14.1197</td>\n",
       "      <td>251</td>\n",
       "      <td>15.8263</td>\n",
       "      <td>0</td>\n",
       "      <td>1015.13</td>\n",
       "      <td>0</td>\n",
       "      <td>0</td>\n",
       "      <td>2006</td>\n",
       "      <td>3</td>\n",
       "      <td>31</td>\n",
       "      <td>22</td>\n",
       "    </tr>\n",
       "    <tr>\n",
       "      <th>1</th>\n",
       "      <td>9.355556</td>\n",
       "      <td>7.227778</td>\n",
       "      <td>0.86</td>\n",
       "      <td>14.2646</td>\n",
       "      <td>259</td>\n",
       "      <td>15.8263</td>\n",
       "      <td>0</td>\n",
       "      <td>1015.63</td>\n",
       "      <td>0</td>\n",
       "      <td>0</td>\n",
       "      <td>2006</td>\n",
       "      <td>3</td>\n",
       "      <td>31</td>\n",
       "      <td>23</td>\n",
       "    </tr>\n",
       "    <tr>\n",
       "      <th>2</th>\n",
       "      <td>9.377778</td>\n",
       "      <td>9.377778</td>\n",
       "      <td>0.89</td>\n",
       "      <td>3.9284</td>\n",
       "      <td>204</td>\n",
       "      <td>14.9569</td>\n",
       "      <td>0</td>\n",
       "      <td>1015.94</td>\n",
       "      <td>0</td>\n",
       "      <td>0</td>\n",
       "      <td>2006</td>\n",
       "      <td>4</td>\n",
       "      <td>1</td>\n",
       "      <td>0</td>\n",
       "    </tr>\n",
       "    <tr>\n",
       "      <th>3</th>\n",
       "      <td>8.288889</td>\n",
       "      <td>5.944444</td>\n",
       "      <td>0.83</td>\n",
       "      <td>14.1036</td>\n",
       "      <td>269</td>\n",
       "      <td>15.8263</td>\n",
       "      <td>0</td>\n",
       "      <td>1016.41</td>\n",
       "      <td>0</td>\n",
       "      <td>0</td>\n",
       "      <td>2006</td>\n",
       "      <td>4</td>\n",
       "      <td>1</td>\n",
       "      <td>1</td>\n",
       "    </tr>\n",
       "    <tr>\n",
       "      <th>4</th>\n",
       "      <td>8.755556</td>\n",
       "      <td>6.977778</td>\n",
       "      <td>0.83</td>\n",
       "      <td>11.0446</td>\n",
       "      <td>259</td>\n",
       "      <td>15.8263</td>\n",
       "      <td>0</td>\n",
       "      <td>1016.51</td>\n",
       "      <td>0</td>\n",
       "      <td>0</td>\n",
       "      <td>2006</td>\n",
       "      <td>4</td>\n",
       "      <td>1</td>\n",
       "      <td>2</td>\n",
       "    </tr>\n",
       "  </tbody>\n",
       "</table>\n",
       "</div>"
      ],
      "text/plain": [
       "   Temperature (C)  Apparent Temperature (C)  Humidity  Wind Speed (km/h)  \\\n",
       "0         9.472222                  7.388889      0.89            14.1197   \n",
       "1         9.355556                  7.227778      0.86            14.2646   \n",
       "2         9.377778                  9.377778      0.89             3.9284   \n",
       "3         8.288889                  5.944444      0.83            14.1036   \n",
       "4         8.755556                  6.977778      0.83            11.0446   \n",
       "\n",
       "   Wind Bearing (degrees)  Visibility (km)  Loud Cover  Pressure (millibars)  \\\n",
       "0                     251          15.8263           0               1015.13   \n",
       "1                     259          15.8263           0               1015.63   \n",
       "2                     204          14.9569           0               1015.94   \n",
       "3                     269          15.8263           0               1016.41   \n",
       "4                     259          15.8263           0               1016.51   \n",
       "\n",
       "   Summary  Precip Type  Year  Month  Day  Hour  \n",
       "0        0            0  2006      3   31    22  \n",
       "1        0            0  2006      3   31    23  \n",
       "2        0            0  2006      4    1     0  \n",
       "3        0            0  2006      4    1     1  \n",
       "4        0            0  2006      4    1     2  "
      ]
     },
     "execution_count": 32,
     "metadata": {},
     "output_type": "execute_result"
    }
   ],
   "source": [
    "# Rename the columns\n",
    "weather_hist = weather_hist.rename(columns={'Summary_encoded': 'Summary', 'Precip Type_encoded': 'Precip Type'})\n",
    "\n",
    "# Display the updated DataFrame\n",
    "print(\"Updated Weather History DataFrame:\")\n",
    "weather_hist.head()\n"
   ]
  },
  {
   "cell_type": "code",
   "execution_count": 33,
   "metadata": {
    "colab": {
     "base_uri": "https://localhost:8080/"
    },
    "id": "EUIB4S5-BwiR",
    "outputId": "aa5c502b-d0f4-47f5-e5f0-f859f503292c"
   },
   "outputs": [
    {
     "name": "stdout",
     "output_type": "stream",
     "text": [
      "<class 'pandas.core.frame.DataFrame'>\n",
      "Int64Index: 95883 entries, 0 to 96449\n",
      "Data columns (total 14 columns):\n",
      " #   Column                    Non-Null Count  Dtype  \n",
      "---  ------                    --------------  -----  \n",
      " 0   Temperature (C)           95883 non-null  float64\n",
      " 1   Apparent Temperature (C)  95883 non-null  float64\n",
      " 2   Humidity                  95883 non-null  float64\n",
      " 3   Wind Speed (km/h)         95883 non-null  float64\n",
      " 4   Wind Bearing (degrees)    95883 non-null  int64  \n",
      " 5   Visibility (km)           95883 non-null  float64\n",
      " 6   Loud Cover                95883 non-null  int64  \n",
      " 7   Pressure (millibars)      95883 non-null  float64\n",
      " 8   Summary                   95883 non-null  int64  \n",
      " 9   Precip Type               95883 non-null  int64  \n",
      " 10  Year                      95883 non-null  int64  \n",
      " 11  Month                     95883 non-null  int64  \n",
      " 12  Day                       95883 non-null  int64  \n",
      " 13  Hour                      95883 non-null  int64  \n",
      "dtypes: float64(6), int64(8)\n",
      "memory usage: 11.0 MB\n"
     ]
    }
   ],
   "source": [
    "weather_hist.info()"
   ]
  },
  {
   "cell_type": "code",
   "execution_count": 34,
   "metadata": {
    "colab": {
     "base_uri": "https://localhost:8080/"
    },
    "id": "VThtunJJBwn6",
    "outputId": "2fb9c616-617c-442b-e567-824f339442a9"
   },
   "outputs": [
    {
     "name": "stdout",
     "output_type": "stream",
     "text": [
      "Missing values:\n"
     ]
    },
    {
     "data": {
      "text/plain": [
       "Temperature (C)             0\n",
       "Apparent Temperature (C)    0\n",
       "Humidity                    0\n",
       "Wind Speed (km/h)           0\n",
       "Wind Bearing (degrees)      0\n",
       "Visibility (km)             0\n",
       "Loud Cover                  0\n",
       "Pressure (millibars)        0\n",
       "Summary                     0\n",
       "Precip Type                 0\n",
       "Year                        0\n",
       "Month                       0\n",
       "Day                         0\n",
       "Hour                        0\n",
       "dtype: int64"
      ]
     },
     "execution_count": 34,
     "metadata": {},
     "output_type": "execute_result"
    }
   ],
   "source": [
    "missing_values = weather_hist.isnull().sum()\n",
    "print(\"Missing values:\")\n",
    "missing_values\n"
   ]
  },
  {
   "cell_type": "code",
   "execution_count": 35,
   "metadata": {
    "colab": {
     "base_uri": "https://localhost:8080/",
     "height": 119
    },
    "id": "FHi6iC7CBwss",
    "outputId": "557e4642-44b1-4f0a-fd9f-36725792ed63"
   },
   "outputs": [
    {
     "name": "stdout",
     "output_type": "stream",
     "text": [
      "\n",
      "Duplicate rows:\n"
     ]
    },
    {
     "data": {
      "text/html": [
       "<div>\n",
       "<style scoped>\n",
       "    .dataframe tbody tr th:only-of-type {\n",
       "        vertical-align: middle;\n",
       "    }\n",
       "\n",
       "    .dataframe tbody tr th {\n",
       "        vertical-align: top;\n",
       "    }\n",
       "\n",
       "    .dataframe thead th {\n",
       "        text-align: right;\n",
       "    }\n",
       "</style>\n",
       "<table border=\"1\" class=\"dataframe\">\n",
       "  <thead>\n",
       "    <tr style=\"text-align: right;\">\n",
       "      <th></th>\n",
       "      <th>Temperature (C)</th>\n",
       "      <th>Apparent Temperature (C)</th>\n",
       "      <th>Humidity</th>\n",
       "      <th>Wind Speed (km/h)</th>\n",
       "      <th>Wind Bearing (degrees)</th>\n",
       "      <th>Visibility (km)</th>\n",
       "      <th>Loud Cover</th>\n",
       "      <th>Pressure (millibars)</th>\n",
       "      <th>Summary</th>\n",
       "      <th>Precip Type</th>\n",
       "      <th>Year</th>\n",
       "      <th>Month</th>\n",
       "      <th>Day</th>\n",
       "      <th>Hour</th>\n",
       "    </tr>\n",
       "  </thead>\n",
       "  <tbody>\n",
       "  </tbody>\n",
       "</table>\n",
       "</div>"
      ],
      "text/plain": [
       "Empty DataFrame\n",
       "Columns: [Temperature (C), Apparent Temperature (C), Humidity, Wind Speed (km/h), Wind Bearing (degrees), Visibility (km), Loud Cover, Pressure (millibars), Summary, Precip Type, Year, Month, Day, Hour]\n",
       "Index: []"
      ]
     },
     "execution_count": 35,
     "metadata": {},
     "output_type": "execute_result"
    }
   ],
   "source": [
    "duplicate_rows = weather_hist[weather_hist.duplicated()]\n",
    "print(\"\\nDuplicate rows:\")\n",
    "duplicate_rows\n"
   ]
  },
  {
   "cell_type": "code",
   "execution_count": 36,
   "metadata": {
    "colab": {
     "base_uri": "https://localhost:8080/"
    },
    "id": "hrfbd0XEI6Xf",
    "outputId": "bd269edb-6791-4c65-95a9-53f26a467350"
   },
   "outputs": [
    {
     "name": "stdout",
     "output_type": "stream",
     "text": [
      "\n",
      "Null values:\n"
     ]
    },
    {
     "data": {
      "text/plain": [
       "Temperature (C)             0\n",
       "Apparent Temperature (C)    0\n",
       "Humidity                    0\n",
       "Wind Speed (km/h)           0\n",
       "Wind Bearing (degrees)      0\n",
       "Visibility (km)             0\n",
       "Loud Cover                  0\n",
       "Pressure (millibars)        0\n",
       "Summary                     0\n",
       "Precip Type                 0\n",
       "Year                        0\n",
       "Month                       0\n",
       "Day                         0\n",
       "Hour                        0\n",
       "dtype: int64"
      ]
     },
     "execution_count": 36,
     "metadata": {},
     "output_type": "execute_result"
    }
   ],
   "source": [
    "null_values = weather_hist.isna().sum()\n",
    "print(\"\\nNull values:\")\n",
    "null_values\n"
   ]
  },
  {
   "cell_type": "code",
   "execution_count": 37,
   "metadata": {
    "id": "22rBO4iy9SmN"
   },
   "outputs": [],
   "source": [
    "from sklearn.model_selection import train_test_split\n",
    "from xgboost import XGBClassifier\n",
    "from sklearn.metrics import accuracy_score\n",
    "from sklearn.model_selection import GridSearchCV\n",
    "import optuna\n",
    "from sklearn.model_selection import cross_val_score\n",
    "\n",
    "# Split the dataset into features (X) and target variable (y)\n",
    "X = weather_hist.drop(['Summary'], axis=1)\n",
    "y = weather_hist['Summary']\n",
    "\n",
    "\n",
    "\n",
    "# Split the dataset into training and testing sets\n",
    "X_train, X_test, y_train, y_test = train_test_split(X, y, test_size=0.2, random_state=42)\n",
    "\n",
    "\n",
    "def objective(trial):\n",
    "    param = {\n",
    "        'objective': 'multi:softmax',\n",
    "        'num_class': 8,\n",
    "        'eval_metric': 'mlogloss',\n",
    "        'eta': trial.suggest_float('eta', 0.01, 0.3),\n",
    "        'max_depth': trial.suggest_int('max_depth', 3, 10),\n",
    "        'min_child_weight': trial.suggest_int('min_child_weight', 1, 10),\n",
    "        'subsample': trial.suggest_float('subsample', 0.5, 1.0),\n",
    "        'colsample_bytree': trial.suggest_float('colsample_bytree', 0.5, 1.0),\n",
    "        'gamma': trial.suggest_float('gamma', 0, 0.5),\n",
    "        'verbosity': 0\n",
    "    }\n",
    "\n",
    "    model = XGBClassifier(**param)\n",
    "    scores = cross_val_score(model, X, y, cv=5)\n",
    "    accuracy = scores.mean()\n",
    "    return accuracy"
   ]
  },
  {
   "cell_type": "code",
   "execution_count": 38,
   "metadata": {
    "colab": {
     "base_uri": "https://localhost:8080/"
    },
    "id": "-gJD0HpmIer0",
    "outputId": "5f59ec3b-bf5b-4cbe-a081-372bc98ede91",
    "scrolled": false
   },
   "outputs": [
    {
     "name": "stderr",
     "output_type": "stream",
     "text": [
      "[I 2024-04-04 10:31:15,909] A new study created in memory with name: no-name-d1a3e25d-6388-484d-99ba-1a1876fa4ad9\n",
      "[I 2024-04-04 10:31:30,088] Trial 0 finished with value: 0.4645776378405252 and parameters: {'eta': 0.29265952978769266, 'max_depth': 5, 'min_child_weight': 2, 'subsample': 0.963535648076903, 'colsample_bytree': 0.7717330532342757, 'gamma': 0.3456746295462708}. Best is trial 0 with value: 0.4645776378405252.\n",
      "[I 2024-04-04 10:31:50,350] Trial 1 finished with value: 0.4971075766976716 and parameters: {'eta': 0.21327993010917054, 'max_depth': 6, 'min_child_weight': 4, 'subsample': 0.7894310444528239, 'colsample_bytree': 0.8228247392932925, 'gamma': 0.3814710027648135}. Best is trial 1 with value: 0.4971075766976716.\n",
      "[I 2024-04-04 10:32:14,227] Trial 2 finished with value: 0.5177046759075463 and parameters: {'eta': 0.07980066246838989, 'max_depth': 9, 'min_child_weight': 7, 'subsample': 0.9831098775100908, 'colsample_bytree': 0.600926687445652, 'gamma': 0.08439951391009015}. Best is trial 2 with value: 0.5177046759075463.\n",
      "[I 2024-04-04 10:32:39,231] Trial 3 finished with value: 0.48551991091748353 and parameters: {'eta': 0.2024895702509123, 'max_depth': 9, 'min_child_weight': 1, 'subsample': 0.8703171869846269, 'colsample_bytree': 0.9753844159567989, 'gamma': 0.03500687336347563}. Best is trial 2 with value: 0.5177046759075463.\n",
      "[I 2024-04-04 10:32:58,279] Trial 4 finished with value: 0.4861459030772526 and parameters: {'eta': 0.26850137754818554, 'max_depth': 5, 'min_child_weight': 8, 'subsample': 0.8487589262805849, 'colsample_bytree': 0.6218226669522124, 'gamma': 0.4376720958017444}. Best is trial 2 with value: 0.5177046759075463.\n",
      "[I 2024-04-04 10:33:16,306] Trial 5 finished with value: 0.5638869262605095 and parameters: {'eta': 0.2037963943987921, 'max_depth': 3, 'min_child_weight': 8, 'subsample': 0.8010130709982388, 'colsample_bytree': 0.7241273507728494, 'gamma': 0.48404777992294673}. Best is trial 5 with value: 0.5638869262605095.\n",
      "[I 2024-04-04 10:33:40,871] Trial 6 finished with value: 0.510633977406837 and parameters: {'eta': 0.15420412649841933, 'max_depth': 10, 'min_child_weight': 4, 'subsample': 0.7172893355749889, 'colsample_bytree': 0.6226569961551713, 'gamma': 0.14347320043089}. Best is trial 5 with value: 0.5638869262605095.\n",
      "[I 2024-04-04 10:34:00,983] Trial 7 finished with value: 0.5117293122199624 and parameters: {'eta': 0.20319539544924356, 'max_depth': 5, 'min_child_weight': 7, 'subsample': 0.6670679817037173, 'colsample_bytree': 0.8143121995661307, 'gamma': 0.22556609312081943}. Best is trial 5 with value: 0.5638869262605095.\n",
      "[I 2024-04-04 10:34:21,726] Trial 8 finished with value: 0.5014249927486447 and parameters: {'eta': 0.19708759695912828, 'max_depth': 7, 'min_child_weight': 3, 'subsample': 0.5632973372699928, 'colsample_bytree': 0.5977290696795391, 'gamma': 0.48749864239544105}. Best is trial 5 with value: 0.5638869262605095.\n",
      "[I 2024-04-04 10:34:43,996] Trial 9 finished with value: 0.5118030026974193 and parameters: {'eta': 0.2973111932358666, 'max_depth': 9, 'min_child_weight': 6, 'subsample': 0.6664631186010441, 'colsample_bytree': 0.5729502422351993, 'gamma': 0.26205790969246506}. Best is trial 5 with value: 0.5638869262605095.\n",
      "[I 2024-04-04 10:35:01,562] Trial 10 finished with value: 0.7628174424501921 and parameters: {'eta': 0.02901334598012134, 'max_depth': 3, 'min_child_weight': 10, 'subsample': 0.5202046495427761, 'colsample_bytree': 0.931203651218488, 'gamma': 0.2978029342024738}. Best is trial 10 with value: 0.7628174424501921.\n",
      "[I 2024-04-04 10:35:19,155] Trial 11 finished with value: 0.7633703037698412 and parameters: {'eta': 0.012923327093983049, 'max_depth': 3, 'min_child_weight': 10, 'subsample': 0.5050501985594289, 'colsample_bytree': 0.9891723043882192, 'gamma': 0.30326904705480495}. Best is trial 11 with value: 0.7633703037698412.\n",
      "[I 2024-04-04 10:35:36,386] Trial 12 finished with value: 0.7638187581907465 and parameters: {'eta': 0.014554093067534427, 'max_depth': 3, 'min_child_weight': 10, 'subsample': 0.5085321500164697, 'colsample_bytree': 0.997668394196152, 'gamma': 0.2754346007137247}. Best is trial 12 with value: 0.7638187581907465.\n",
      "[I 2024-04-04 10:35:53,755] Trial 13 finished with value: 0.7643715129128077 and parameters: {'eta': 0.0188741761916822, 'max_depth': 3, 'min_child_weight': 10, 'subsample': 0.5866137213655549, 'colsample_bytree': 0.9155389418751949, 'gamma': 0.18497434839506213}. Best is trial 13 with value: 0.7643715129128077.\n",
      "[I 2024-04-04 10:36:12,985] Trial 14 finished with value: 0.6251374570457949 and parameters: {'eta': 0.06849832062142774, 'max_depth': 4, 'min_child_weight': 9, 'subsample': 0.5919679760348113, 'colsample_bytree': 0.8960862796120693, 'gamma': 0.1932779784122476}. Best is trial 13 with value: 0.7643715129128077.\n",
      "[I 2024-04-04 10:36:33,419] Trial 15 finished with value: 0.5738891693783243 and parameters: {'eta': 0.08130585059651531, 'max_depth': 7, 'min_child_weight': 10, 'subsample': 0.6129085287409137, 'colsample_bytree': 0.8906788111881041, 'gamma': 0.14288139911487915}. Best is trial 13 with value: 0.7643715129128077.\n",
      "[I 2024-04-04 10:36:52,200] Trial 16 finished with value: 0.5532071108031239 and parameters: {'eta': 0.12629661052533683, 'max_depth': 4, 'min_child_weight': 9, 'subsample': 0.6379403280103036, 'colsample_bytree': 0.9315013549688012, 'gamma': 0.1830664259840494}. Best is trial 13 with value: 0.7643715129128077.\n",
      "[I 2024-04-04 10:37:10,950] Trial 17 finished with value: 0.6643515617601733 and parameters: {'eta': 0.05155816535685952, 'max_depth': 4, 'min_child_weight': 6, 'subsample': 0.551608318054171, 'colsample_bytree': 0.6946792619437745, 'gamma': 0.11207699717302796}. Best is trial 13 with value: 0.7643715129128077.\n",
      "[I 2024-04-04 10:37:31,057] Trial 18 finished with value: 0.5566705849982082 and parameters: {'eta': 0.10636269868028951, 'max_depth': 6, 'min_child_weight': 8, 'subsample': 0.5000291095395033, 'colsample_bytree': 0.8480716585969423, 'gamma': 0.002105129040895215}. Best is trial 13 with value: 0.7643715129128077.\n",
      "[I 2024-04-04 10:37:48,870] Trial 19 finished with value: 0.684636404546896 and parameters: {'eta': 0.029660904998273473, 'max_depth': 3, 'min_child_weight': 9, 'subsample': 0.7199941400397749, 'colsample_bytree': 0.9516699557860062, 'gamma': 0.24766642564423996}. Best is trial 13 with value: 0.7643715129128077.\n",
      "[I 2024-04-04 10:38:07,802] Trial 20 finished with value: 0.578237372553066 and parameters: {'eta': 0.11224844485415003, 'max_depth': 4, 'min_child_weight': 5, 'subsample': 0.5711702461747019, 'colsample_bytree': 0.5141726266924265, 'gamma': 0.3746171758777517}. Best is trial 13 with value: 0.7643715129128077.\n",
      "[I 2024-04-04 10:38:25,027] Trial 21 finished with value: 0.7631930069632807 and parameters: {'eta': 0.011919855639339859, 'max_depth': 3, 'min_child_weight': 10, 'subsample': 0.5046090446141173, 'colsample_bytree': 0.9957359315143846, 'gamma': 0.3192946865737875}. Best is trial 13 with value: 0.7643715129128077.\n",
      "[I 2024-04-04 10:38:43,825] Trial 22 finished with value: 0.7636101766237189 and parameters: {'eta': 0.014055626626333532, 'max_depth': 3, 'min_child_weight': 10, 'subsample': 0.5442240228783395, 'colsample_bytree': 0.9974584570234414, 'gamma': 0.2847481377348722}. Best is trial 13 with value: 0.7643715129128077.\n",
      "[I 2024-04-04 10:39:02,248] Trial 23 finished with value: 0.6610974800351963 and parameters: {'eta': 0.05179972048908012, 'max_depth': 4, 'min_child_weight': 9, 'subsample': 0.6235255810839169, 'colsample_bytree': 0.8874086131869635, 'gamma': 0.21203130436411846}. Best is trial 13 with value: 0.7643715129128077.\n",
      "[I 2024-04-04 10:39:21,118] Trial 24 finished with value: 0.6470180445133689 and parameters: {'eta': 0.04464297640326426, 'max_depth': 5, 'min_child_weight': 10, 'subsample': 0.5467101506101303, 'colsample_bytree': 0.9424225199815839, 'gamma': 0.267605611340354}. Best is trial 13 with value: 0.7643715129128077.\n",
      "[I 2024-04-04 10:39:38,425] Trial 25 finished with value: 0.6843235351876137 and parameters: {'eta': 0.03284278473501791, 'max_depth': 3, 'min_child_weight': 7, 'subsample': 0.6728807064039538, 'colsample_bytree': 0.9973482446600583, 'gamma': 0.1521900724429334}. Best is trial 13 with value: 0.7643715129128077.\n"
     ]
    },
    {
     "name": "stderr",
     "output_type": "stream",
     "text": [
      "[I 2024-04-04 10:39:56,728] Trial 26 finished with value: 0.6225927164609235 and parameters: {'eta': 0.06705444279666889, 'max_depth': 4, 'min_child_weight': 8, 'subsample': 0.5980337057876983, 'colsample_bytree': 0.908608810602304, 'gamma': 0.4123935905475438}. Best is trial 13 with value: 0.7643715129128077.\n",
      "[I 2024-04-04 10:40:18,085] Trial 27 finished with value: 0.5331411101451339 and parameters: {'eta': 0.09511864878716986, 'max_depth': 8, 'min_child_weight': 9, 'subsample': 0.5405434275072819, 'colsample_bytree': 0.9558182919612795, 'gamma': 0.27153964658662216}. Best is trial 13 with value: 0.7643715129128077.\n",
      "[I 2024-04-04 10:40:36,442] Trial 28 finished with value: 0.6580865468644657 and parameters: {'eta': 0.13142565817975768, 'max_depth': 3, 'min_child_weight': 10, 'subsample': 0.575298146281915, 'colsample_bytree': 0.8548002998488524, 'gamma': 0.3294672624624889}. Best is trial 13 with value: 0.7643715129128077.\n",
      "[I 2024-04-04 10:40:56,155] Trial 29 finished with value: 0.6718396996784821 and parameters: {'eta': 0.012709713099632453, 'max_depth': 6, 'min_child_weight': 9, 'subsample': 0.9209808781806603, 'colsample_bytree': 0.7892995326325067, 'gamma': 0.35568150669921395}. Best is trial 13 with value: 0.7643715129128077.\n",
      "[I 2024-04-04 10:41:15,953] Trial 30 finished with value: 0.5129813509260253 and parameters: {'eta': 0.2600462101153501, 'max_depth': 5, 'min_child_weight': 8, 'subsample': 0.6969634828758559, 'colsample_bytree': 0.7618291223648912, 'gamma': 0.1821042417151638}. Best is trial 13 with value: 0.7643715129128077.\n",
      "[I 2024-04-04 10:41:33,332] Trial 31 finished with value: 0.7649868284539593 and parameters: {'eta': 0.024739596539276876, 'max_depth': 3, 'min_child_weight': 10, 'subsample': 0.530622006583823, 'colsample_bytree': 0.9847685461609795, 'gamma': 0.3156196250843948}. Best is trial 31 with value: 0.7649868284539593.\n",
      "[I 2024-04-04 10:41:51,468] Trial 32 finished with value: 0.6732476705327002 and parameters: {'eta': 0.039637395365981126, 'max_depth': 4, 'min_child_weight': 10, 'subsample': 0.5486168384407261, 'colsample_bytree': 0.9659974996338454, 'gamma': 0.23783136273696526}. Best is trial 31 with value: 0.7649868284539593.\n",
      "[I 2024-04-04 10:42:09,325] Trial 33 finished with value: 0.6688779602068594 and parameters: {'eta': 0.06214068507646568, 'max_depth': 3, 'min_child_weight': 9, 'subsample': 0.5298436484992077, 'colsample_bytree': 0.9193798216464728, 'gamma': 0.29378864220916645}. Best is trial 31 with value: 0.7649868284539593.\n",
      "[I 2024-04-04 10:42:26,486] Trial 34 finished with value: 0.6834787183027993 and parameters: {'eta': 0.019727587857434805, 'max_depth': 3, 'min_child_weight': 10, 'subsample': 0.6393376635619523, 'colsample_bytree': 0.9689462960876571, 'gamma': 0.3551584754988213}. Best is trial 31 with value: 0.7649868284539593.\n",
      "[I 2024-04-04 10:42:44,685] Trial 35 finished with value: 0.6094100967799501 and parameters: {'eta': 0.08105992852446828, 'max_depth': 4, 'min_child_weight': 2, 'subsample': 0.7677337123395076, 'colsample_bytree': 0.86403629098243, 'gamma': 0.4159938879955841}. Best is trial 31 with value: 0.7649868284539593.\n",
      "[I 2024-04-04 10:43:03,826] Trial 36 finished with value: 0.6514398826913124 and parameters: {'eta': 0.043452128527743675, 'max_depth': 5, 'min_child_weight': 9, 'subsample': 0.5781826208998141, 'colsample_bytree': 0.997794528660741, 'gamma': 0.09372774294313668}. Best is trial 31 with value: 0.7649868284539593.\n",
      "[I 2024-04-04 10:43:21,969] Trial 37 finished with value: 0.5568157779832428 and parameters: {'eta': 0.16080196519988216, 'max_depth': 3, 'min_child_weight': 8, 'subsample': 0.5293399467350708, 'colsample_bytree': 0.9631476003686971, 'gamma': 0.28218924571427584}. Best is trial 31 with value: 0.7649868284539593.\n",
      "[I 2024-04-04 10:43:40,584] Trial 38 finished with value: 0.6784207187727425 and parameters: {'eta': 0.028328259550446284, 'max_depth': 4, 'min_child_weight': 7, 'subsample': 0.8285693376333547, 'colsample_bytree': 0.6695744043270295, 'gamma': 0.3284032130917538}. Best is trial 31 with value: 0.7649868284539593.\n",
      "[I 2024-04-04 10:44:00,659] Trial 39 finished with value: 0.49157925283749176 and parameters: {'eta': 0.23412303333094617, 'max_depth': 5, 'min_child_weight': 1, 'subsample': 0.6045779855167761, 'colsample_bytree': 0.8188582864646372, 'gamma': 0.21940885668403648}. Best is trial 31 with value: 0.7649868284539593.\n",
      "[I 2024-04-04 10:44:24,985] Trial 40 finished with value: 0.5442994454380137 and parameters: {'eta': 0.054462615496521205, 'max_depth': 10, 'min_child_weight': 4, 'subsample': 0.6389549090443517, 'colsample_bytree': 0.8751349638235107, 'gamma': 0.3880509754282988}. Best is trial 31 with value: 0.7649868284539593.\n",
      "[I 2024-04-04 10:44:42,291] Trial 41 finished with value: 0.7637666123910908 and parameters: {'eta': 0.014282306280646861, 'max_depth': 3, 'min_child_weight': 10, 'subsample': 0.5059423630132033, 'colsample_bytree': 0.9813070901777539, 'gamma': 0.2999478594371212}. Best is trial 31 with value: 0.7649868284539593.\n",
      "[I 2024-04-04 10:44:59,880] Trial 42 finished with value: 0.764715668120288 and parameters: {'eta': 0.023876784427900363, 'max_depth': 3, 'min_child_weight': 10, 'subsample': 0.5276519512076876, 'colsample_bytree': 0.9762573167410595, 'gamma': 0.24482878208153683}. Best is trial 31 with value: 0.7649868284539593.\n",
      "[I 2024-04-04 10:45:17,254] Trial 43 finished with value: 0.7628174364676744 and parameters: {'eta': 0.02962744769295757, 'max_depth': 3, 'min_child_weight': 10, 'subsample': 0.5204969343125353, 'colsample_bytree': 0.9332471946650731, 'gamma': 0.2463692737025353}. Best is trial 31 with value: 0.7649868284539593.\n",
      "[I 2024-04-04 10:45:35,048] Trial 44 finished with value: 0.764799100855872 and parameters: {'eta': 0.023700499115060596, 'max_depth': 3, 'min_child_weight': 9, 'subsample': 0.5024330955159871, 'colsample_bytree': 0.9755561169397753, 'gamma': 0.20927436458562282}. Best is trial 31 with value: 0.7649868284539593.\n",
      "[I 2024-04-04 10:45:53,436] Trial 45 finished with value: 0.6236564842475196 and parameters: {'eta': 0.06780797176476544, 'max_depth': 4, 'min_child_weight': 9, 'subsample': 0.5680554711304711, 'colsample_bytree': 0.9103785127791145, 'gamma': 0.16530918242801917}. Best is trial 31 with value: 0.7649868284539593.\n",
      "[I 2024-04-04 10:46:11,651] Trial 46 finished with value: 0.5523309515081264 and parameters: {'eta': 0.17648936919665123, 'max_depth': 3, 'min_child_weight': 7, 'subsample': 0.5887550700370427, 'colsample_bytree': 0.9709541231577679, 'gamma': 0.21231549554282897}. Best is trial 31 with value: 0.7649868284539593.\n",
      "[I 2024-04-04 10:46:32,840] Trial 47 finished with value: 0.5988659153320595 and parameters: {'eta': 0.04083164445890174, 'max_depth': 8, 'min_child_weight': 8, 'subsample': 0.5234294944017687, 'colsample_bytree': 0.9443924815367852, 'gamma': 0.13081734501414843}. Best is trial 31 with value: 0.7649868284539593.\n",
      "[I 2024-04-04 10:46:51,575] Trial 48 finished with value: 0.593568125615642 and parameters: {'eta': 0.08629560724540307, 'max_depth': 4, 'min_child_weight': 5, 'subsample': 0.5566582284664029, 'colsample_bytree': 0.8360861135230422, 'gamma': 0.05835906053471707}. Best is trial 31 with value: 0.7649868284539593.\n",
      "[I 2024-04-04 10:47:09,510] Trial 49 finished with value: 0.6665104207082653 and parameters: {'eta': 0.05848996421987187, 'max_depth': 3, 'min_child_weight': 10, 'subsample': 0.9462479486442037, 'colsample_bytree': 0.9172079611882836, 'gamma': 0.19249162995707192}. Best is trial 31 with value: 0.7649868284539593.\n",
      "[I 2024-04-04 10:47:28,459] Trial 50 finished with value: 0.6784415363027115 and parameters: {'eta': 0.02643264192686262, 'max_depth': 5, 'min_child_weight': 9, 'subsample': 0.5010018169847198, 'colsample_bytree': 0.7353417450275175, 'gamma': 0.23341022094426284}. Best is trial 31 with value: 0.7649868284539593.\n",
      "[I 2024-04-04 10:47:45,803] Trial 51 finished with value: 0.7643089308829725 and parameters: {'eta': 0.016884904665799273, 'max_depth': 3, 'min_child_weight': 10, 'subsample': 0.5199210283616751, 'colsample_bytree': 0.9788977539712586, 'gamma': 0.3111417312917073}. Best is trial 31 with value: 0.7649868284539593.\n",
      "[I 2024-04-04 10:48:03,134] Trial 52 finished with value: 0.7647052395042221 and parameters: {'eta': 0.021537206685498266, 'max_depth': 3, 'min_child_weight': 10, 'subsample': 0.5292403458920261, 'colsample_bytree': 0.9771256337509271, 'gamma': 0.25934909652239097}. Best is trial 31 with value: 0.7649868284539593.\n"
     ]
    },
    {
     "name": "stderr",
     "output_type": "stream",
     "text": [
      "[I 2024-04-04 10:48:20,543] Trial 53 finished with value: 0.75817632705132 and parameters: {'eta': 0.03859735630730796, 'max_depth': 3, 'min_child_weight': 10, 'subsample': 0.5270331783518846, 'colsample_bytree': 0.9748668480712602, 'gamma': 0.25631666160440836}. Best is trial 31 with value: 0.7649868284539593.\n",
      "[I 2024-04-04 10:48:38,765] Trial 54 finished with value: 0.6843235476965143 and parameters: {'eta': 0.0229572660421692, 'max_depth': 4, 'min_child_weight': 9, 'subsample': 0.5602189320155861, 'colsample_bytree': 0.9480145670068574, 'gamma': 0.318906555518477}. Best is trial 31 with value: 0.7649868284539593.\n",
      "[I 2024-04-04 10:48:56,338] Trial 55 finished with value: 0.6759906603326814 and parameters: {'eta': 0.05026561361616491, 'max_depth': 3, 'min_child_weight': 10, 'subsample': 0.5853332671047891, 'colsample_bytree': 0.9288459569832397, 'gamma': 0.20038563806854784}. Best is trial 31 with value: 0.7649868284539593.\n",
      "[I 2024-04-04 10:49:13,774] Trial 56 finished with value: 0.6859505744185063 and parameters: {'eta': 0.03484411429298588, 'max_depth': 3, 'min_child_weight': 9, 'subsample': 0.5378493962059058, 'colsample_bytree': 0.9776256203099611, 'gamma': 0.17408688909668762}. Best is trial 31 with value: 0.7649868284539593.\n",
      "[I 2024-04-04 10:49:31,811] Trial 57 finished with value: 0.6854395232834042 and parameters: {'eta': 0.024950399806146002, 'max_depth': 4, 'min_child_weight': 10, 'subsample': 0.6174158343502887, 'colsample_bytree': 0.8956258546418457, 'gamma': 0.255906594838355}. Best is trial 31 with value: 0.7649868284539593.\n",
      "[I 2024-04-04 10:49:48,915] Trial 58 finished with value: 0.6846052073487333 and parameters: {'eta': 0.011550099899787945, 'max_depth': 3, 'min_child_weight': 8, 'subsample': 0.518355930922347, 'colsample_bytree': 0.9472182343607723, 'gamma': 0.4597653533191524}. Best is trial 31 with value: 0.7649868284539593.\n",
      "[I 2024-04-04 10:50:07,109] Trial 59 finished with value: 0.6161475195535326 and parameters: {'eta': 0.0703088713301303, 'max_depth': 4, 'min_child_weight': 10, 'subsample': 0.5481647580399915, 'colsample_bytree': 0.9811841596864084, 'gamma': 0.3159024243710604}. Best is trial 31 with value: 0.7649868284539593.\n",
      "[I 2024-04-04 10:50:25,454] Trial 60 finished with value: 0.6805064202313172 and parameters: {'eta': 0.04732205192947872, 'max_depth': 3, 'min_child_weight': 3, 'subsample': 0.5664013910794221, 'colsample_bytree': 0.7946127518944662, 'gamma': 0.34515426758191337}. Best is trial 31 with value: 0.7649868284539593.\n",
      "[I 2024-04-04 10:50:42,814] Trial 61 finished with value: 0.7647052378726263 and parameters: {'eta': 0.023425194318225855, 'max_depth': 3, 'min_child_weight': 10, 'subsample': 0.5112559399560672, 'colsample_bytree': 0.9987489675046578, 'gamma': 0.27459527746965706}. Best is trial 31 with value: 0.7649868284539593.\n",
      "[I 2024-04-04 10:51:00,353] Trial 62 finished with value: 0.6866180373909095 and parameters: {'eta': 0.02188891483473645, 'max_depth': 3, 'min_child_weight': 9, 'subsample': 0.5187786251070261, 'colsample_bytree': 0.9574108744079655, 'gamma': 0.22968428245422245}. Best is trial 31 with value: 0.7649868284539593.\n",
      "[I 2024-04-04 10:51:17,793] Trial 63 finished with value: 0.7618370992412015 and parameters: {'eta': 0.03484305987392271, 'max_depth': 3, 'min_child_weight': 10, 'subsample': 0.5001385511315846, 'colsample_bytree': 0.9833870336769862, 'gamma': 0.2672896377975558}. Best is trial 31 with value: 0.7649868284539593.\n",
      "[I 2024-04-04 10:51:35,061] Trial 64 finished with value: 0.7647678139199438 and parameters: {'eta': 0.02182695125820593, 'max_depth': 3, 'min_child_weight': 10, 'subsample': 0.540109115613938, 'colsample_bytree': 0.9314907795320656, 'gamma': 0.28571189111099804}. Best is trial 31 with value: 0.7649868284539593.\n",
      "[I 2024-04-04 10:51:53,553] Trial 65 finished with value: 0.6421265971880993 and parameters: {'eta': 0.05886392316669778, 'max_depth': 4, 'min_child_weight': 9, 'subsample': 0.5376542569636187, 'colsample_bytree': 0.9348521980424662, 'gamma': 0.20233791370509033}. Best is trial 31 with value: 0.7649868284539593.\n",
      "[I 2024-04-04 10:52:11,665] Trial 66 finished with value: 0.6786604594673659 and parameters: {'eta': 0.03559799076015446, 'max_depth': 4, 'min_child_weight': 10, 'subsample': 0.556544881401992, 'colsample_bytree': 0.9048507003922416, 'gamma': 0.2829042469711615}. Best is trial 31 with value: 0.7649868284539593.\n",
      "[I 2024-04-04 10:52:32,035] Trial 67 finished with value: 0.5342252435096808 and parameters: {'eta': 0.07465380005140342, 'max_depth': 7, 'min_child_weight': 9, 'subsample': 0.5907205701724595, 'colsample_bytree': 0.957795891670748, 'gamma': 0.24323136705066986}. Best is trial 31 with value: 0.7649868284539593.\n",
      "[I 2024-04-04 10:52:49,499] Trial 68 finished with value: 0.7625985448472042 and parameters: {'eta': 0.010523293098415442, 'max_depth': 3, 'min_child_weight': 10, 'subsample': 0.5376247613779219, 'colsample_bytree': 0.9996523576149599, 'gamma': 0.15483553583894133}. Best is trial 31 with value: 0.7649868284539593.\n",
      "[I 2024-04-04 10:53:06,735] Trial 69 finished with value: 0.6778783295783789 and parameters: {'eta': 0.045110435158787945, 'max_depth': 3, 'min_child_weight': 9, 'subsample': 0.9951553449457816, 'colsample_bytree': 0.8773060205305117, 'gamma': 0.22337819707814952}. Best is trial 31 with value: 0.7649868284539593.\n",
      "[I 2024-04-04 10:53:28,728] Trial 70 finished with value: 0.6379445122136798 and parameters: {'eta': 0.023014855880833518, 'max_depth': 9, 'min_child_weight': 10, 'subsample': 0.5738965114578837, 'colsample_bytree': 0.9221683439014907, 'gamma': 0.34339965342022616}. Best is trial 31 with value: 0.7649868284539593.\n",
      "[I 2024-04-04 10:53:47,142] Trial 71 finished with value: 0.7647886738714019 and parameters: {'eta': 0.02317348779403399, 'max_depth': 3, 'min_child_weight': 10, 'subsample': 0.5162819706001854, 'colsample_bytree': 0.963716921634892, 'gamma': 0.3069916978112129}. Best is trial 31 with value: 0.7649868284539593.\n",
      "[I 2024-04-04 10:54:04,371] Trial 72 finished with value: 0.6846259753869649 and parameters: {'eta': 0.03148582292389692, 'max_depth': 3, 'min_child_weight': 10, 'subsample': 0.8836343211843243, 'colsample_bytree': 0.958352466614967, 'gamma': 0.2675065502849841}. Best is trial 31 with value: 0.7649868284539593.\n",
      "[I 2024-04-04 10:54:21,751] Trial 73 finished with value: 0.7646218051370421 and parameters: {'eta': 0.019964302768610952, 'max_depth': 3, 'min_child_weight': 10, 'subsample': 0.5137356764965949, 'colsample_bytree': 0.9404636393492899, 'gamma': 0.28591539088454854}. Best is trial 31 with value: 0.7649868284539593.\n",
      "[I 2024-04-04 10:54:39,938] Trial 74 finished with value: 0.5911512874519477 and parameters: {'eta': 0.28328983115774886, 'max_depth': 3, 'min_child_weight': 10, 'subsample': 0.5146178518826677, 'colsample_bytree': 0.9859038975692886, 'gamma': 0.2937417464929109}. Best is trial 31 with value: 0.7649868284539593.\n",
      "[I 2024-04-04 10:54:57,332] Trial 75 finished with value: 0.6843235188716563 and parameters: {'eta': 0.02016795034851386, 'max_depth': 3, 'min_child_weight': 6, 'subsample': 0.5354960443514489, 'colsample_bytree': 0.9402822914525535, 'gamma': 0.3749712116640823}. Best is trial 31 with value: 0.7649868284539593.\n",
      "[I 2024-04-04 10:55:15,966] Trial 76 finished with value: 0.6763980578224039 and parameters: {'eta': 0.0535866078650212, 'max_depth': 4, 'min_child_weight': 9, 'subsample': 0.5104059679132262, 'colsample_bytree': 0.5394739142620071, 'gamma': 0.28746876535752397}. Best is trial 31 with value: 0.7649868284539593.\n",
      "[I 2024-04-04 10:55:33,943] Trial 77 finished with value: 0.6691800670168158 and parameters: {'eta': 0.04210319734181054, 'max_depth': 4, 'min_child_weight': 10, 'subsample': 0.7316777728214865, 'colsample_bytree': 0.9672646891923147, 'gamma': 0.3364114364905623}. Best is trial 31 with value: 0.7649868284539593.\n",
      "[I 2024-04-04 10:55:51,406] Trial 78 finished with value: 0.7651328584476055 and parameters: {'eta': 0.03002738627554384, 'max_depth': 3, 'min_child_weight': 10, 'subsample': 0.5511460411049719, 'colsample_bytree': 0.694850735449475, 'gamma': 0.3061748835050171}. Best is trial 78 with value: 0.7651328584476055.\n",
      "[I 2024-04-04 10:56:08,857] Trial 79 finished with value: 0.6860444368578869 and parameters: {'eta': 0.03005527803391146, 'max_depth': 3, 'min_child_weight': 9, 'subsample': 0.551746763755352, 'colsample_bytree': 0.6882433526866731, 'gamma': 0.30515322910654297}. Best is trial 78 with value: 0.7651328584476055.\n"
     ]
    },
    {
     "name": "stderr",
     "output_type": "stream",
     "text": [
      "[I 2024-04-04 10:56:26,610] Trial 80 finished with value: 0.6754393125900083 and parameters: {'eta': 0.09471729370938337, 'max_depth': 3, 'min_child_weight': 10, 'subsample': 0.5612227789697702, 'colsample_bytree': 0.6650285160426769, 'gamma': 0.25419355173683494}. Best is trial 78 with value: 0.7651328584476055.\n",
      "[I 2024-04-04 10:56:44,275] Trial 81 finished with value: 0.7630783003445344 and parameters: {'eta': 0.01959808630482995, 'max_depth': 3, 'min_child_weight': 10, 'subsample': 0.5295210745042671, 'colsample_bytree': 0.6352272748862521, 'gamma': 0.27538223413531726}. Best is trial 78 with value: 0.7651328584476055.\n",
      "[I 2024-04-04 10:57:01,934] Trial 82 finished with value: 0.7609609758413101 and parameters: {'eta': 0.03717923192170516, 'max_depth': 3, 'min_child_weight': 10, 'subsample': 0.5104711300298228, 'colsample_bytree': 0.7329522960044697, 'gamma': 0.359365794184496}. Best is trial 78 with value: 0.7651328584476055.\n",
      "[I 2024-04-04 10:57:19,313] Trial 83 finished with value: 0.6862530113546662 and parameters: {'eta': 0.027701880569444483, 'max_depth': 3, 'min_child_weight': 9, 'subsample': 0.5449812610736489, 'colsample_bytree': 0.703274405669066, 'gamma': 0.32953298165146583}. Best is trial 78 with value: 0.7651328584476055.\n",
      "[I 2024-04-04 10:57:36,497] Trial 84 finished with value: 0.7398721550109928 and parameters: {'eta': 0.017823193076175678, 'max_depth': 3, 'min_child_weight': 10, 'subsample': 0.6010611873641902, 'colsample_bytree': 0.9870611907558967, 'gamma': 0.29978161956688293}. Best is trial 78 with value: 0.7651328584476055.\n",
      "[I 2024-04-04 10:57:53,670] Trial 85 finished with value: 0.7627341250140398 and parameters: {'eta': 0.01000044060910939, 'max_depth': 3, 'min_child_weight': 10, 'subsample': 0.5012441735859913, 'colsample_bytree': 0.9665107373217945, 'gamma': 0.23842554833521684}. Best is trial 78 with value: 0.7651328584476055.\n",
      "[I 2024-04-04 10:58:11,656] Trial 86 finished with value: 0.6626930485037081 and parameters: {'eta': 0.04791519466591895, 'max_depth': 4, 'min_child_weight': 10, 'subsample': 0.7901438814403523, 'colsample_bytree': 0.9887440204722091, 'gamma': 0.27639844043619916}. Best is trial 78 with value: 0.7651328584476055.\n",
      "[I 2024-04-04 10:58:29,980] Trial 87 finished with value: 0.636453107536147 and parameters: {'eta': 0.06343889477778394, 'max_depth': 4, 'min_child_weight': 9, 'subsample': 0.5763805914814625, 'colsample_bytree': 0.9479588340749235, 'gamma': 0.30473364917376417}. Best is trial 78 with value: 0.7651328584476055.\n",
      "[I 2024-04-04 10:58:50,384] Trial 88 finished with value: 0.5574740153695013 and parameters: {'eta': 0.18936167740354656, 'max_depth': 6, 'min_child_weight': 10, 'subsample': 0.5295070008963828, 'colsample_bytree': 0.9295853325034524, 'gamma': 0.3208725039246288}. Best is trial 78 with value: 0.7651328584476055.\n",
      "[I 2024-04-04 10:59:08,772] Trial 89 finished with value: 0.522388092057416 and parameters: {'eta': 0.23768573640969531, 'max_depth': 3, 'min_child_weight': 5, 'subsample': 0.5164982131965944, 'colsample_bytree': 0.9990212866090673, 'gamma': 0.2604923358311639}. Best is trial 78 with value: 0.7651328584476055.\n",
      "[I 2024-04-04 10:59:26,321] Trial 90 finished with value: 0.6865033443687942 and parameters: {'eta': 0.041263185111175923, 'max_depth': 3, 'min_child_weight': 9, 'subsample': 0.5436426624848312, 'colsample_bytree': 0.7111492756316952, 'gamma': 0.2903186021473943}. Best is trial 78 with value: 0.7651328584476055.\n",
      "[I 2024-04-04 10:59:44,397] Trial 91 finished with value: 0.646854318776258 and parameters: {'eta': 0.13938052680736618, 'max_depth': 3, 'min_child_weight': 10, 'subsample': 0.5251438934429018, 'colsample_bytree': 0.9142147329143339, 'gamma': 0.18785282332753778}. Best is trial 78 with value: 0.7651328584476055.\n",
      "[I 2024-04-04 11:00:02,059] Trial 92 finished with value: 0.7629843122722823 and parameters: {'eta': 0.02675336634800434, 'max_depth': 3, 'min_child_weight': 10, 'subsample': 0.5541811192277952, 'colsample_bytree': 0.9720274697072302, 'gamma': 0.2123449236652695}. Best is trial 78 with value: 0.7651328584476055.\n",
      "[I 2024-04-04 11:00:19,345] Trial 93 finished with value: 0.6852309047335398 and parameters: {'eta': 0.01991156001118731, 'max_depth': 3, 'min_child_weight': 10, 'subsample': 0.6794695311329303, 'colsample_bytree': 0.9034438132116932, 'gamma': 0.22996063833043584}. Best is trial 78 with value: 0.7651328584476055.\n",
      "[I 2024-04-04 11:00:36,703] Trial 94 finished with value: 0.6866597833993575 and parameters: {'eta': 0.0331556341032275, 'max_depth': 3, 'min_child_weight': 10, 'subsample': 0.566904930835015, 'colsample_bytree': 0.9482133448825736, 'gamma': 0.24532385451931565}. Best is trial 78 with value: 0.7651328584476055.\n",
      "[I 2024-04-04 11:00:55,004] Trial 95 finished with value: 0.6860653087743803 and parameters: {'eta': 0.019200181275137264, 'max_depth': 4, 'min_child_weight': 9, 'subsample': 0.5841701554878663, 'colsample_bytree': 0.7644388028664715, 'gamma': 0.2758624358995605}. Best is trial 78 with value: 0.7651328584476055.\n",
      "[I 2024-04-04 11:01:12,155] Trial 96 finished with value: 0.7639334805815852 and parameters: {'eta': 0.014874182452683937, 'max_depth': 3, 'min_child_weight': 10, 'subsample': 0.5340743231622684, 'colsample_bytree': 0.9245173947009759, 'gamma': 0.3632676424101667}. Best is trial 78 with value: 0.7651328584476055.\n",
      "[I 2024-04-04 11:01:30,402] Trial 97 finished with value: 0.6821333403557214 and parameters: {'eta': 0.025962365845525068, 'max_depth': 4, 'min_child_weight': 9, 'subsample': 0.6290138958166706, 'colsample_bytree': 0.9757974609730516, 'gamma': 0.17592628582810138}. Best is trial 78 with value: 0.7651328584476055.\n",
      "[I 2024-04-04 11:01:47,854] Trial 98 finished with value: 0.7277951725824738 and parameters: {'eta': 0.05501919931305556, 'max_depth': 3, 'min_child_weight': 10, 'subsample': 0.5137773149136445, 'colsample_bytree': 0.9610042652738796, 'gamma': 0.3085120721719974}. Best is trial 78 with value: 0.7651328584476055.\n",
      "[I 2024-04-04 11:02:05,193] Trial 99 finished with value: 0.6825922875687915 and parameters: {'eta': 0.03621023878614387, 'max_depth': 3, 'min_child_weight': 8, 'subsample': 0.653460492538123, 'colsample_bytree': 0.9360337354496654, 'gamma': 0.2057890965575789}. Best is trial 78 with value: 0.7651328584476055.\n"
     ]
    }
   ],
   "source": [
    "study = optuna.create_study(direction='maximize')\n",
    "study.optimize(objective, n_trials=100)"
   ]
  },
  {
   "cell_type": "code",
   "execution_count": 39,
   "metadata": {},
   "outputs": [
    {
     "name": "stdout",
     "output_type": "stream",
     "text": [
      "Train Accuracy: 0.8828905170390843\n",
      "Test Accuracy: 0.8851228033581895\n",
      "\n",
      "Train Confusion Matrix:\n",
      "[[60617    51   126     0     0     0     0     3]\n",
      " [   72  5648     0     1     0     0     0     0]\n",
      " [    1     0  1158     2     0    12     0     0]\n",
      " [ 8339    25     2   262     0     0     0     0]\n",
      " [   61     0     0     0     0     0     0     0]\n",
      " [    0     1    90     0     0    33     0     0]\n",
      " [  116     0     0     0     0     0     0     0]\n",
      " [   70    11     0     0     0     0     0     5]]\n",
      "\n",
      "Test Confusion Matrix:\n",
      "[[15195    11    31     0     0     0     0     1]\n",
      " [   16  1418     0     0     0     0     0     0]\n",
      " [    1     0   306     1     0     2     1     0]\n",
      " [ 2057    10     1    48     0     0     0     0]\n",
      " [    3     0     0     0     0     0     0     0]\n",
      " [    0     0    26     0     0     5     0     0]\n",
      " [   18     0     0     0     0     0     0     0]\n",
      " [   18     6     0     0     0     0     0     2]]\n",
      "\n",
      "Train Classification Report:\n",
      "              precision    recall  f1-score   support\n",
      "\n",
      "           0       0.88      1.00      0.93     60797\n",
      "           1       0.98      0.99      0.99      5721\n",
      "           2       0.84      0.99      0.91      1173\n",
      "           3       0.99      0.03      0.06      8628\n",
      "           4       0.00      0.00      0.00        61\n",
      "           5       0.73      0.27      0.39       124\n",
      "           6       0.00      0.00      0.00       116\n",
      "           7       0.62      0.06      0.11        86\n",
      "\n",
      "    accuracy                           0.88     76706\n",
      "   macro avg       0.63      0.42      0.42     76706\n",
      "weighted avg       0.89      0.88      0.83     76706\n",
      "\n",
      "\n",
      "Test Classification Report:\n",
      "              precision    recall  f1-score   support\n",
      "\n",
      "           0       0.88      1.00      0.93     15238\n",
      "           1       0.98      0.99      0.99      1434\n",
      "           2       0.84      0.98      0.91       311\n",
      "           3       0.98      0.02      0.04      2116\n",
      "           4       0.00      0.00      0.00         3\n",
      "           5       0.71      0.16      0.26        31\n",
      "           6       0.00      0.00      0.00        18\n",
      "           7       0.67      0.08      0.14        26\n",
      "\n",
      "    accuracy                           0.89     19177\n",
      "   macro avg       0.63      0.40      0.41     19177\n",
      "weighted avg       0.89      0.89      0.84     19177\n",
      "\n"
     ]
    },
    {
     "name": "stderr",
     "output_type": "stream",
     "text": [
      "C:\\Users\\student\\anaconda3\\lib\\site-packages\\sklearn\\metrics\\_classification.py:1318: UndefinedMetricWarning: Precision and F-score are ill-defined and being set to 0.0 in labels with no predicted samples. Use `zero_division` parameter to control this behavior.\n",
      "  _warn_prf(average, modifier, msg_start, len(result))\n",
      "C:\\Users\\student\\anaconda3\\lib\\site-packages\\sklearn\\metrics\\_classification.py:1318: UndefinedMetricWarning: Precision and F-score are ill-defined and being set to 0.0 in labels with no predicted samples. Use `zero_division` parameter to control this behavior.\n",
      "  _warn_prf(average, modifier, msg_start, len(result))\n",
      "C:\\Users\\student\\anaconda3\\lib\\site-packages\\sklearn\\metrics\\_classification.py:1318: UndefinedMetricWarning: Precision and F-score are ill-defined and being set to 0.0 in labels with no predicted samples. Use `zero_division` parameter to control this behavior.\n",
      "  _warn_prf(average, modifier, msg_start, len(result))\n",
      "C:\\Users\\student\\anaconda3\\lib\\site-packages\\sklearn\\metrics\\_classification.py:1318: UndefinedMetricWarning: Precision and F-score are ill-defined and being set to 0.0 in labels with no predicted samples. Use `zero_division` parameter to control this behavior.\n",
      "  _warn_prf(average, modifier, msg_start, len(result))\n",
      "C:\\Users\\student\\anaconda3\\lib\\site-packages\\sklearn\\metrics\\_classification.py:1318: UndefinedMetricWarning: Precision and F-score are ill-defined and being set to 0.0 in labels with no predicted samples. Use `zero_division` parameter to control this behavior.\n",
      "  _warn_prf(average, modifier, msg_start, len(result))\n",
      "C:\\Users\\student\\anaconda3\\lib\\site-packages\\sklearn\\metrics\\_classification.py:1318: UndefinedMetricWarning: Precision and F-score are ill-defined and being set to 0.0 in labels with no predicted samples. Use `zero_division` parameter to control this behavior.\n",
      "  _warn_prf(average, modifier, msg_start, len(result))\n"
     ]
    }
   ],
   "source": [
    "from sklearn.metrics import classification_report, confusion_matrix\n",
    "\n",
    "# Use the best hyperparameters found by Optuna\n",
    "best_params = study.best_params\n",
    "model = XGBClassifier(**best_params)\n",
    "\n",
    "# Fit the model on the training data\n",
    "model.fit(X_train, y_train)\n",
    "\n",
    "# Predict on the training and test sets\n",
    "y_train_pred = model.predict(X_train)\n",
    "y_test_pred = model.predict(X_test)\n",
    "\n",
    "# Calculate accuracies\n",
    "train_accuracy = accuracy_score(y_train, y_train_pred)\n",
    "test_accuracy = accuracy_score(y_test, y_test_pred)\n",
    "\n",
    "# Generate confusion matrices\n",
    "train_conf_matrix = confusion_matrix(y_train, y_train_pred)\n",
    "test_conf_matrix = confusion_matrix(y_test, y_test_pred)\n",
    "\n",
    "# Generate classification reports\n",
    "train_classification_report = classification_report(y_train, y_train_pred)\n",
    "test_classification_report = classification_report(y_test, y_test_pred)\n",
    "\n",
    "# Print the results\n",
    "print(\"Train Accuracy:\", train_accuracy)\n",
    "print(\"Test Accuracy:\", test_accuracy)\n",
    "\n",
    "print(\"\\nTrain Confusion Matrix:\")\n",
    "print(train_conf_matrix)\n",
    "\n",
    "print(\"\\nTest Confusion Matrix:\")\n",
    "print(test_conf_matrix)\n",
    "\n",
    "print(\"\\nTrain Classification Report:\")\n",
    "print(train_classification_report)\n",
    "\n",
    "print(\"\\nTest Classification Report:\")\n",
    "print(test_classification_report)\n"
   ]
  },
  {
   "cell_type": "code",
   "execution_count": 40,
   "metadata": {},
   "outputs": [],
   "source": [
    "import pickle\n",
    "filename = 'savemodel.sav'\n",
    "pickle.dump(model, open(filename, 'wb'))"
   ]
  },
  {
   "cell_type": "code",
   "execution_count": 41,
   "metadata": {},
   "outputs": [],
   "source": [
    "load_model = pickle.load(open(filename, 'rb'))"
   ]
  },
  {
   "cell_type": "code",
   "execution_count": 42,
   "metadata": {},
   "outputs": [
    {
     "data": {
      "text/html": [
       "<div>\n",
       "<style scoped>\n",
       "    .dataframe tbody tr th:only-of-type {\n",
       "        vertical-align: middle;\n",
       "    }\n",
       "\n",
       "    .dataframe tbody tr th {\n",
       "        vertical-align: top;\n",
       "    }\n",
       "\n",
       "    .dataframe thead th {\n",
       "        text-align: right;\n",
       "    }\n",
       "</style>\n",
       "<table border=\"1\" class=\"dataframe\">\n",
       "  <thead>\n",
       "    <tr style=\"text-align: right;\">\n",
       "      <th></th>\n",
       "      <th>Temperature (C)</th>\n",
       "      <th>Apparent Temperature (C)</th>\n",
       "      <th>Humidity</th>\n",
       "      <th>Wind Speed (km/h)</th>\n",
       "      <th>Wind Bearing (degrees)</th>\n",
       "      <th>Visibility (km)</th>\n",
       "      <th>Loud Cover</th>\n",
       "      <th>Pressure (millibars)</th>\n",
       "      <th>Precip Type</th>\n",
       "      <th>Year</th>\n",
       "      <th>Month</th>\n",
       "      <th>Day</th>\n",
       "      <th>Hour</th>\n",
       "    </tr>\n",
       "  </thead>\n",
       "  <tbody>\n",
       "    <tr>\n",
       "      <th>41923</th>\n",
       "      <td>9.777778</td>\n",
       "      <td>8.222222</td>\n",
       "      <td>0.96</td>\n",
       "      <td>10.9480</td>\n",
       "      <td>173</td>\n",
       "      <td>6.0697</td>\n",
       "      <td>0</td>\n",
       "      <td>1019.53</td>\n",
       "      <td>0</td>\n",
       "      <td>2010</td>\n",
       "      <td>11</td>\n",
       "      <td>19</td>\n",
       "      <td>20</td>\n",
       "    </tr>\n",
       "    <tr>\n",
       "      <th>6284</th>\n",
       "      <td>16.161111</td>\n",
       "      <td>16.161111</td>\n",
       "      <td>0.78</td>\n",
       "      <td>0.7245</td>\n",
       "      <td>308</td>\n",
       "      <td>9.9820</td>\n",
       "      <td>0</td>\n",
       "      <td>1019.31</td>\n",
       "      <td>0</td>\n",
       "      <td>2006</td>\n",
       "      <td>5</td>\n",
       "      <td>26</td>\n",
       "      <td>19</td>\n",
       "    </tr>\n",
       "    <tr>\n",
       "      <th>36170</th>\n",
       "      <td>14.283333</td>\n",
       "      <td>14.283333</td>\n",
       "      <td>0.96</td>\n",
       "      <td>0.0000</td>\n",
       "      <td>0</td>\n",
       "      <td>15.8263</td>\n",
       "      <td>0</td>\n",
       "      <td>1016.77</td>\n",
       "      <td>0</td>\n",
       "      <td>2010</td>\n",
       "      <td>8</td>\n",
       "      <td>23</td>\n",
       "      <td>1</td>\n",
       "    </tr>\n",
       "    <tr>\n",
       "      <th>33623</th>\n",
       "      <td>11.666667</td>\n",
       "      <td>11.666667</td>\n",
       "      <td>0.86</td>\n",
       "      <td>0.0000</td>\n",
       "      <td>0</td>\n",
       "      <td>16.1000</td>\n",
       "      <td>0</td>\n",
       "      <td>1017.60</td>\n",
       "      <td>0</td>\n",
       "      <td>2009</td>\n",
       "      <td>9</td>\n",
       "      <td>30</td>\n",
       "      <td>23</td>\n",
       "    </tr>\n",
       "    <tr>\n",
       "      <th>85765</th>\n",
       "      <td>2.083333</td>\n",
       "      <td>2.083333</td>\n",
       "      <td>0.92</td>\n",
       "      <td>0.0000</td>\n",
       "      <td>0</td>\n",
       "      <td>1.5134</td>\n",
       "      <td>0</td>\n",
       "      <td>1033.93</td>\n",
       "      <td>0</td>\n",
       "      <td>2015</td>\n",
       "      <td>11</td>\n",
       "      <td>2</td>\n",
       "      <td>19</td>\n",
       "    </tr>\n",
       "  </tbody>\n",
       "</table>\n",
       "</div>"
      ],
      "text/plain": [
       "       Temperature (C)  Apparent Temperature (C)  Humidity  Wind Speed (km/h)  \\\n",
       "41923         9.777778                  8.222222      0.96            10.9480   \n",
       "6284         16.161111                 16.161111      0.78             0.7245   \n",
       "36170        14.283333                 14.283333      0.96             0.0000   \n",
       "33623        11.666667                 11.666667      0.86             0.0000   \n",
       "85765         2.083333                  2.083333      0.92             0.0000   \n",
       "\n",
       "       Wind Bearing (degrees)  Visibility (km)  Loud Cover  \\\n",
       "41923                     173           6.0697           0   \n",
       "6284                      308           9.9820           0   \n",
       "36170                       0          15.8263           0   \n",
       "33623                       0          16.1000           0   \n",
       "85765                       0           1.5134           0   \n",
       "\n",
       "       Pressure (millibars)  Precip Type  Year  Month  Day  Hour  \n",
       "41923               1019.53            0  2010     11   19    20  \n",
       "6284                1019.31            0  2006      5   26    19  \n",
       "36170               1016.77            0  2010      8   23     1  \n",
       "33623               1017.60            0  2009      9   30    23  \n",
       "85765               1033.93            0  2015     11    2    19  "
      ]
     },
     "execution_count": 42,
     "metadata": {},
     "output_type": "execute_result"
    }
   ],
   "source": [
    "X_test.head()"
   ]
  },
  {
   "cell_type": "code",
   "execution_count": 43,
   "metadata": {},
   "outputs": [
    {
     "name": "stdout",
     "output_type": "stream",
     "text": [
      "<class 'pandas.core.frame.DataFrame'>\n",
      "Int64Index: 19177 entries, 41923 to 82176\n",
      "Data columns (total 13 columns):\n",
      " #   Column                    Non-Null Count  Dtype  \n",
      "---  ------                    --------------  -----  \n",
      " 0   Temperature (C)           19177 non-null  float64\n",
      " 1   Apparent Temperature (C)  19177 non-null  float64\n",
      " 2   Humidity                  19177 non-null  float64\n",
      " 3   Wind Speed (km/h)         19177 non-null  float64\n",
      " 4   Wind Bearing (degrees)    19177 non-null  int64  \n",
      " 5   Visibility (km)           19177 non-null  float64\n",
      " 6   Loud Cover                19177 non-null  int64  \n",
      " 7   Pressure (millibars)      19177 non-null  float64\n",
      " 8   Precip Type               19177 non-null  int64  \n",
      " 9   Year                      19177 non-null  int64  \n",
      " 10  Month                     19177 non-null  int64  \n",
      " 11  Day                       19177 non-null  int64  \n",
      " 12  Hour                      19177 non-null  int64  \n",
      "dtypes: float64(6), int64(7)\n",
      "memory usage: 2.0 MB\n"
     ]
    }
   ],
   "source": [
    "X_test.info()"
   ]
  },
  {
   "cell_type": "code",
   "execution_count": 44,
   "metadata": {},
   "outputs": [
    {
     "data": {
      "text/html": [
       "<div>\n",
       "<style scoped>\n",
       "    .dataframe tbody tr th:only-of-type {\n",
       "        vertical-align: middle;\n",
       "    }\n",
       "\n",
       "    .dataframe tbody tr th {\n",
       "        vertical-align: top;\n",
       "    }\n",
       "\n",
       "    .dataframe thead th {\n",
       "        text-align: right;\n",
       "    }\n",
       "</style>\n",
       "<table border=\"1\" class=\"dataframe\">\n",
       "  <thead>\n",
       "    <tr style=\"text-align: right;\">\n",
       "      <th></th>\n",
       "      <th>Temperature (C)</th>\n",
       "      <th>Apparent Temperature (C)</th>\n",
       "      <th>Humidity</th>\n",
       "      <th>Wind Speed (km/h)</th>\n",
       "      <th>Wind Bearing (degrees)</th>\n",
       "      <th>Visibility (km)</th>\n",
       "      <th>Loud Cover</th>\n",
       "      <th>Pressure (millibars)</th>\n",
       "      <th>Summary</th>\n",
       "      <th>Precip Type</th>\n",
       "      <th>Year</th>\n",
       "      <th>Month</th>\n",
       "      <th>Day</th>\n",
       "      <th>Hour</th>\n",
       "    </tr>\n",
       "  </thead>\n",
       "  <tbody>\n",
       "    <tr>\n",
       "      <th>0</th>\n",
       "      <td>9.472222</td>\n",
       "      <td>7.388889</td>\n",
       "      <td>0.89</td>\n",
       "      <td>14.1197</td>\n",
       "      <td>251</td>\n",
       "      <td>15.8263</td>\n",
       "      <td>0</td>\n",
       "      <td>1015.13</td>\n",
       "      <td>0</td>\n",
       "      <td>0</td>\n",
       "      <td>2006</td>\n",
       "      <td>3</td>\n",
       "      <td>31</td>\n",
       "      <td>22</td>\n",
       "    </tr>\n",
       "    <tr>\n",
       "      <th>1</th>\n",
       "      <td>9.355556</td>\n",
       "      <td>7.227778</td>\n",
       "      <td>0.86</td>\n",
       "      <td>14.2646</td>\n",
       "      <td>259</td>\n",
       "      <td>15.8263</td>\n",
       "      <td>0</td>\n",
       "      <td>1015.63</td>\n",
       "      <td>0</td>\n",
       "      <td>0</td>\n",
       "      <td>2006</td>\n",
       "      <td>3</td>\n",
       "      <td>31</td>\n",
       "      <td>23</td>\n",
       "    </tr>\n",
       "    <tr>\n",
       "      <th>2</th>\n",
       "      <td>9.377778</td>\n",
       "      <td>9.377778</td>\n",
       "      <td>0.89</td>\n",
       "      <td>3.9284</td>\n",
       "      <td>204</td>\n",
       "      <td>14.9569</td>\n",
       "      <td>0</td>\n",
       "      <td>1015.94</td>\n",
       "      <td>0</td>\n",
       "      <td>0</td>\n",
       "      <td>2006</td>\n",
       "      <td>4</td>\n",
       "      <td>1</td>\n",
       "      <td>0</td>\n",
       "    </tr>\n",
       "    <tr>\n",
       "      <th>3</th>\n",
       "      <td>8.288889</td>\n",
       "      <td>5.944444</td>\n",
       "      <td>0.83</td>\n",
       "      <td>14.1036</td>\n",
       "      <td>269</td>\n",
       "      <td>15.8263</td>\n",
       "      <td>0</td>\n",
       "      <td>1016.41</td>\n",
       "      <td>0</td>\n",
       "      <td>0</td>\n",
       "      <td>2006</td>\n",
       "      <td>4</td>\n",
       "      <td>1</td>\n",
       "      <td>1</td>\n",
       "    </tr>\n",
       "    <tr>\n",
       "      <th>4</th>\n",
       "      <td>8.755556</td>\n",
       "      <td>6.977778</td>\n",
       "      <td>0.83</td>\n",
       "      <td>11.0446</td>\n",
       "      <td>259</td>\n",
       "      <td>15.8263</td>\n",
       "      <td>0</td>\n",
       "      <td>1016.51</td>\n",
       "      <td>0</td>\n",
       "      <td>0</td>\n",
       "      <td>2006</td>\n",
       "      <td>4</td>\n",
       "      <td>1</td>\n",
       "      <td>2</td>\n",
       "    </tr>\n",
       "  </tbody>\n",
       "</table>\n",
       "</div>"
      ],
      "text/plain": [
       "   Temperature (C)  Apparent Temperature (C)  Humidity  Wind Speed (km/h)  \\\n",
       "0         9.472222                  7.388889      0.89            14.1197   \n",
       "1         9.355556                  7.227778      0.86            14.2646   \n",
       "2         9.377778                  9.377778      0.89             3.9284   \n",
       "3         8.288889                  5.944444      0.83            14.1036   \n",
       "4         8.755556                  6.977778      0.83            11.0446   \n",
       "\n",
       "   Wind Bearing (degrees)  Visibility (km)  Loud Cover  Pressure (millibars)  \\\n",
       "0                     251          15.8263           0               1015.13   \n",
       "1                     259          15.8263           0               1015.63   \n",
       "2                     204          14.9569           0               1015.94   \n",
       "3                     269          15.8263           0               1016.41   \n",
       "4                     259          15.8263           0               1016.51   \n",
       "\n",
       "   Summary  Precip Type  Year  Month  Day  Hour  \n",
       "0        0            0  2006      3   31    22  \n",
       "1        0            0  2006      3   31    23  \n",
       "2        0            0  2006      4    1     0  \n",
       "3        0            0  2006      4    1     1  \n",
       "4        0            0  2006      4    1     2  "
      ]
     },
     "execution_count": 44,
     "metadata": {},
     "output_type": "execute_result"
    }
   ],
   "source": [
    "weather_hist.head()"
   ]
  },
  {
   "cell_type": "code",
   "execution_count": 45,
   "metadata": {},
   "outputs": [],
   "source": [
    "input_data = [[9.5, 7.4, 0.8, 10.2, 200, \n",
    "               16.0, 0, 1016.0, 0, 2024, 4, 1, 3]]  # Example input data\n",
    "\n",
    "# Make predictions\n",
    "predictions = model.predict(input_data)\n"
   ]
  },
  {
   "cell_type": "code",
   "execution_count": 46,
   "metadata": {},
   "outputs": [
    {
     "name": "stdout",
     "output_type": "stream",
     "text": [
      "Predicted Summary: [0]\n"
     ]
    }
   ],
   "source": [
    "\n",
    "# Output the predictions\n",
    "print(\"Predicted Summary:\", predictions)"
   ]
  },
  {
   "cell_type": "code",
   "execution_count": null,
   "metadata": {},
   "outputs": [],
   "source": []
  }
 ],
 "metadata": {
  "colab": {
   "provenance": []
  },
  "kernelspec": {
   "display_name": "Python 3 (ipykernel)",
   "language": "python",
   "name": "python3"
  },
  "language_info": {
   "codemirror_mode": {
    "name": "ipython",
    "version": 3
   },
   "file_extension": ".py",
   "mimetype": "text/x-python",
   "name": "python",
   "nbconvert_exporter": "python",
   "pygments_lexer": "ipython3",
   "version": "3.9.13"
  }
 },
 "nbformat": 4,
 "nbformat_minor": 1
}

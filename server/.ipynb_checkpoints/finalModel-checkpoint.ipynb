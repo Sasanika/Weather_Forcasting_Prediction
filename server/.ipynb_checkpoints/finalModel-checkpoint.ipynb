{
 "cells": [
  {
   "cell_type": "code",
   "execution_count": 1,
   "metadata": {
    "id": "V_-ytJNavOQP"
   },
   "outputs": [],
   "source": [
    "import numpy as np\n",
    "import pandas as pd"
   ]
  },
  {
   "cell_type": "code",
   "execution_count": 2,
   "metadata": {
    "id": "SnLA9bzByyaq"
   },
   "outputs": [],
   "source": [
    "weather_hist = pd.read_csv('weatherHistory.csv')"
   ]
  },
  {
   "cell_type": "code",
   "execution_count": 3,
   "metadata": {
    "colab": {
     "base_uri": "https://localhost:8080/"
    },
    "id": "07SFhxQTy58Q",
    "outputId": "8e04212b-c791-4936-8271-8ab446ca5362"
   },
   "outputs": [
    {
     "name": "stdout",
     "output_type": "stream",
     "text": [
      "<class 'pandas.core.frame.DataFrame'>\n",
      "RangeIndex: 96450 entries, 0 to 96449\n",
      "Data columns (total 12 columns):\n",
      " #   Column                    Non-Null Count  Dtype  \n",
      "---  ------                    --------------  -----  \n",
      " 0   Formatted Date            96450 non-null  object \n",
      " 1   Summary                   96450 non-null  object \n",
      " 2   Precip Type               95930 non-null  object \n",
      " 3   Temperature (C)           96450 non-null  float64\n",
      " 4   Apparent Temperature (C)  96450 non-null  float64\n",
      " 5   Humidity                  96450 non-null  float64\n",
      " 6   Wind Speed (km/h)         96445 non-null  float64\n",
      " 7   Wind Bearing (degrees)    96450 non-null  int64  \n",
      " 8   Visibility (km)           96442 non-null  float64\n",
      " 9   Loud Cover                96450 non-null  int64  \n",
      " 10  Pressure (millibars)      96443 non-null  float64\n",
      " 11  Daily Summary             96450 non-null  object \n",
      "dtypes: float64(6), int64(2), object(4)\n",
      "memory usage: 8.8+ MB\n"
     ]
    }
   ],
   "source": [
    "weather_hist.info()"
   ]
  },
  {
   "cell_type": "code",
   "execution_count": 4,
   "metadata": {
    "colab": {
     "base_uri": "https://localhost:8080/",
     "height": 414
    },
    "id": "Br5siQoly-zw",
    "outputId": "0d9a2f62-bff3-4314-93a3-4b2b5fad9931"
   },
   "outputs": [
    {
     "data": {
      "text/html": [
       "<div>\n",
       "<style scoped>\n",
       "    .dataframe tbody tr th:only-of-type {\n",
       "        vertical-align: middle;\n",
       "    }\n",
       "\n",
       "    .dataframe tbody tr th {\n",
       "        vertical-align: top;\n",
       "    }\n",
       "\n",
       "    .dataframe thead th {\n",
       "        text-align: right;\n",
       "    }\n",
       "</style>\n",
       "<table border=\"1\" class=\"dataframe\">\n",
       "  <thead>\n",
       "    <tr style=\"text-align: right;\">\n",
       "      <th></th>\n",
       "      <th>Formatted Date</th>\n",
       "      <th>Summary</th>\n",
       "      <th>Precip Type</th>\n",
       "      <th>Temperature (C)</th>\n",
       "      <th>Apparent Temperature (C)</th>\n",
       "      <th>Humidity</th>\n",
       "      <th>Wind Speed (km/h)</th>\n",
       "      <th>Wind Bearing (degrees)</th>\n",
       "      <th>Visibility (km)</th>\n",
       "      <th>Loud Cover</th>\n",
       "      <th>Pressure (millibars)</th>\n",
       "      <th>Daily Summary</th>\n",
       "    </tr>\n",
       "  </thead>\n",
       "  <tbody>\n",
       "    <tr>\n",
       "      <th>0</th>\n",
       "      <td>2006-04-01 00:00:00.000 +0200</td>\n",
       "      <td>Partly Cloudy</td>\n",
       "      <td>rain</td>\n",
       "      <td>9.472222</td>\n",
       "      <td>7.388889</td>\n",
       "      <td>0.89</td>\n",
       "      <td>14.1197</td>\n",
       "      <td>251</td>\n",
       "      <td>15.8263</td>\n",
       "      <td>0</td>\n",
       "      <td>1015.13</td>\n",
       "      <td>Partly cloudy throughout the day.</td>\n",
       "    </tr>\n",
       "    <tr>\n",
       "      <th>1</th>\n",
       "      <td>2006-04-01 01:00:00.000 +0200</td>\n",
       "      <td>Partly Cloudy</td>\n",
       "      <td>rain</td>\n",
       "      <td>9.355556</td>\n",
       "      <td>7.227778</td>\n",
       "      <td>0.86</td>\n",
       "      <td>14.2646</td>\n",
       "      <td>259</td>\n",
       "      <td>15.8263</td>\n",
       "      <td>0</td>\n",
       "      <td>1015.63</td>\n",
       "      <td>Partly cloudy throughout the day.</td>\n",
       "    </tr>\n",
       "    <tr>\n",
       "      <th>2</th>\n",
       "      <td>2006-04-01 02:00:00.000 +0200</td>\n",
       "      <td>Mostly Cloudy</td>\n",
       "      <td>rain</td>\n",
       "      <td>9.377778</td>\n",
       "      <td>9.377778</td>\n",
       "      <td>0.89</td>\n",
       "      <td>3.9284</td>\n",
       "      <td>204</td>\n",
       "      <td>14.9569</td>\n",
       "      <td>0</td>\n",
       "      <td>1015.94</td>\n",
       "      <td>Partly cloudy throughout the day.</td>\n",
       "    </tr>\n",
       "    <tr>\n",
       "      <th>3</th>\n",
       "      <td>2006-04-01 03:00:00.000 +0200</td>\n",
       "      <td>Partly Cloudy</td>\n",
       "      <td>rain</td>\n",
       "      <td>8.288889</td>\n",
       "      <td>5.944444</td>\n",
       "      <td>0.83</td>\n",
       "      <td>14.1036</td>\n",
       "      <td>269</td>\n",
       "      <td>15.8263</td>\n",
       "      <td>0</td>\n",
       "      <td>1016.41</td>\n",
       "      <td>Partly cloudy throughout the day.</td>\n",
       "    </tr>\n",
       "    <tr>\n",
       "      <th>4</th>\n",
       "      <td>2006-04-01 04:00:00.000 +0200</td>\n",
       "      <td>Mostly Cloudy</td>\n",
       "      <td>rain</td>\n",
       "      <td>8.755556</td>\n",
       "      <td>6.977778</td>\n",
       "      <td>0.83</td>\n",
       "      <td>11.0446</td>\n",
       "      <td>259</td>\n",
       "      <td>15.8263</td>\n",
       "      <td>0</td>\n",
       "      <td>1016.51</td>\n",
       "      <td>Partly cloudy throughout the day.</td>\n",
       "    </tr>\n",
       "  </tbody>\n",
       "</table>\n",
       "</div>"
      ],
      "text/plain": [
       "                  Formatted Date        Summary Precip Type  Temperature (C)  \\\n",
       "0  2006-04-01 00:00:00.000 +0200  Partly Cloudy        rain         9.472222   \n",
       "1  2006-04-01 01:00:00.000 +0200  Partly Cloudy        rain         9.355556   \n",
       "2  2006-04-01 02:00:00.000 +0200  Mostly Cloudy        rain         9.377778   \n",
       "3  2006-04-01 03:00:00.000 +0200  Partly Cloudy        rain         8.288889   \n",
       "4  2006-04-01 04:00:00.000 +0200  Mostly Cloudy        rain         8.755556   \n",
       "\n",
       "   Apparent Temperature (C)  Humidity  Wind Speed (km/h)  \\\n",
       "0                  7.388889      0.89            14.1197   \n",
       "1                  7.227778      0.86            14.2646   \n",
       "2                  9.377778      0.89             3.9284   \n",
       "3                  5.944444      0.83            14.1036   \n",
       "4                  6.977778      0.83            11.0446   \n",
       "\n",
       "   Wind Bearing (degrees)  Visibility (km)  Loud Cover  Pressure (millibars)  \\\n",
       "0                     251          15.8263           0               1015.13   \n",
       "1                     259          15.8263           0               1015.63   \n",
       "2                     204          14.9569           0               1015.94   \n",
       "3                     269          15.8263           0               1016.41   \n",
       "4                     259          15.8263           0               1016.51   \n",
       "\n",
       "                       Daily Summary  \n",
       "0  Partly cloudy throughout the day.  \n",
       "1  Partly cloudy throughout the day.  \n",
       "2  Partly cloudy throughout the day.  \n",
       "3  Partly cloudy throughout the day.  \n",
       "4  Partly cloudy throughout the day.  "
      ]
     },
     "execution_count": 4,
     "metadata": {},
     "output_type": "execute_result"
    }
   ],
   "source": [
    "weather_hist.head()"
   ]
  },
  {
   "cell_type": "code",
   "execution_count": 5,
   "metadata": {
    "colab": {
     "base_uri": "https://localhost:8080/",
     "height": 317
    },
    "id": "uZmlDMeazRSQ",
    "outputId": "8cac185f-b546-47e5-e020-46ad3cbd587b"
   },
   "outputs": [
    {
     "data": {
      "text/html": [
       "<div>\n",
       "<style scoped>\n",
       "    .dataframe tbody tr th:only-of-type {\n",
       "        vertical-align: middle;\n",
       "    }\n",
       "\n",
       "    .dataframe tbody tr th {\n",
       "        vertical-align: top;\n",
       "    }\n",
       "\n",
       "    .dataframe thead th {\n",
       "        text-align: right;\n",
       "    }\n",
       "</style>\n",
       "<table border=\"1\" class=\"dataframe\">\n",
       "  <thead>\n",
       "    <tr style=\"text-align: right;\">\n",
       "      <th></th>\n",
       "      <th>Temperature (C)</th>\n",
       "      <th>Apparent Temperature (C)</th>\n",
       "      <th>Humidity</th>\n",
       "      <th>Wind Speed (km/h)</th>\n",
       "      <th>Wind Bearing (degrees)</th>\n",
       "      <th>Visibility (km)</th>\n",
       "      <th>Loud Cover</th>\n",
       "      <th>Pressure (millibars)</th>\n",
       "    </tr>\n",
       "  </thead>\n",
       "  <tbody>\n",
       "    <tr>\n",
       "      <th>count</th>\n",
       "      <td>96450.000000</td>\n",
       "      <td>96450.000000</td>\n",
       "      <td>96450.000000</td>\n",
       "      <td>96445.000000</td>\n",
       "      <td>96450.000000</td>\n",
       "      <td>96442.000000</td>\n",
       "      <td>96450.0</td>\n",
       "      <td>96443.000000</td>\n",
       "    </tr>\n",
       "    <tr>\n",
       "      <th>mean</th>\n",
       "      <td>11.932456</td>\n",
       "      <td>10.854838</td>\n",
       "      <td>0.734912</td>\n",
       "      <td>10.809563</td>\n",
       "      <td>187.507838</td>\n",
       "      <td>10.347331</td>\n",
       "      <td>0.0</td>\n",
       "      <td>1003.235465</td>\n",
       "    </tr>\n",
       "    <tr>\n",
       "      <th>std</th>\n",
       "      <td>9.551517</td>\n",
       "      <td>10.696820</td>\n",
       "      <td>0.195462</td>\n",
       "      <td>6.910700</td>\n",
       "      <td>107.384208</td>\n",
       "      <td>4.192359</td>\n",
       "      <td>0.0</td>\n",
       "      <td>116.975940</td>\n",
       "    </tr>\n",
       "    <tr>\n",
       "      <th>min</th>\n",
       "      <td>-21.822222</td>\n",
       "      <td>-27.716667</td>\n",
       "      <td>0.000000</td>\n",
       "      <td>0.000000</td>\n",
       "      <td>0.000000</td>\n",
       "      <td>0.000000</td>\n",
       "      <td>0.0</td>\n",
       "      <td>0.000000</td>\n",
       "    </tr>\n",
       "    <tr>\n",
       "      <th>25%</th>\n",
       "      <td>4.688889</td>\n",
       "      <td>2.311111</td>\n",
       "      <td>0.600000</td>\n",
       "      <td>5.828200</td>\n",
       "      <td>116.000000</td>\n",
       "      <td>8.339800</td>\n",
       "      <td>0.0</td>\n",
       "      <td>1011.900000</td>\n",
       "    </tr>\n",
       "    <tr>\n",
       "      <th>50%</th>\n",
       "      <td>12.000000</td>\n",
       "      <td>12.000000</td>\n",
       "      <td>0.780000</td>\n",
       "      <td>9.965900</td>\n",
       "      <td>180.000000</td>\n",
       "      <td>10.046400</td>\n",
       "      <td>0.0</td>\n",
       "      <td>1016.450000</td>\n",
       "    </tr>\n",
       "    <tr>\n",
       "      <th>75%</th>\n",
       "      <td>18.838889</td>\n",
       "      <td>18.838889</td>\n",
       "      <td>0.890000</td>\n",
       "      <td>14.135800</td>\n",
       "      <td>290.000000</td>\n",
       "      <td>14.812000</td>\n",
       "      <td>0.0</td>\n",
       "      <td>1021.090000</td>\n",
       "    </tr>\n",
       "    <tr>\n",
       "      <th>max</th>\n",
       "      <td>39.905556</td>\n",
       "      <td>39.344444</td>\n",
       "      <td>1.000000</td>\n",
       "      <td>55.931400</td>\n",
       "      <td>359.000000</td>\n",
       "      <td>16.100000</td>\n",
       "      <td>0.0</td>\n",
       "      <td>1046.380000</td>\n",
       "    </tr>\n",
       "  </tbody>\n",
       "</table>\n",
       "</div>"
      ],
      "text/plain": [
       "       Temperature (C)  Apparent Temperature (C)      Humidity  \\\n",
       "count     96450.000000              96450.000000  96450.000000   \n",
       "mean         11.932456                 10.854838      0.734912   \n",
       "std           9.551517                 10.696820      0.195462   \n",
       "min         -21.822222                -27.716667      0.000000   \n",
       "25%           4.688889                  2.311111      0.600000   \n",
       "50%          12.000000                 12.000000      0.780000   \n",
       "75%          18.838889                 18.838889      0.890000   \n",
       "max          39.905556                 39.344444      1.000000   \n",
       "\n",
       "       Wind Speed (km/h)  Wind Bearing (degrees)  Visibility (km)  Loud Cover  \\\n",
       "count       96445.000000            96450.000000     96442.000000     96450.0   \n",
       "mean           10.809563              187.507838        10.347331         0.0   \n",
       "std             6.910700              107.384208         4.192359         0.0   \n",
       "min             0.000000                0.000000         0.000000         0.0   \n",
       "25%             5.828200              116.000000         8.339800         0.0   \n",
       "50%             9.965900              180.000000        10.046400         0.0   \n",
       "75%            14.135800              290.000000        14.812000         0.0   \n",
       "max            55.931400              359.000000        16.100000         0.0   \n",
       "\n",
       "       Pressure (millibars)  \n",
       "count          96443.000000  \n",
       "mean            1003.235465  \n",
       "std              116.975940  \n",
       "min                0.000000  \n",
       "25%             1011.900000  \n",
       "50%             1016.450000  \n",
       "75%             1021.090000  \n",
       "max             1046.380000  "
      ]
     },
     "execution_count": 5,
     "metadata": {},
     "output_type": "execute_result"
    }
   ],
   "source": [
    "weather_hist.describe()"
   ]
  },
  {
   "cell_type": "code",
   "execution_count": 6,
   "metadata": {
    "colab": {
     "base_uri": "https://localhost:8080/"
    },
    "id": "mtxD5USVzW3I",
    "outputId": "fe76b7c5-d494-47ad-dcb1-3afe6fe0aea8"
   },
   "outputs": [
    {
     "name": "stdout",
     "output_type": "stream",
     "text": [
      "Number of Columns in the Weather History Data frame: 12\n",
      "Number of records in the Weather History data frame: 96450\n"
     ]
    }
   ],
   "source": [
    "print(\"Number of Columns in the Weather History Data frame:\", weather_hist.shape[1])\n",
    "print(\"Number of records in the Weather History data frame:\", weather_hist.shape[0])"
   ]
  },
  {
   "cell_type": "code",
   "execution_count": 7,
   "metadata": {
    "colab": {
     "base_uri": "https://localhost:8080/"
    },
    "id": "QHVd-RlPzdDP",
    "outputId": "049955a9-2134-405a-f742-51cbc50fc8de"
   },
   "outputs": [
    {
     "name": "stdout",
     "output_type": "stream",
     "text": [
      "Unique values are:\n",
      " Formatted Date              96426\n",
      "Summary                        24\n",
      "Precip Type                     4\n",
      "Temperature (C)              7574\n",
      "Apparent Temperature (C)     8984\n",
      "Humidity                       90\n",
      "Wind Speed (km/h)            2483\n",
      "Wind Bearing (degrees)        360\n",
      "Visibility (km)               949\n",
      "Loud Cover                      1\n",
      "Pressure (millibars)         4979\n",
      "Daily Summary                 214\n",
      "dtype: int64\n"
     ]
    }
   ],
   "source": [
    "print (\"Unique values are:\\n\",weather_hist.nunique())"
   ]
  },
  {
   "cell_type": "code",
   "execution_count": 8,
   "metadata": {
    "colab": {
     "base_uri": "https://localhost:8080/"
    },
    "id": "tUfn5y8gzivw",
    "outputId": "bee903d0-4f48-4c7e-ffb8-90e7460330fd"
   },
   "outputs": [
    {
     "name": "stdout",
     "output_type": "stream",
     "text": [
      "\n",
      "\n",
      "24 duplicate rows found in Weathe History Dataset.\n",
      "\n",
      "\n",
      "                      Formatted Date        Summary Precip Type  \\\n",
      "36071  2010-08-02 00:00:00.000 +0200          Clear        rain   \n",
      "36072  2010-08-02 01:00:00.000 +0200          Clear        rain   \n",
      "36073  2010-08-02 02:00:00.000 +0200          Clear        rain   \n",
      "36074  2010-08-02 03:00:00.000 +0200          Clear        rain   \n",
      "36075  2010-08-02 04:00:00.000 +0200          Clear        rain   \n",
      "36076  2010-08-02 05:00:00.000 +0200          Clear        rain   \n",
      "36077  2010-08-02 06:00:00.000 +0200          Clear        rain   \n",
      "36078  2010-08-02 07:00:00.000 +0200          Clear        rain   \n",
      "36079  2010-08-02 08:00:00.000 +0200          Clear        rain   \n",
      "36080  2010-08-02 09:00:00.000 +0200          Clear        rain   \n",
      "36081  2010-08-02 10:00:00.000 +0200          Clear        rain   \n",
      "36082  2010-08-02 11:00:00.000 +0200          Clear        rain   \n",
      "36083  2010-08-02 12:00:00.000 +0200          Clear        rain   \n",
      "36084  2010-08-02 13:00:00.000 +0200  Partly Cloudy        rain   \n",
      "36085  2010-08-02 14:00:00.000 +0200  Partly Cloudy        rain   \n",
      "36086  2010-08-02 15:00:00.000 +0200  Partly Cloudy        rain   \n",
      "36087  2010-08-02 16:00:00.000 +0200  Partly Cloudy        rain   \n",
      "36088  2010-08-02 17:00:00.000 +0200  Partly Cloudy        rain   \n",
      "36089  2010-08-02 18:00:00.000 +0200  Partly Cloudy        rain   \n",
      "36090  2010-08-02 19:00:00.000 +0200          Clear        rain   \n",
      "36091  2010-08-02 20:00:00.000 +0200          Clear        rain   \n",
      "36092  2010-08-02 21:00:00.000 +0200          Clear        rain   \n",
      "36093  2010-08-02 22:00:00.000 +0200  Partly Cloudy        rain   \n",
      "36094  2010-08-02 23:00:00.000 +0200          Clear        rain   \n",
      "\n",
      "       Temperature (C)  Apparent Temperature (C)  Humidity  Wind Speed (km/h)  \\\n",
      "36071        18.800000                 18.800000      0.93             6.2790   \n",
      "36072        18.222222                 18.222222      0.97             6.2790   \n",
      "36073        18.072222                 18.072222      0.98            11.2700   \n",
      "36074        16.622222                 16.622222      0.99             6.4400   \n",
      "36075        16.094444                 16.094444      0.99             3.0751   \n",
      "36076        15.955556                 15.955556      0.99             3.8801   \n",
      "36077        17.088889                 17.088889      1.00             6.4400   \n",
      "36078        20.822222                 20.822222      0.87             3.2200   \n",
      "36079        23.405556                 23.405556      0.74             1.8837   \n",
      "36080        26.050000                 26.050000      0.59             1.5939   \n",
      "36081        27.688889                 28.077778      0.50             0.2254   \n",
      "36082        28.561111                 29.588889      0.54             3.2039   \n",
      "36083        28.816667                 29.338889      0.49             1.6100   \n",
      "36084        28.866667                 29.044444      0.46             2.8175   \n",
      "36085        29.827778                 30.338889      0.47             8.0339   \n",
      "36086        30.072222                 30.527778      0.46             2.5921   \n",
      "36087        31.066667                 31.627778      0.44             1.3846   \n",
      "36088        30.861111                 31.361111      0.44             2.2540   \n",
      "36089        29.950000                 30.416667      0.46             3.0751   \n",
      "36090        28.811111                 30.616667      0.59             3.2039   \n",
      "36091        25.250000                 25.250000      0.75             2.4955   \n",
      "36092        22.172222                 22.172222      0.87             1.6100   \n",
      "36093        21.061111                 21.061111      0.90             0.0000   \n",
      "36094        20.255556                 20.255556      0.92             1.0787   \n",
      "\n",
      "       Wind Bearing (degrees)  Visibility (km)  Loud Cover  \\\n",
      "36071                     270          14.9086           0   \n",
      "36072                     291          14.9086           0   \n",
      "36073                     290           6.8425           0   \n",
      "36074                     300          11.9784           0   \n",
      "36075                     280          11.9784           0   \n",
      "36076                     276           9.9820           0   \n",
      "36077                     310           9.9820           0   \n",
      "36078                     300           9.9820           0   \n",
      "36079                     334           9.9820           0   \n",
      "36080                       5           9.9820           0   \n",
      "36081                     338           9.9820           0   \n",
      "36082                     288          10.3523           0   \n",
      "36083                      20           9.9820           0   \n",
      "36084                      33           9.9820           0   \n",
      "36085                     267          10.3523           0   \n",
      "36086                      92           9.9820           0   \n",
      "36087                     297           9.9820           0   \n",
      "36088                     325          10.3523           0   \n",
      "36089                     303           9.9820           0   \n",
      "36090                     351           9.9820           0   \n",
      "36091                     335          10.3523           0   \n",
      "36092                       0           9.9820           0   \n",
      "36093                       0          11.9784           0   \n",
      "36094                     326          14.1680           0   \n",
      "\n",
      "       Pressure (millibars)                                      Daily Summary  \n",
      "36071               1016.99  Partly cloudy starting in the afternoon contin...  \n",
      "36072               1017.09  Partly cloudy starting in the afternoon contin...  \n",
      "36073               1013.23  Partly cloudy starting in the afternoon contin...  \n",
      "36074               1016.78  Partly cloudy starting in the afternoon contin...  \n",
      "36075               1016.67  Partly cloudy starting in the afternoon contin...  \n",
      "36076               1016.69  Partly cloudy starting in the afternoon contin...  \n",
      "36077               1017.08  Partly cloudy starting in the afternoon contin...  \n",
      "36078               1017.27  Partly cloudy starting in the afternoon contin...  \n",
      "36079               1017.27  Partly cloudy starting in the afternoon contin...  \n",
      "36080               1017.15  Partly cloudy starting in the afternoon contin...  \n",
      "36081               1016.68  Partly cloudy starting in the afternoon contin...  \n",
      "36082               1016.58  Partly cloudy starting in the afternoon contin...  \n",
      "36083               1016.55  Partly cloudy starting in the afternoon contin...  \n",
      "36084               1015.99  Partly cloudy starting in the afternoon contin...  \n",
      "36085               1015.50  Partly cloudy starting in the afternoon contin...  \n",
      "36086               1014.97  Partly cloudy starting in the afternoon contin...  \n",
      "36087               1014.47  Partly cloudy starting in the afternoon contin...  \n",
      "36088               1014.08  Partly cloudy starting in the afternoon contin...  \n",
      "36089               1013.59  Partly cloudy starting in the afternoon contin...  \n",
      "36090               1013.19  Partly cloudy starting in the afternoon contin...  \n",
      "36091               1013.20  Partly cloudy starting in the afternoon contin...  \n",
      "36092               1013.49  Partly cloudy starting in the afternoon contin...  \n",
      "36093               1013.37  Partly cloudy starting in the afternoon contin...  \n",
      "36094               1013.00  Partly cloudy starting in the afternoon contin...  \n"
     ]
    }
   ],
   "source": [
    "\n",
    "duplicates = weather_hist[weather_hist.duplicated()]\n",
    "\n",
    "# Print the number of duplicate rows, if any\n",
    "num_duplicates = len(duplicates)\n",
    "if num_duplicates > 0:\n",
    "    print(\"\\n\")\n",
    "    print(f\"{num_duplicates} duplicate rows found in Weathe History Dataset.\")\n",
    "    print(\"\\n\")\n",
    "    print(duplicates)\n",
    "else:\n",
    "    print(\"No duplicate rows found in WeatherHistory.\")"
   ]
  },
  {
   "cell_type": "code",
   "execution_count": 9,
   "metadata": {
    "colab": {
     "base_uri": "https://localhost:8080/"
    },
    "id": "zq1ONxXXzooY",
    "outputId": "3d1c51d4-a576-451f-dd8a-80b0f839894c"
   },
   "outputs": [
    {
     "name": "stdout",
     "output_type": "stream",
     "text": [
      "Duplicated Values:  0\n"
     ]
    }
   ],
   "source": [
    "# Removing duplicated values\n",
    "weather_hist.drop_duplicates(inplace=True)\n",
    "# Again checking for duplicated values\n",
    "print(\"Duplicated Values: \", weather_hist.duplicated().sum())"
   ]
  },
  {
   "cell_type": "code",
   "execution_count": 10,
   "metadata": {
    "colab": {
     "base_uri": "https://localhost:8080/"
    },
    "id": "D4bVUXb6zyx3",
    "outputId": "14b3051d-95a4-42c4-e9af-5458111cf2b6"
   },
   "outputs": [
    {
     "name": "stdout",
     "output_type": "stream",
     "text": [
      "Number of Columns in the Weather History Data frame: 12\n",
      "Number of records in the Weather History data frame: 96426\n"
     ]
    }
   ],
   "source": [
    "#Printing the shape of dataset after deleting Duplicates\n",
    "print(\"Number of Columns in the Weather History Data frame:\", weather_hist.shape[1])\n",
    "print(\"Number of records in the Weather History data frame:\", weather_hist.shape[0])"
   ]
  },
  {
   "cell_type": "code",
   "execution_count": 11,
   "metadata": {
    "colab": {
     "base_uri": "https://localhost:8080/"
    },
    "id": "Uma5ZXoBz4NV",
    "outputId": "8a7467ec-7e8f-4d14-e9d9-b4f0a727a589"
   },
   "outputs": [
    {
     "name": "stdout",
     "output_type": "stream",
     "text": [
      "Checking the NULL Values in  WeatherHistory Dataset..\n",
      "\n",
      "Column 'Precip Type' has 520 null values.\n",
      "Column 'Wind Speed (km/h)' has 5 null values.\n",
      "Column 'Visibility (km)' has 8 null values.\n",
      "Column 'Pressure (millibars)' has 7 null values.\n"
     ]
    }
   ],
   "source": [
    "# Checking missing values\n",
    "\n",
    "# Check for null values in the DataFrame\n",
    "null_values = weather_hist.isnull().sum()\n",
    "\n",
    "# Print the count of null values in each column\n",
    "print('Checking the NULL Values in  WeatherHistory Dataset..\\n')\n",
    "\n",
    "# Check if there are any null values\n",
    "if null_values.sum() == 0:\n",
    "    print(f'\\n There are no null values in the given dataset.')\n",
    "else:\n",
    "    columns_with_null_values = null_values[null_values > 0].index.tolist()\n",
    "    # Loop over the columns with null values and print the count of null values for each column\n",
    "    for column in columns_with_null_values:\n",
    "        count = null_values[column]\n",
    "        print(f\"Column '{column}' has {count} null values.\")"
   ]
  },
  {
   "cell_type": "code",
   "execution_count": 12,
   "metadata": {
    "colab": {
     "base_uri": "https://localhost:8080/"
    },
    "id": "WH39rXZqz8xQ",
    "outputId": "3a3efe06-fd28-489f-eed3-6f6b4ce7324e"
   },
   "outputs": [
    {
     "data": {
      "text/plain": [
       "rain    85191\n",
       "snow    10712\n",
       "?           2\n",
       "%           1\n",
       "Name: Precip Type, dtype: int64"
      ]
     },
     "execution_count": 12,
     "metadata": {},
     "output_type": "execute_result"
    }
   ],
   "source": [
    "# Handling missing values\n",
    "weather_hist['Precip Type'].value_counts()"
   ]
  },
  {
   "cell_type": "code",
   "execution_count": 13,
   "metadata": {
    "colab": {
     "base_uri": "https://localhost:8080/"
    },
    "id": "j0NN-hjY0COv",
    "outputId": "6983f031-4438-4b3b-f93f-03b886817096"
   },
   "outputs": [
    {
     "data": {
      "text/plain": [
       "rain    85191\n",
       "snow    10712\n",
       "Name: Precip Type, dtype: int64"
      ]
     },
     "execution_count": 13,
     "metadata": {},
     "output_type": "execute_result"
    }
   ],
   "source": [
    "# Remove rows with missing values in 'Precip Type' column\n",
    "weather_hist = weather_hist[(weather_hist['Precip Type'] != '?') & (weather_hist['Precip Type'] != '%')]\n",
    "\n",
    "# Verify the changes\n",
    "weather_hist['Precip Type'].value_counts()\n"
   ]
  },
  {
   "cell_type": "code",
   "execution_count": 14,
   "metadata": {
    "id": "wGdUpTQu1kIQ"
   },
   "outputs": [],
   "source": [
    "# Remove rows with null values in specified columns\n",
    "weather_hist = weather_hist.dropna(subset=['Precip Type', 'Wind Speed (km/h)', 'Visibility (km)', 'Pressure (millibars)'])\n",
    "\n"
   ]
  },
  {
   "cell_type": "code",
   "execution_count": 15,
   "metadata": {
    "colab": {
     "base_uri": "https://localhost:8080/"
    },
    "id": "YI9DKc0y4fhn",
    "outputId": "005bec94-03ce-4c7e-b010-9a4759aa2744"
   },
   "outputs": [
    {
     "name": "stdout",
     "output_type": "stream",
     "text": [
      "Missing Values:\n",
      " Formatted Date              0\n",
      "Summary                     0\n",
      "Precip Type                 0\n",
      "Temperature (C)             0\n",
      "Apparent Temperature (C)    0\n",
      "Humidity                    0\n",
      "Wind Speed (km/h)           0\n",
      "Wind Bearing (degrees)      0\n",
      "Visibility (km)             0\n",
      "Loud Cover                  0\n",
      "Pressure (millibars)        0\n",
      "Daily Summary               0\n",
      "dtype: int64\n"
     ]
    }
   ],
   "source": [
    "# Re-check Handling Missing Values\n",
    "missing_values = weather_hist.isnull().sum()\n",
    "print(\"Missing Values:\\n\", missing_values)"
   ]
  },
  {
   "cell_type": "code",
   "execution_count": 16,
   "metadata": {
    "colab": {
     "base_uri": "https://localhost:8080/"
    },
    "id": "mqhtgqHK4lFv",
    "outputId": "a0f2d5b6-abc2-48d4-b2e0-234b7a3725a6"
   },
   "outputs": [
    {
     "name": "stdout",
     "output_type": "stream",
     "text": [
      "Number of Columns in the Weather History Data frame: 12\n",
      "Number of records in the Weather History data frame: 95883\n"
     ]
    }
   ],
   "source": [
    "#Printing the shape of dataset after deleting Duplicates\n",
    "print(\"Number of Columns in the Weather History Data frame:\", weather_hist.shape[1])\n",
    "print(\"Number of records in the Weather History data frame:\", weather_hist.shape[0])"
   ]
  },
  {
   "cell_type": "code",
   "execution_count": 17,
   "metadata": {
    "id": "uMiTi0r75N_8"
   },
   "outputs": [],
   "source": [
    "# Remove the 'Daily Summary' column from the DataFrame\n",
    "weather_hist = weather_hist.drop('Daily Summary', axis=1)\n"
   ]
  },
  {
   "cell_type": "markdown",
   "metadata": {
    "id": "8XcfmeSQ45bY"
   },
   "source": [
    "\n",
    "Here are some reasons to justify deleting the 'Daily Summary' column from the entire dataset:\n",
    "\n",
    "Irrelevance for Analysis: The 'Daily Summary' column contains textual descriptions of daily weather summaries. If your analysis focuses more on numerical weather data (such as temperature, humidity, etc.) rather than descriptive summaries, keeping this column may not add value to your analysis.\n",
    "\n",
    "Reduced Memory Usage: Textual data can occupy more memory compared to numerical data. By removing the 'Daily Summary' column, you can reduce the overall memory usage of your dataset, which can be beneficial for large datasets or when working with memory-constrained environments.\n",
    "\n",
    "Simplicity and Focus: Removing irrelevant columns can simplify your dataset and focus your analysis on the key variables of interest. This can make your analysis more manageable and easier to interpret.\n",
    "\n",
    "Enhanced Performance: With fewer columns, operations on the dataset, such as calculations or transformations, may be faster and more efficient, leading to improved performance in data processing tasks.\n",
    "\n",
    "Consistency and Standardization: By removing a column that contains descriptive text, you can ensure that your dataset remains consistent in terms of data types (e.g., numeric data) and standardizes the format for easier processing and analysis."
   ]
  },
  {
   "cell_type": "code",
   "execution_count": 18,
   "metadata": {
    "colab": {
     "base_uri": "https://localhost:8080/"
    },
    "id": "W72XCOc5pdbd",
    "outputId": "83e2712f-2a4f-4938-cef5-5c88750ce6f1"
   },
   "outputs": [
    {
     "name": "stdout",
     "output_type": "stream",
     "text": [
      "Cloudy Skies    76035\n",
      "Clear Skies     10744\n",
      "Foggy Day        7155\n",
      "Breezy Day       1484\n",
      "Windy Day         155\n",
      "Dry Day           134\n",
      "Rainy Day         112\n",
      "Humid Day          64\n",
      "Name: Summary, dtype: int64\n"
     ]
    }
   ],
   "source": [
    "# Define a dictionary mapping current weather summaries to new categories\n",
    "weather_mapping = {\n",
    "   'Clear': 'Clear Skies',\n",
    "    'Partly Cloudy': 'Cloudy Skies',\n",
    "    'Mostly Cloudy': 'Cloudy Skies',\n",
    "    'Overcast': 'Cloudy Skies',\n",
    "    'Foggy': 'Foggy Day',\n",
    "    'Breezy and Foggy': 'Foggy Day',\n",
    "    'Windy and Foggy': 'Foggy Day',\n",
    "    'Breezy': 'Breezy Day',\n",
    "    'Breezy and Mostly Cloudy': 'Breezy Day',\n",
    "    'Breezy and Partly Cloudy': 'Breezy Day',\n",
    "    'Breezy and Overcast': 'Breezy Day',\n",
    "    'Windy': 'Windy Day',\n",
    "    'Windy and Mostly Cloudy': 'Windy Day',\n",
    "    'Windy and Partly Cloudy': 'Windy Day',\n",
    "    'Windy and Overcast': 'Windy Day',\n",
    "    'Humid and Mostly Cloudy': 'Humid Day',\n",
    "    'Humid and Partly Cloudy': 'Humid Day',\n",
    "    'Humid and Overcast': 'Humid Day',\n",
    "    'Dry': 'Dry Day',\n",
    "    'Dry and Mostly Cloudy': 'Dry Day',\n",
    "    'Dry and Partly Cloudy': 'Dry Day',\n",
    "    'Light Rain': 'Rainy Day',\n",
    "    'Drizzle': 'Rainy Day',\n",
    "    'Rain': 'Rainy Day'\n",
    "}\n",
    "\n",
    "# Create a new column 'Weather Category' based on the mapping\n",
    "weather_hist['Summary'] = weather_hist['Summary'].map(weather_mapping)\n",
    "\n",
    "# Display the value counts of the new column\n",
    "print(weather_hist['Summary'].value_counts())\n"
   ]
  },
  {
   "cell_type": "code",
   "execution_count": 19,
   "metadata": {
    "colab": {
     "base_uri": "https://localhost:8080/"
    },
    "id": "me7qz0rk4sgX",
    "outputId": "6b591fab-1180-48f1-a6d8-ba08ee82278e"
   },
   "outputs": [
    {
     "name": "stdout",
     "output_type": "stream",
     "text": [
      "<class 'pandas.core.frame.DataFrame'>\n",
      "Int64Index: 95883 entries, 0 to 96449\n",
      "Data columns (total 11 columns):\n",
      " #   Column                    Non-Null Count  Dtype  \n",
      "---  ------                    --------------  -----  \n",
      " 0   Formatted Date            95883 non-null  object \n",
      " 1   Summary                   95883 non-null  object \n",
      " 2   Precip Type               95883 non-null  object \n",
      " 3   Temperature (C)           95883 non-null  float64\n",
      " 4   Apparent Temperature (C)  95883 non-null  float64\n",
      " 5   Humidity                  95883 non-null  float64\n",
      " 6   Wind Speed (km/h)         95883 non-null  float64\n",
      " 7   Wind Bearing (degrees)    95883 non-null  int64  \n",
      " 8   Visibility (km)           95883 non-null  float64\n",
      " 9   Loud Cover                95883 non-null  int64  \n",
      " 10  Pressure (millibars)      95883 non-null  float64\n",
      "dtypes: float64(6), int64(2), object(3)\n",
      "memory usage: 8.8+ MB\n"
     ]
    }
   ],
   "source": [
    "# Verify the changes\n",
    "weather_hist.info()\n"
   ]
  },
  {
   "cell_type": "code",
   "execution_count": 20,
   "metadata": {
    "colab": {
     "base_uri": "https://localhost:8080/"
    },
    "id": "5ltDdvIC7RGy",
    "outputId": "6c1c78b1-a3a5-4638-d97a-f5141b62853f"
   },
   "outputs": [
    {
     "name": "stdout",
     "output_type": "stream",
     "text": [
      "Rows with invalid dates:\n",
      "Empty DataFrame\n",
      "Columns: [Formatted Date, is_valid_date]\n",
      "Index: []\n"
     ]
    }
   ],
   "source": [
    "from datetime import datetime\n",
    "\n",
    "# Define the format string for the date\n",
    "format_string = \"%Y-%m-%d %H:%M:%S.%f %z\"\n",
    "\n",
    "# Function to check if a value is in the correct format\n",
    "def check_date_format(value):\n",
    "    try:\n",
    "        datetime.strptime(value, format_string)\n",
    "        return True\n",
    "    except ValueError:\n",
    "        return False\n",
    "\n",
    "# Apply the function to each value in the 'Formatted Date' column and create a new column 'is_valid_date'\n",
    "weather_hist['is_valid_date'] = weather_hist['Formatted Date'].apply(check_date_format)\n",
    "\n",
    "# Filter the DataFrame to show only rows where 'is_valid_date' is False\n",
    "invalid_dates = weather_hist[~weather_hist['is_valid_date']]\n",
    "\n",
    "# Display the rows with invalid dates\n",
    "print(\"Rows with invalid dates:\")\n",
    "print(invalid_dates[['Formatted Date', 'is_valid_date']])\n"
   ]
  },
  {
   "cell_type": "code",
   "execution_count": 21,
   "metadata": {
    "colab": {
     "base_uri": "https://localhost:8080/",
     "height": 223
    },
    "id": "0DGH1_KG5vUA",
    "outputId": "81acebcc-ea22-491c-ae6e-787488a2e81d"
   },
   "outputs": [
    {
     "name": "stderr",
     "output_type": "stream",
     "text": [
      "C:\\Users\\student\\anaconda3\\lib\\site-packages\\scipy\\__init__.py:155: UserWarning: A NumPy version >=1.18.5 and <1.25.0 is required for this version of SciPy (detected version 1.26.4\n",
      "  warnings.warn(f\"A NumPy version >={np_minversion} and <{np_maxversion}\"\n"
     ]
    },
    {
     "name": "stdout",
     "output_type": "stream",
     "text": [
      "Weather History DataFrame:\n"
     ]
    },
    {
     "data": {
      "text/html": [
       "<div>\n",
       "<style scoped>\n",
       "    .dataframe tbody tr th:only-of-type {\n",
       "        vertical-align: middle;\n",
       "    }\n",
       "\n",
       "    .dataframe tbody tr th {\n",
       "        vertical-align: top;\n",
       "    }\n",
       "\n",
       "    .dataframe thead th {\n",
       "        text-align: right;\n",
       "    }\n",
       "</style>\n",
       "<table border=\"1\" class=\"dataframe\">\n",
       "  <thead>\n",
       "    <tr style=\"text-align: right;\">\n",
       "      <th></th>\n",
       "      <th>Summary</th>\n",
       "      <th>Precip Type</th>\n",
       "      <th>Summary_encoded</th>\n",
       "      <th>Precip Type_encoded</th>\n",
       "      <th>Year</th>\n",
       "      <th>Month</th>\n",
       "      <th>Day</th>\n",
       "      <th>Hour</th>\n",
       "    </tr>\n",
       "  </thead>\n",
       "  <tbody>\n",
       "    <tr>\n",
       "      <th>0</th>\n",
       "      <td>Cloudy Skies</td>\n",
       "      <td>rain</td>\n",
       "      <td>2</td>\n",
       "      <td>0</td>\n",
       "      <td>2006</td>\n",
       "      <td>3</td>\n",
       "      <td>31</td>\n",
       "      <td>22</td>\n",
       "    </tr>\n",
       "    <tr>\n",
       "      <th>1</th>\n",
       "      <td>Cloudy Skies</td>\n",
       "      <td>rain</td>\n",
       "      <td>2</td>\n",
       "      <td>0</td>\n",
       "      <td>2006</td>\n",
       "      <td>3</td>\n",
       "      <td>31</td>\n",
       "      <td>23</td>\n",
       "    </tr>\n",
       "    <tr>\n",
       "      <th>2</th>\n",
       "      <td>Cloudy Skies</td>\n",
       "      <td>rain</td>\n",
       "      <td>2</td>\n",
       "      <td>0</td>\n",
       "      <td>2006</td>\n",
       "      <td>4</td>\n",
       "      <td>1</td>\n",
       "      <td>0</td>\n",
       "    </tr>\n",
       "    <tr>\n",
       "      <th>3</th>\n",
       "      <td>Cloudy Skies</td>\n",
       "      <td>rain</td>\n",
       "      <td>2</td>\n",
       "      <td>0</td>\n",
       "      <td>2006</td>\n",
       "      <td>4</td>\n",
       "      <td>1</td>\n",
       "      <td>1</td>\n",
       "    </tr>\n",
       "    <tr>\n",
       "      <th>4</th>\n",
       "      <td>Cloudy Skies</td>\n",
       "      <td>rain</td>\n",
       "      <td>2</td>\n",
       "      <td>0</td>\n",
       "      <td>2006</td>\n",
       "      <td>4</td>\n",
       "      <td>1</td>\n",
       "      <td>2</td>\n",
       "    </tr>\n",
       "  </tbody>\n",
       "</table>\n",
       "</div>"
      ],
      "text/plain": [
       "        Summary Precip Type  Summary_encoded  Precip Type_encoded  Year  \\\n",
       "0  Cloudy Skies        rain                2                    0  2006   \n",
       "1  Cloudy Skies        rain                2                    0  2006   \n",
       "2  Cloudy Skies        rain                2                    0  2006   \n",
       "3  Cloudy Skies        rain                2                    0  2006   \n",
       "4  Cloudy Skies        rain                2                    0  2006   \n",
       "\n",
       "   Month  Day  Hour  \n",
       "0      3   31    22  \n",
       "1      3   31    23  \n",
       "2      4    1     0  \n",
       "3      4    1     1  \n",
       "4      4    1     2  "
      ]
     },
     "execution_count": 21,
     "metadata": {},
     "output_type": "execute_result"
    }
   ],
   "source": [
    "from sklearn.preprocessing import LabelEncoder\n",
    "\n",
    "# Initialize LabelEncoder\n",
    "label_encoder = LabelEncoder()\n",
    "\n",
    "# Label encode object columns\n",
    "object_columns = ['Summary', 'Precip Type']\n",
    "for col in object_columns:\n",
    "    weather_hist[col+'_encoded'] = label_encoder.fit_transform(weather_hist[col])\n",
    "\n",
    "# Convert 'Formatted Date' to datetime format with utc=True\n",
    "weather_hist['Formatted Date'] = pd.to_datetime(weather_hist['Formatted Date'], utc=True)\n",
    "\n",
    "# Extract year, month, day, and hour\n",
    "weather_hist['Year'] = weather_hist['Formatted Date'].dt.year\n",
    "weather_hist['Month'] = weather_hist['Formatted Date'].dt.month\n",
    "weather_hist['Day'] = weather_hist['Formatted Date'].dt.day\n",
    "weather_hist['Hour'] = weather_hist['Formatted Date'].dt.hour\n",
    "\n",
    "# Create dictionaries for mapping encoded values to original labels\n",
    "summary_mapping = dict(zip(weather_hist['Summary_encoded'], weather_hist['Summary']))\n",
    "precip_mapping = dict(zip(weather_hist['Precip Type_encoded'], weather_hist['Precip Type']))\n",
    "\n",
    "# Display the updated DataFrame and the mapping dictionaries\n",
    "print(\"Weather History DataFrame:\")\n",
    "weather_hist[['Summary', 'Precip Type', 'Summary_encoded', 'Precip Type_encoded', 'Year', 'Month', 'Day', 'Hour']].head()\n",
    "\n"
   ]
  },
  {
   "cell_type": "code",
   "execution_count": null,
   "metadata": {
    "id": "gX7DT0WNocOX"
   },
   "outputs": [],
   "source": []
  },
  {
   "cell_type": "code",
   "execution_count": 22,
   "metadata": {
    "colab": {
     "base_uri": "https://localhost:8080/",
     "height": 652
    },
    "id": "Kgwh6WnCE4iC",
    "outputId": "23b3fd8e-bc81-4d6b-cf36-8e6c8eac51d3"
   },
   "outputs": [
    {
     "data": {
      "text/html": [
       "<div>\n",
       "<style scoped>\n",
       "    .dataframe tbody tr th:only-of-type {\n",
       "        vertical-align: middle;\n",
       "    }\n",
       "\n",
       "    .dataframe tbody tr th {\n",
       "        vertical-align: top;\n",
       "    }\n",
       "\n",
       "    .dataframe thead th {\n",
       "        text-align: right;\n",
       "    }\n",
       "</style>\n",
       "<table border=\"1\" class=\"dataframe\">\n",
       "  <thead>\n",
       "    <tr style=\"text-align: right;\">\n",
       "      <th></th>\n",
       "      <th>Formatted Date</th>\n",
       "      <th>Summary</th>\n",
       "      <th>Precip Type</th>\n",
       "      <th>Temperature (C)</th>\n",
       "      <th>Apparent Temperature (C)</th>\n",
       "      <th>Humidity</th>\n",
       "      <th>Wind Speed (km/h)</th>\n",
       "      <th>Wind Bearing (degrees)</th>\n",
       "      <th>Visibility (km)</th>\n",
       "      <th>Loud Cover</th>\n",
       "      <th>Pressure (millibars)</th>\n",
       "      <th>is_valid_date</th>\n",
       "      <th>Summary_encoded</th>\n",
       "      <th>Precip Type_encoded</th>\n",
       "      <th>Year</th>\n",
       "      <th>Month</th>\n",
       "      <th>Day</th>\n",
       "      <th>Hour</th>\n",
       "    </tr>\n",
       "  </thead>\n",
       "  <tbody>\n",
       "    <tr>\n",
       "      <th>0</th>\n",
       "      <td>2006-03-31 22:00:00+00:00</td>\n",
       "      <td>Cloudy Skies</td>\n",
       "      <td>rain</td>\n",
       "      <td>9.472222</td>\n",
       "      <td>7.388889</td>\n",
       "      <td>0.89</td>\n",
       "      <td>14.1197</td>\n",
       "      <td>251</td>\n",
       "      <td>15.8263</td>\n",
       "      <td>0</td>\n",
       "      <td>1015.13</td>\n",
       "      <td>True</td>\n",
       "      <td>2</td>\n",
       "      <td>0</td>\n",
       "      <td>2006</td>\n",
       "      <td>3</td>\n",
       "      <td>31</td>\n",
       "      <td>22</td>\n",
       "    </tr>\n",
       "    <tr>\n",
       "      <th>1</th>\n",
       "      <td>2006-03-31 23:00:00+00:00</td>\n",
       "      <td>Cloudy Skies</td>\n",
       "      <td>rain</td>\n",
       "      <td>9.355556</td>\n",
       "      <td>7.227778</td>\n",
       "      <td>0.86</td>\n",
       "      <td>14.2646</td>\n",
       "      <td>259</td>\n",
       "      <td>15.8263</td>\n",
       "      <td>0</td>\n",
       "      <td>1015.63</td>\n",
       "      <td>True</td>\n",
       "      <td>2</td>\n",
       "      <td>0</td>\n",
       "      <td>2006</td>\n",
       "      <td>3</td>\n",
       "      <td>31</td>\n",
       "      <td>23</td>\n",
       "    </tr>\n",
       "    <tr>\n",
       "      <th>2</th>\n",
       "      <td>2006-04-01 00:00:00+00:00</td>\n",
       "      <td>Cloudy Skies</td>\n",
       "      <td>rain</td>\n",
       "      <td>9.377778</td>\n",
       "      <td>9.377778</td>\n",
       "      <td>0.89</td>\n",
       "      <td>3.9284</td>\n",
       "      <td>204</td>\n",
       "      <td>14.9569</td>\n",
       "      <td>0</td>\n",
       "      <td>1015.94</td>\n",
       "      <td>True</td>\n",
       "      <td>2</td>\n",
       "      <td>0</td>\n",
       "      <td>2006</td>\n",
       "      <td>4</td>\n",
       "      <td>1</td>\n",
       "      <td>0</td>\n",
       "    </tr>\n",
       "    <tr>\n",
       "      <th>3</th>\n",
       "      <td>2006-04-01 01:00:00+00:00</td>\n",
       "      <td>Cloudy Skies</td>\n",
       "      <td>rain</td>\n",
       "      <td>8.288889</td>\n",
       "      <td>5.944444</td>\n",
       "      <td>0.83</td>\n",
       "      <td>14.1036</td>\n",
       "      <td>269</td>\n",
       "      <td>15.8263</td>\n",
       "      <td>0</td>\n",
       "      <td>1016.41</td>\n",
       "      <td>True</td>\n",
       "      <td>2</td>\n",
       "      <td>0</td>\n",
       "      <td>2006</td>\n",
       "      <td>4</td>\n",
       "      <td>1</td>\n",
       "      <td>1</td>\n",
       "    </tr>\n",
       "    <tr>\n",
       "      <th>4</th>\n",
       "      <td>2006-04-01 02:00:00+00:00</td>\n",
       "      <td>Cloudy Skies</td>\n",
       "      <td>rain</td>\n",
       "      <td>8.755556</td>\n",
       "      <td>6.977778</td>\n",
       "      <td>0.83</td>\n",
       "      <td>11.0446</td>\n",
       "      <td>259</td>\n",
       "      <td>15.8263</td>\n",
       "      <td>0</td>\n",
       "      <td>1016.51</td>\n",
       "      <td>True</td>\n",
       "      <td>2</td>\n",
       "      <td>0</td>\n",
       "      <td>2006</td>\n",
       "      <td>4</td>\n",
       "      <td>1</td>\n",
       "      <td>2</td>\n",
       "    </tr>\n",
       "    <tr>\n",
       "      <th>...</th>\n",
       "      <td>...</td>\n",
       "      <td>...</td>\n",
       "      <td>...</td>\n",
       "      <td>...</td>\n",
       "      <td>...</td>\n",
       "      <td>...</td>\n",
       "      <td>...</td>\n",
       "      <td>...</td>\n",
       "      <td>...</td>\n",
       "      <td>...</td>\n",
       "      <td>...</td>\n",
       "      <td>...</td>\n",
       "      <td>...</td>\n",
       "      <td>...</td>\n",
       "      <td>...</td>\n",
       "      <td>...</td>\n",
       "      <td>...</td>\n",
       "      <td>...</td>\n",
       "    </tr>\n",
       "    <tr>\n",
       "      <th>96445</th>\n",
       "      <td>2016-09-09 17:00:00+00:00</td>\n",
       "      <td>Cloudy Skies</td>\n",
       "      <td>rain</td>\n",
       "      <td>26.016667</td>\n",
       "      <td>26.016667</td>\n",
       "      <td>0.43</td>\n",
       "      <td>10.9963</td>\n",
       "      <td>31</td>\n",
       "      <td>16.1000</td>\n",
       "      <td>0</td>\n",
       "      <td>1014.36</td>\n",
       "      <td>True</td>\n",
       "      <td>2</td>\n",
       "      <td>0</td>\n",
       "      <td>2016</td>\n",
       "      <td>9</td>\n",
       "      <td>9</td>\n",
       "      <td>17</td>\n",
       "    </tr>\n",
       "    <tr>\n",
       "      <th>96446</th>\n",
       "      <td>2016-09-09 18:00:00+00:00</td>\n",
       "      <td>Cloudy Skies</td>\n",
       "      <td>rain</td>\n",
       "      <td>24.583333</td>\n",
       "      <td>24.583333</td>\n",
       "      <td>0.48</td>\n",
       "      <td>10.0947</td>\n",
       "      <td>20</td>\n",
       "      <td>15.5526</td>\n",
       "      <td>0</td>\n",
       "      <td>1015.16</td>\n",
       "      <td>True</td>\n",
       "      <td>2</td>\n",
       "      <td>0</td>\n",
       "      <td>2016</td>\n",
       "      <td>9</td>\n",
       "      <td>9</td>\n",
       "      <td>18</td>\n",
       "    </tr>\n",
       "    <tr>\n",
       "      <th>96447</th>\n",
       "      <td>2016-09-09 19:00:00+00:00</td>\n",
       "      <td>Cloudy Skies</td>\n",
       "      <td>rain</td>\n",
       "      <td>22.038889</td>\n",
       "      <td>22.038889</td>\n",
       "      <td>0.56</td>\n",
       "      <td>8.9838</td>\n",
       "      <td>30</td>\n",
       "      <td>16.1000</td>\n",
       "      <td>0</td>\n",
       "      <td>1015.66</td>\n",
       "      <td>True</td>\n",
       "      <td>2</td>\n",
       "      <td>0</td>\n",
       "      <td>2016</td>\n",
       "      <td>9</td>\n",
       "      <td>9</td>\n",
       "      <td>19</td>\n",
       "    </tr>\n",
       "    <tr>\n",
       "      <th>96448</th>\n",
       "      <td>2016-09-09 20:00:00+00:00</td>\n",
       "      <td>Cloudy Skies</td>\n",
       "      <td>rain</td>\n",
       "      <td>21.522222</td>\n",
       "      <td>21.522222</td>\n",
       "      <td>0.60</td>\n",
       "      <td>10.5294</td>\n",
       "      <td>20</td>\n",
       "      <td>16.1000</td>\n",
       "      <td>0</td>\n",
       "      <td>1015.95</td>\n",
       "      <td>True</td>\n",
       "      <td>2</td>\n",
       "      <td>0</td>\n",
       "      <td>2016</td>\n",
       "      <td>9</td>\n",
       "      <td>9</td>\n",
       "      <td>20</td>\n",
       "    </tr>\n",
       "    <tr>\n",
       "      <th>96449</th>\n",
       "      <td>2016-09-09 21:00:00+00:00</td>\n",
       "      <td>Cloudy Skies</td>\n",
       "      <td>rain</td>\n",
       "      <td>20.438889</td>\n",
       "      <td>20.438889</td>\n",
       "      <td>0.61</td>\n",
       "      <td>5.8765</td>\n",
       "      <td>39</td>\n",
       "      <td>15.5204</td>\n",
       "      <td>0</td>\n",
       "      <td>1016.16</td>\n",
       "      <td>True</td>\n",
       "      <td>2</td>\n",
       "      <td>0</td>\n",
       "      <td>2016</td>\n",
       "      <td>9</td>\n",
       "      <td>9</td>\n",
       "      <td>21</td>\n",
       "    </tr>\n",
       "  </tbody>\n",
       "</table>\n",
       "<p>95883 rows × 18 columns</p>\n",
       "</div>"
      ],
      "text/plain": [
       "                 Formatted Date       Summary Precip Type  Temperature (C)  \\\n",
       "0     2006-03-31 22:00:00+00:00  Cloudy Skies        rain         9.472222   \n",
       "1     2006-03-31 23:00:00+00:00  Cloudy Skies        rain         9.355556   \n",
       "2     2006-04-01 00:00:00+00:00  Cloudy Skies        rain         9.377778   \n",
       "3     2006-04-01 01:00:00+00:00  Cloudy Skies        rain         8.288889   \n",
       "4     2006-04-01 02:00:00+00:00  Cloudy Skies        rain         8.755556   \n",
       "...                         ...           ...         ...              ...   \n",
       "96445 2016-09-09 17:00:00+00:00  Cloudy Skies        rain        26.016667   \n",
       "96446 2016-09-09 18:00:00+00:00  Cloudy Skies        rain        24.583333   \n",
       "96447 2016-09-09 19:00:00+00:00  Cloudy Skies        rain        22.038889   \n",
       "96448 2016-09-09 20:00:00+00:00  Cloudy Skies        rain        21.522222   \n",
       "96449 2016-09-09 21:00:00+00:00  Cloudy Skies        rain        20.438889   \n",
       "\n",
       "       Apparent Temperature (C)  Humidity  Wind Speed (km/h)  \\\n",
       "0                      7.388889      0.89            14.1197   \n",
       "1                      7.227778      0.86            14.2646   \n",
       "2                      9.377778      0.89             3.9284   \n",
       "3                      5.944444      0.83            14.1036   \n",
       "4                      6.977778      0.83            11.0446   \n",
       "...                         ...       ...                ...   \n",
       "96445                 26.016667      0.43            10.9963   \n",
       "96446                 24.583333      0.48            10.0947   \n",
       "96447                 22.038889      0.56             8.9838   \n",
       "96448                 21.522222      0.60            10.5294   \n",
       "96449                 20.438889      0.61             5.8765   \n",
       "\n",
       "       Wind Bearing (degrees)  Visibility (km)  Loud Cover  \\\n",
       "0                         251          15.8263           0   \n",
       "1                         259          15.8263           0   \n",
       "2                         204          14.9569           0   \n",
       "3                         269          15.8263           0   \n",
       "4                         259          15.8263           0   \n",
       "...                       ...              ...         ...   \n",
       "96445                      31          16.1000           0   \n",
       "96446                      20          15.5526           0   \n",
       "96447                      30          16.1000           0   \n",
       "96448                      20          16.1000           0   \n",
       "96449                      39          15.5204           0   \n",
       "\n",
       "       Pressure (millibars)  is_valid_date  Summary_encoded  \\\n",
       "0                   1015.13           True                2   \n",
       "1                   1015.63           True                2   \n",
       "2                   1015.94           True                2   \n",
       "3                   1016.41           True                2   \n",
       "4                   1016.51           True                2   \n",
       "...                     ...            ...              ...   \n",
       "96445               1014.36           True                2   \n",
       "96446               1015.16           True                2   \n",
       "96447               1015.66           True                2   \n",
       "96448               1015.95           True                2   \n",
       "96449               1016.16           True                2   \n",
       "\n",
       "       Precip Type_encoded  Year  Month  Day  Hour  \n",
       "0                        0  2006      3   31    22  \n",
       "1                        0  2006      3   31    23  \n",
       "2                        0  2006      4    1     0  \n",
       "3                        0  2006      4    1     1  \n",
       "4                        0  2006      4    1     2  \n",
       "...                    ...   ...    ...  ...   ...  \n",
       "96445                    0  2016      9    9    17  \n",
       "96446                    0  2016      9    9    18  \n",
       "96447                    0  2016      9    9    19  \n",
       "96448                    0  2016      9    9    20  \n",
       "96449                    0  2016      9    9    21  \n",
       "\n",
       "[95883 rows x 18 columns]"
      ]
     },
     "execution_count": 22,
     "metadata": {},
     "output_type": "execute_result"
    }
   ],
   "source": [
    "weather_hist"
   ]
  },
  {
   "cell_type": "code",
   "execution_count": 23,
   "metadata": {
    "colab": {
     "base_uri": "https://localhost:8080/"
    },
    "id": "_4gWihDRE5b0",
    "outputId": "562767db-0c83-4c2c-f93a-cfc484d8dd3b"
   },
   "outputs": [
    {
     "name": "stdout",
     "output_type": "stream",
     "text": [
      "\n",
      "Summary Mapping:\n"
     ]
    },
    {
     "data": {
      "text/plain": [
       "{2: 'Cloudy Skies',\n",
       " 4: 'Foggy Day',\n",
       " 0: 'Breezy Day',\n",
       " 1: 'Clear Skies',\n",
       " 5: 'Humid Day',\n",
       " 7: 'Windy Day',\n",
       " 3: 'Dry Day',\n",
       " 6: 'Rainy Day'}"
      ]
     },
     "execution_count": 23,
     "metadata": {},
     "output_type": "execute_result"
    }
   ],
   "source": [
    "print(\"\\nSummary Mapping:\")\n",
    "\n",
    "summary_mapping"
   ]
  },
  {
   "cell_type": "code",
   "execution_count": 24,
   "metadata": {
    "colab": {
     "base_uri": "https://localhost:8080/"
    },
    "id": "_ezx4WXUJEYs",
    "outputId": "31890a1f-495c-40de-fe27-93f6c49bc875"
   },
   "outputs": [
    {
     "data": {
      "text/plain": [
       "Cloudy Skies    76035\n",
       "Clear Skies     10744\n",
       "Foggy Day        7155\n",
       "Breezy Day       1484\n",
       "Windy Day         155\n",
       "Dry Day           134\n",
       "Rainy Day         112\n",
       "Humid Day          64\n",
       "Name: Summary, dtype: int64"
      ]
     },
     "execution_count": 24,
     "metadata": {},
     "output_type": "execute_result"
    }
   ],
   "source": [
    "weather_hist['Summary'].value_counts()"
   ]
  },
  {
   "cell_type": "code",
   "execution_count": 25,
   "metadata": {
    "colab": {
     "base_uri": "https://localhost:8080/"
    },
    "id": "qHskC-paE5gg",
    "outputId": "79edbba9-50f1-4edf-8a6f-6746ac394358"
   },
   "outputs": [
    {
     "name": "stdout",
     "output_type": "stream",
     "text": [
      "\n",
      "Precip Type Mapping:\n"
     ]
    },
    {
     "data": {
      "text/plain": [
       "{0: 'rain', 1: 'snow'}"
      ]
     },
     "execution_count": 25,
     "metadata": {},
     "output_type": "execute_result"
    }
   ],
   "source": [
    "print(\"\\nPrecip Type Mapping:\")\n",
    "\n",
    "\n",
    "precip_mapping"
   ]
  },
  {
   "cell_type": "code",
   "execution_count": 26,
   "metadata": {
    "colab": {
     "base_uri": "https://localhost:8080/"
    },
    "id": "f-iiRpjeCm-T",
    "outputId": "b382594d-1302-4c9a-c75a-e1f17e8bbf33"
   },
   "outputs": [
    {
     "name": "stdout",
     "output_type": "stream",
     "text": [
      "Summary Mapping Index:\n",
      "Index(['Cloudy Skies', 'Foggy Day', 'Breezy Day', 'Clear Skies', 'Humid Day',\n",
      "       'Windy Day', 'Dry Day', 'Rainy Day'],\n",
      "      dtype='object')\n",
      "\n",
      "Precip Type Mapping Index:\n",
      "Index(['rain', 'snow'], dtype='object')\n"
     ]
    }
   ],
   "source": [
    "# Assuming 'weather_hist' is your DataFrame\n",
    "\n",
    "# Use factorize to encode 'Summary' and 'Precip Type' columns\n",
    "weather_hist['Summary_encoded'], summary_mapping_index = weather_hist['Summary'].factorize()\n",
    "weather_hist['Precip Type_encoded'], precip_mapping_index = weather_hist['Precip Type'].factorize()\n",
    "\n",
    "# Display the mapping indexes\n",
    "print(\"Summary Mapping Index:\")\n",
    "print(summary_mapping_index)\n",
    "\n",
    "print(\"\\nPrecip Type Mapping Index:\")\n",
    "print(precip_mapping_index)\n"
   ]
  },
  {
   "cell_type": "code",
   "execution_count": 27,
   "metadata": {
    "colab": {
     "base_uri": "https://localhost:8080/"
    },
    "id": "JzmSI0tsDrIP",
    "outputId": "df8d3a4b-b808-489e-fd81-882ae0bf2fe5"
   },
   "outputs": [
    {
     "name": "stdout",
     "output_type": "stream",
     "text": [
      "Unique values in 'Summary' column before encoding:\n",
      "['Cloudy Skies' 'Foggy Day' 'Breezy Day' 'Clear Skies' 'Humid Day'\n",
      " 'Windy Day' 'Dry Day' 'Rainy Day']\n",
      "\n",
      "Unique values in 'Precip Type' column before encoding:\n",
      "['rain' 'snow']\n"
     ]
    }
   ],
   "source": [
    "# Assuming df is your DataFrame\n",
    "\n",
    "# Get the unique values in the 'Summary' column before encoding\n",
    "summary_unique_values = weather_hist['Summary'].unique()\n",
    "\n",
    "# Get the unique values in the 'Precip Type' column before encoding\n",
    "precip_unique_values = weather_hist['Precip Type'].unique()\n",
    "\n",
    "# Display the unique values\n",
    "print(\"Unique values in 'Summary' column before encoding:\")\n",
    "print(summary_unique_values)\n",
    "\n",
    "print(\"\\nUnique values in 'Precip Type' column before encoding:\")\n",
    "print(precip_unique_values)\n"
   ]
  },
  {
   "cell_type": "code",
   "execution_count": 28,
   "metadata": {
    "colab": {
     "base_uri": "https://localhost:8080/",
     "height": 278
    },
    "id": "JYcYFdxqG8y9",
    "outputId": "9b640255-320c-47db-c714-1e45b26fde4d"
   },
   "outputs": [
    {
     "name": "stdout",
     "output_type": "stream",
     "text": [
      "Encoded Weather History DataFrame:\n"
     ]
    },
    {
     "data": {
      "text/html": [
       "<div>\n",
       "<style scoped>\n",
       "    .dataframe tbody tr th:only-of-type {\n",
       "        vertical-align: middle;\n",
       "    }\n",
       "\n",
       "    .dataframe tbody tr th {\n",
       "        vertical-align: top;\n",
       "    }\n",
       "\n",
       "    .dataframe thead th {\n",
       "        text-align: right;\n",
       "    }\n",
       "</style>\n",
       "<table border=\"1\" class=\"dataframe\">\n",
       "  <thead>\n",
       "    <tr style=\"text-align: right;\">\n",
       "      <th></th>\n",
       "      <th>Temperature (C)</th>\n",
       "      <th>Apparent Temperature (C)</th>\n",
       "      <th>Humidity</th>\n",
       "      <th>Wind Speed (km/h)</th>\n",
       "      <th>Wind Bearing (degrees)</th>\n",
       "      <th>Visibility (km)</th>\n",
       "      <th>Loud Cover</th>\n",
       "      <th>Pressure (millibars)</th>\n",
       "      <th>is_valid_date</th>\n",
       "      <th>Summary_encoded</th>\n",
       "      <th>Precip Type_encoded</th>\n",
       "      <th>Year</th>\n",
       "      <th>Month</th>\n",
       "      <th>Day</th>\n",
       "      <th>Hour</th>\n",
       "    </tr>\n",
       "  </thead>\n",
       "  <tbody>\n",
       "    <tr>\n",
       "      <th>0</th>\n",
       "      <td>9.472222</td>\n",
       "      <td>7.388889</td>\n",
       "      <td>0.89</td>\n",
       "      <td>14.1197</td>\n",
       "      <td>251</td>\n",
       "      <td>15.8263</td>\n",
       "      <td>0</td>\n",
       "      <td>1015.13</td>\n",
       "      <td>True</td>\n",
       "      <td>0</td>\n",
       "      <td>0</td>\n",
       "      <td>2006</td>\n",
       "      <td>3</td>\n",
       "      <td>31</td>\n",
       "      <td>22</td>\n",
       "    </tr>\n",
       "    <tr>\n",
       "      <th>1</th>\n",
       "      <td>9.355556</td>\n",
       "      <td>7.227778</td>\n",
       "      <td>0.86</td>\n",
       "      <td>14.2646</td>\n",
       "      <td>259</td>\n",
       "      <td>15.8263</td>\n",
       "      <td>0</td>\n",
       "      <td>1015.63</td>\n",
       "      <td>True</td>\n",
       "      <td>0</td>\n",
       "      <td>0</td>\n",
       "      <td>2006</td>\n",
       "      <td>3</td>\n",
       "      <td>31</td>\n",
       "      <td>23</td>\n",
       "    </tr>\n",
       "    <tr>\n",
       "      <th>2</th>\n",
       "      <td>9.377778</td>\n",
       "      <td>9.377778</td>\n",
       "      <td>0.89</td>\n",
       "      <td>3.9284</td>\n",
       "      <td>204</td>\n",
       "      <td>14.9569</td>\n",
       "      <td>0</td>\n",
       "      <td>1015.94</td>\n",
       "      <td>True</td>\n",
       "      <td>0</td>\n",
       "      <td>0</td>\n",
       "      <td>2006</td>\n",
       "      <td>4</td>\n",
       "      <td>1</td>\n",
       "      <td>0</td>\n",
       "    </tr>\n",
       "    <tr>\n",
       "      <th>3</th>\n",
       "      <td>8.288889</td>\n",
       "      <td>5.944444</td>\n",
       "      <td>0.83</td>\n",
       "      <td>14.1036</td>\n",
       "      <td>269</td>\n",
       "      <td>15.8263</td>\n",
       "      <td>0</td>\n",
       "      <td>1016.41</td>\n",
       "      <td>True</td>\n",
       "      <td>0</td>\n",
       "      <td>0</td>\n",
       "      <td>2006</td>\n",
       "      <td>4</td>\n",
       "      <td>1</td>\n",
       "      <td>1</td>\n",
       "    </tr>\n",
       "    <tr>\n",
       "      <th>4</th>\n",
       "      <td>8.755556</td>\n",
       "      <td>6.977778</td>\n",
       "      <td>0.83</td>\n",
       "      <td>11.0446</td>\n",
       "      <td>259</td>\n",
       "      <td>15.8263</td>\n",
       "      <td>0</td>\n",
       "      <td>1016.51</td>\n",
       "      <td>True</td>\n",
       "      <td>0</td>\n",
       "      <td>0</td>\n",
       "      <td>2006</td>\n",
       "      <td>4</td>\n",
       "      <td>1</td>\n",
       "      <td>2</td>\n",
       "    </tr>\n",
       "  </tbody>\n",
       "</table>\n",
       "</div>"
      ],
      "text/plain": [
       "   Temperature (C)  Apparent Temperature (C)  Humidity  Wind Speed (km/h)  \\\n",
       "0         9.472222                  7.388889      0.89            14.1197   \n",
       "1         9.355556                  7.227778      0.86            14.2646   \n",
       "2         9.377778                  9.377778      0.89             3.9284   \n",
       "3         8.288889                  5.944444      0.83            14.1036   \n",
       "4         8.755556                  6.977778      0.83            11.0446   \n",
       "\n",
       "   Wind Bearing (degrees)  Visibility (km)  Loud Cover  Pressure (millibars)  \\\n",
       "0                     251          15.8263           0               1015.13   \n",
       "1                     259          15.8263           0               1015.63   \n",
       "2                     204          14.9569           0               1015.94   \n",
       "3                     269          15.8263           0               1016.41   \n",
       "4                     259          15.8263           0               1016.51   \n",
       "\n",
       "   is_valid_date  Summary_encoded  Precip Type_encoded  Year  Month  Day  Hour  \n",
       "0           True                0                    0  2006      3   31    22  \n",
       "1           True                0                    0  2006      3   31    23  \n",
       "2           True                0                    0  2006      4    1     0  \n",
       "3           True                0                    0  2006      4    1     1  \n",
       "4           True                0                    0  2006      4    1     2  "
      ]
     },
     "execution_count": 28,
     "metadata": {},
     "output_type": "execute_result"
    }
   ],
   "source": [
    "# Drop original categorical columns\n",
    "weather_hist = weather_hist.drop(columns=['Summary', 'Precip Type', 'Formatted Date'])\n",
    "\n",
    "# Display the updated DataFrame\n",
    "print(\"Encoded Weather History DataFrame:\")\n",
    "weather_hist.head()\n"
   ]
  },
  {
   "cell_type": "code",
   "execution_count": 29,
   "metadata": {
    "colab": {
     "base_uri": "https://localhost:8080/"
    },
    "id": "MdwLBWPr6eho",
    "outputId": "442b2c2a-6990-42a2-e518-eba9108632a8"
   },
   "outputs": [
    {
     "data": {
      "text/plain": [
       "0"
      ]
     },
     "execution_count": 29,
     "metadata": {},
     "output_type": "execute_result"
    }
   ],
   "source": [
    "weather_hist['is_valid_date'].value_counts().get(False, 0)\n"
   ]
  },
  {
   "cell_type": "code",
   "execution_count": 30,
   "metadata": {
    "colab": {
     "base_uri": "https://localhost:8080/"
    },
    "id": "XrSDVP6iADCD",
    "outputId": "b78d314d-58df-4676-a32b-4ae55bd7c78f"
   },
   "outputs": [
    {
     "data": {
      "text/plain": [
       "(95883, 15)"
      ]
     },
     "execution_count": 30,
     "metadata": {},
     "output_type": "execute_result"
    }
   ],
   "source": [
    "weather_hist.shape"
   ]
  },
  {
   "cell_type": "code",
   "execution_count": 31,
   "metadata": {
    "colab": {
     "base_uri": "https://localhost:8080/",
     "height": 261
    },
    "id": "C0BYQuZ8BwbF",
    "outputId": "d641b20e-017f-468a-ebd9-6ce37703e8f4"
   },
   "outputs": [
    {
     "data": {
      "text/html": [
       "<div>\n",
       "<style scoped>\n",
       "    .dataframe tbody tr th:only-of-type {\n",
       "        vertical-align: middle;\n",
       "    }\n",
       "\n",
       "    .dataframe tbody tr th {\n",
       "        vertical-align: top;\n",
       "    }\n",
       "\n",
       "    .dataframe thead th {\n",
       "        text-align: right;\n",
       "    }\n",
       "</style>\n",
       "<table border=\"1\" class=\"dataframe\">\n",
       "  <thead>\n",
       "    <tr style=\"text-align: right;\">\n",
       "      <th></th>\n",
       "      <th>Temperature (C)</th>\n",
       "      <th>Apparent Temperature (C)</th>\n",
       "      <th>Humidity</th>\n",
       "      <th>Wind Speed (km/h)</th>\n",
       "      <th>Wind Bearing (degrees)</th>\n",
       "      <th>Visibility (km)</th>\n",
       "      <th>Loud Cover</th>\n",
       "      <th>Pressure (millibars)</th>\n",
       "      <th>Summary_encoded</th>\n",
       "      <th>Precip Type_encoded</th>\n",
       "      <th>Year</th>\n",
       "      <th>Month</th>\n",
       "      <th>Day</th>\n",
       "      <th>Hour</th>\n",
       "    </tr>\n",
       "  </thead>\n",
       "  <tbody>\n",
       "    <tr>\n",
       "      <th>0</th>\n",
       "      <td>9.472222</td>\n",
       "      <td>7.388889</td>\n",
       "      <td>0.89</td>\n",
       "      <td>14.1197</td>\n",
       "      <td>251</td>\n",
       "      <td>15.8263</td>\n",
       "      <td>0</td>\n",
       "      <td>1015.13</td>\n",
       "      <td>0</td>\n",
       "      <td>0</td>\n",
       "      <td>2006</td>\n",
       "      <td>3</td>\n",
       "      <td>31</td>\n",
       "      <td>22</td>\n",
       "    </tr>\n",
       "    <tr>\n",
       "      <th>1</th>\n",
       "      <td>9.355556</td>\n",
       "      <td>7.227778</td>\n",
       "      <td>0.86</td>\n",
       "      <td>14.2646</td>\n",
       "      <td>259</td>\n",
       "      <td>15.8263</td>\n",
       "      <td>0</td>\n",
       "      <td>1015.63</td>\n",
       "      <td>0</td>\n",
       "      <td>0</td>\n",
       "      <td>2006</td>\n",
       "      <td>3</td>\n",
       "      <td>31</td>\n",
       "      <td>23</td>\n",
       "    </tr>\n",
       "    <tr>\n",
       "      <th>2</th>\n",
       "      <td>9.377778</td>\n",
       "      <td>9.377778</td>\n",
       "      <td>0.89</td>\n",
       "      <td>3.9284</td>\n",
       "      <td>204</td>\n",
       "      <td>14.9569</td>\n",
       "      <td>0</td>\n",
       "      <td>1015.94</td>\n",
       "      <td>0</td>\n",
       "      <td>0</td>\n",
       "      <td>2006</td>\n",
       "      <td>4</td>\n",
       "      <td>1</td>\n",
       "      <td>0</td>\n",
       "    </tr>\n",
       "    <tr>\n",
       "      <th>3</th>\n",
       "      <td>8.288889</td>\n",
       "      <td>5.944444</td>\n",
       "      <td>0.83</td>\n",
       "      <td>14.1036</td>\n",
       "      <td>269</td>\n",
       "      <td>15.8263</td>\n",
       "      <td>0</td>\n",
       "      <td>1016.41</td>\n",
       "      <td>0</td>\n",
       "      <td>0</td>\n",
       "      <td>2006</td>\n",
       "      <td>4</td>\n",
       "      <td>1</td>\n",
       "      <td>1</td>\n",
       "    </tr>\n",
       "    <tr>\n",
       "      <th>4</th>\n",
       "      <td>8.755556</td>\n",
       "      <td>6.977778</td>\n",
       "      <td>0.83</td>\n",
       "      <td>11.0446</td>\n",
       "      <td>259</td>\n",
       "      <td>15.8263</td>\n",
       "      <td>0</td>\n",
       "      <td>1016.51</td>\n",
       "      <td>0</td>\n",
       "      <td>0</td>\n",
       "      <td>2006</td>\n",
       "      <td>4</td>\n",
       "      <td>1</td>\n",
       "      <td>2</td>\n",
       "    </tr>\n",
       "  </tbody>\n",
       "</table>\n",
       "</div>"
      ],
      "text/plain": [
       "   Temperature (C)  Apparent Temperature (C)  Humidity  Wind Speed (km/h)  \\\n",
       "0         9.472222                  7.388889      0.89            14.1197   \n",
       "1         9.355556                  7.227778      0.86            14.2646   \n",
       "2         9.377778                  9.377778      0.89             3.9284   \n",
       "3         8.288889                  5.944444      0.83            14.1036   \n",
       "4         8.755556                  6.977778      0.83            11.0446   \n",
       "\n",
       "   Wind Bearing (degrees)  Visibility (km)  Loud Cover  Pressure (millibars)  \\\n",
       "0                     251          15.8263           0               1015.13   \n",
       "1                     259          15.8263           0               1015.63   \n",
       "2                     204          14.9569           0               1015.94   \n",
       "3                     269          15.8263           0               1016.41   \n",
       "4                     259          15.8263           0               1016.51   \n",
       "\n",
       "   Summary_encoded  Precip Type_encoded  Year  Month  Day  Hour  \n",
       "0                0                    0  2006      3   31    22  \n",
       "1                0                    0  2006      3   31    23  \n",
       "2                0                    0  2006      4    1     0  \n",
       "3                0                    0  2006      4    1     1  \n",
       "4                0                    0  2006      4    1     2  "
      ]
     },
     "execution_count": 31,
     "metadata": {},
     "output_type": "execute_result"
    }
   ],
   "source": [
    "# Assuming df is your DataFrame\n",
    "columns_to_remove = ['is_valid_date']\n",
    "weather_hist = weather_hist.drop(columns=columns_to_remove)\n",
    "\n",
    "# Display the updated DataFrame\n",
    "weather_hist.head()\n"
   ]
  },
  {
   "cell_type": "code",
   "execution_count": 32,
   "metadata": {
    "colab": {
     "base_uri": "https://localhost:8080/",
     "height": 258
    },
    "id": "nWnvOkIrIGjs",
    "outputId": "11e3a47b-13c9-4cda-f7f7-0e17b4fba62d"
   },
   "outputs": [
    {
     "name": "stdout",
     "output_type": "stream",
     "text": [
      "Updated Weather History DataFrame:\n"
     ]
    },
    {
     "data": {
      "text/html": [
       "<div>\n",
       "<style scoped>\n",
       "    .dataframe tbody tr th:only-of-type {\n",
       "        vertical-align: middle;\n",
       "    }\n",
       "\n",
       "    .dataframe tbody tr th {\n",
       "        vertical-align: top;\n",
       "    }\n",
       "\n",
       "    .dataframe thead th {\n",
       "        text-align: right;\n",
       "    }\n",
       "</style>\n",
       "<table border=\"1\" class=\"dataframe\">\n",
       "  <thead>\n",
       "    <tr style=\"text-align: right;\">\n",
       "      <th></th>\n",
       "      <th>Temperature (C)</th>\n",
       "      <th>Apparent Temperature (C)</th>\n",
       "      <th>Humidity</th>\n",
       "      <th>Wind Speed (km/h)</th>\n",
       "      <th>Wind Bearing (degrees)</th>\n",
       "      <th>Visibility (km)</th>\n",
       "      <th>Loud Cover</th>\n",
       "      <th>Pressure (millibars)</th>\n",
       "      <th>Summary</th>\n",
       "      <th>Precip Type</th>\n",
       "      <th>Year</th>\n",
       "      <th>Month</th>\n",
       "      <th>Day</th>\n",
       "      <th>Hour</th>\n",
       "    </tr>\n",
       "  </thead>\n",
       "  <tbody>\n",
       "    <tr>\n",
       "      <th>0</th>\n",
       "      <td>9.472222</td>\n",
       "      <td>7.388889</td>\n",
       "      <td>0.89</td>\n",
       "      <td>14.1197</td>\n",
       "      <td>251</td>\n",
       "      <td>15.8263</td>\n",
       "      <td>0</td>\n",
       "      <td>1015.13</td>\n",
       "      <td>0</td>\n",
       "      <td>0</td>\n",
       "      <td>2006</td>\n",
       "      <td>3</td>\n",
       "      <td>31</td>\n",
       "      <td>22</td>\n",
       "    </tr>\n",
       "    <tr>\n",
       "      <th>1</th>\n",
       "      <td>9.355556</td>\n",
       "      <td>7.227778</td>\n",
       "      <td>0.86</td>\n",
       "      <td>14.2646</td>\n",
       "      <td>259</td>\n",
       "      <td>15.8263</td>\n",
       "      <td>0</td>\n",
       "      <td>1015.63</td>\n",
       "      <td>0</td>\n",
       "      <td>0</td>\n",
       "      <td>2006</td>\n",
       "      <td>3</td>\n",
       "      <td>31</td>\n",
       "      <td>23</td>\n",
       "    </tr>\n",
       "    <tr>\n",
       "      <th>2</th>\n",
       "      <td>9.377778</td>\n",
       "      <td>9.377778</td>\n",
       "      <td>0.89</td>\n",
       "      <td>3.9284</td>\n",
       "      <td>204</td>\n",
       "      <td>14.9569</td>\n",
       "      <td>0</td>\n",
       "      <td>1015.94</td>\n",
       "      <td>0</td>\n",
       "      <td>0</td>\n",
       "      <td>2006</td>\n",
       "      <td>4</td>\n",
       "      <td>1</td>\n",
       "      <td>0</td>\n",
       "    </tr>\n",
       "    <tr>\n",
       "      <th>3</th>\n",
       "      <td>8.288889</td>\n",
       "      <td>5.944444</td>\n",
       "      <td>0.83</td>\n",
       "      <td>14.1036</td>\n",
       "      <td>269</td>\n",
       "      <td>15.8263</td>\n",
       "      <td>0</td>\n",
       "      <td>1016.41</td>\n",
       "      <td>0</td>\n",
       "      <td>0</td>\n",
       "      <td>2006</td>\n",
       "      <td>4</td>\n",
       "      <td>1</td>\n",
       "      <td>1</td>\n",
       "    </tr>\n",
       "    <tr>\n",
       "      <th>4</th>\n",
       "      <td>8.755556</td>\n",
       "      <td>6.977778</td>\n",
       "      <td>0.83</td>\n",
       "      <td>11.0446</td>\n",
       "      <td>259</td>\n",
       "      <td>15.8263</td>\n",
       "      <td>0</td>\n",
       "      <td>1016.51</td>\n",
       "      <td>0</td>\n",
       "      <td>0</td>\n",
       "      <td>2006</td>\n",
       "      <td>4</td>\n",
       "      <td>1</td>\n",
       "      <td>2</td>\n",
       "    </tr>\n",
       "  </tbody>\n",
       "</table>\n",
       "</div>"
      ],
      "text/plain": [
       "   Temperature (C)  Apparent Temperature (C)  Humidity  Wind Speed (km/h)  \\\n",
       "0         9.472222                  7.388889      0.89            14.1197   \n",
       "1         9.355556                  7.227778      0.86            14.2646   \n",
       "2         9.377778                  9.377778      0.89             3.9284   \n",
       "3         8.288889                  5.944444      0.83            14.1036   \n",
       "4         8.755556                  6.977778      0.83            11.0446   \n",
       "\n",
       "   Wind Bearing (degrees)  Visibility (km)  Loud Cover  Pressure (millibars)  \\\n",
       "0                     251          15.8263           0               1015.13   \n",
       "1                     259          15.8263           0               1015.63   \n",
       "2                     204          14.9569           0               1015.94   \n",
       "3                     269          15.8263           0               1016.41   \n",
       "4                     259          15.8263           0               1016.51   \n",
       "\n",
       "   Summary  Precip Type  Year  Month  Day  Hour  \n",
       "0        0            0  2006      3   31    22  \n",
       "1        0            0  2006      3   31    23  \n",
       "2        0            0  2006      4    1     0  \n",
       "3        0            0  2006      4    1     1  \n",
       "4        0            0  2006      4    1     2  "
      ]
     },
     "execution_count": 32,
     "metadata": {},
     "output_type": "execute_result"
    }
   ],
   "source": [
    "# Rename the columns\n",
    "weather_hist = weather_hist.rename(columns={'Summary_encoded': 'Summary', 'Precip Type_encoded': 'Precip Type'})\n",
    "\n",
    "# Display the updated DataFrame\n",
    "print(\"Updated Weather History DataFrame:\")\n",
    "weather_hist.head()\n"
   ]
  },
  {
   "cell_type": "code",
   "execution_count": 33,
   "metadata": {
    "colab": {
     "base_uri": "https://localhost:8080/"
    },
    "id": "EUIB4S5-BwiR",
    "outputId": "aa5c502b-d0f4-47f5-e5f0-f859f503292c"
   },
   "outputs": [
    {
     "name": "stdout",
     "output_type": "stream",
     "text": [
      "<class 'pandas.core.frame.DataFrame'>\n",
      "Int64Index: 95883 entries, 0 to 96449\n",
      "Data columns (total 14 columns):\n",
      " #   Column                    Non-Null Count  Dtype  \n",
      "---  ------                    --------------  -----  \n",
      " 0   Temperature (C)           95883 non-null  float64\n",
      " 1   Apparent Temperature (C)  95883 non-null  float64\n",
      " 2   Humidity                  95883 non-null  float64\n",
      " 3   Wind Speed (km/h)         95883 non-null  float64\n",
      " 4   Wind Bearing (degrees)    95883 non-null  int64  \n",
      " 5   Visibility (km)           95883 non-null  float64\n",
      " 6   Loud Cover                95883 non-null  int64  \n",
      " 7   Pressure (millibars)      95883 non-null  float64\n",
      " 8   Summary                   95883 non-null  int64  \n",
      " 9   Precip Type               95883 non-null  int64  \n",
      " 10  Year                      95883 non-null  int64  \n",
      " 11  Month                     95883 non-null  int64  \n",
      " 12  Day                       95883 non-null  int64  \n",
      " 13  Hour                      95883 non-null  int64  \n",
      "dtypes: float64(6), int64(8)\n",
      "memory usage: 11.0 MB\n"
     ]
    }
   ],
   "source": [
    "weather_hist.info()"
   ]
  },
  {
   "cell_type": "code",
   "execution_count": 34,
   "metadata": {
    "colab": {
     "base_uri": "https://localhost:8080/"
    },
    "id": "VThtunJJBwn6",
    "outputId": "2fb9c616-617c-442b-e567-824f339442a9"
   },
   "outputs": [
    {
     "name": "stdout",
     "output_type": "stream",
     "text": [
      "Missing values:\n"
     ]
    },
    {
     "data": {
      "text/plain": [
       "Temperature (C)             0\n",
       "Apparent Temperature (C)    0\n",
       "Humidity                    0\n",
       "Wind Speed (km/h)           0\n",
       "Wind Bearing (degrees)      0\n",
       "Visibility (km)             0\n",
       "Loud Cover                  0\n",
       "Pressure (millibars)        0\n",
       "Summary                     0\n",
       "Precip Type                 0\n",
       "Year                        0\n",
       "Month                       0\n",
       "Day                         0\n",
       "Hour                        0\n",
       "dtype: int64"
      ]
     },
     "execution_count": 34,
     "metadata": {},
     "output_type": "execute_result"
    }
   ],
   "source": [
    "missing_values = weather_hist.isnull().sum()\n",
    "print(\"Missing values:\")\n",
    "missing_values\n"
   ]
  },
  {
   "cell_type": "code",
   "execution_count": 35,
   "metadata": {
    "colab": {
     "base_uri": "https://localhost:8080/",
     "height": 119
    },
    "id": "FHi6iC7CBwss",
    "outputId": "557e4642-44b1-4f0a-fd9f-36725792ed63"
   },
   "outputs": [
    {
     "name": "stdout",
     "output_type": "stream",
     "text": [
      "\n",
      "Duplicate rows:\n"
     ]
    },
    {
     "data": {
      "text/html": [
       "<div>\n",
       "<style scoped>\n",
       "    .dataframe tbody tr th:only-of-type {\n",
       "        vertical-align: middle;\n",
       "    }\n",
       "\n",
       "    .dataframe tbody tr th {\n",
       "        vertical-align: top;\n",
       "    }\n",
       "\n",
       "    .dataframe thead th {\n",
       "        text-align: right;\n",
       "    }\n",
       "</style>\n",
       "<table border=\"1\" class=\"dataframe\">\n",
       "  <thead>\n",
       "    <tr style=\"text-align: right;\">\n",
       "      <th></th>\n",
       "      <th>Temperature (C)</th>\n",
       "      <th>Apparent Temperature (C)</th>\n",
       "      <th>Humidity</th>\n",
       "      <th>Wind Speed (km/h)</th>\n",
       "      <th>Wind Bearing (degrees)</th>\n",
       "      <th>Visibility (km)</th>\n",
       "      <th>Loud Cover</th>\n",
       "      <th>Pressure (millibars)</th>\n",
       "      <th>Summary</th>\n",
       "      <th>Precip Type</th>\n",
       "      <th>Year</th>\n",
       "      <th>Month</th>\n",
       "      <th>Day</th>\n",
       "      <th>Hour</th>\n",
       "    </tr>\n",
       "  </thead>\n",
       "  <tbody>\n",
       "  </tbody>\n",
       "</table>\n",
       "</div>"
      ],
      "text/plain": [
       "Empty DataFrame\n",
       "Columns: [Temperature (C), Apparent Temperature (C), Humidity, Wind Speed (km/h), Wind Bearing (degrees), Visibility (km), Loud Cover, Pressure (millibars), Summary, Precip Type, Year, Month, Day, Hour]\n",
       "Index: []"
      ]
     },
     "execution_count": 35,
     "metadata": {},
     "output_type": "execute_result"
    }
   ],
   "source": [
    "duplicate_rows = weather_hist[weather_hist.duplicated()]\n",
    "print(\"\\nDuplicate rows:\")\n",
    "duplicate_rows\n"
   ]
  },
  {
   "cell_type": "code",
   "execution_count": 36,
   "metadata": {
    "colab": {
     "base_uri": "https://localhost:8080/"
    },
    "id": "hrfbd0XEI6Xf",
    "outputId": "bd269edb-6791-4c65-95a9-53f26a467350"
   },
   "outputs": [
    {
     "name": "stdout",
     "output_type": "stream",
     "text": [
      "\n",
      "Null values:\n"
     ]
    },
    {
     "data": {
      "text/plain": [
       "Temperature (C)             0\n",
       "Apparent Temperature (C)    0\n",
       "Humidity                    0\n",
       "Wind Speed (km/h)           0\n",
       "Wind Bearing (degrees)      0\n",
       "Visibility (km)             0\n",
       "Loud Cover                  0\n",
       "Pressure (millibars)        0\n",
       "Summary                     0\n",
       "Precip Type                 0\n",
       "Year                        0\n",
       "Month                       0\n",
       "Day                         0\n",
       "Hour                        0\n",
       "dtype: int64"
      ]
     },
     "execution_count": 36,
     "metadata": {},
     "output_type": "execute_result"
    }
   ],
   "source": [
    "null_values = weather_hist.isna().sum()\n",
    "print(\"\\nNull values:\")\n",
    "null_values\n"
   ]
  },
  {
   "cell_type": "code",
   "execution_count": 37,
   "metadata": {
    "id": "22rBO4iy9SmN"
   },
   "outputs": [],
   "source": [
    "from sklearn.model_selection import train_test_split\n",
    "from xgboost import XGBClassifier\n",
    "from sklearn.metrics import accuracy_score\n",
    "from sklearn.model_selection import GridSearchCV\n",
    "import optuna\n",
    "from sklearn.model_selection import cross_val_score\n",
    "\n",
    "# Split the dataset into features (X) and target variable (y)\n",
    "X = weather_hist.drop(['Summary'], axis=1)\n",
    "y = weather_hist['Summary']\n",
    "\n",
    "\n",
    "\n",
    "# Split the dataset into training and testing sets\n",
    "X_train, X_test, y_train, y_test = train_test_split(X, y, test_size=0.2, random_state=42)\n",
    "\n",
    "\n",
    "def objective(trial):\n",
    "    param = {\n",
    "        'objective': 'multi:softmax',\n",
    "        'num_class': 8,\n",
    "        'eval_metric': 'mlogloss',\n",
    "        'eta': trial.suggest_float('eta', 0.01, 0.3),\n",
    "        'max_depth': trial.suggest_int('max_depth', 3, 10),\n",
    "        'min_child_weight': trial.suggest_int('min_child_weight', 1, 10),\n",
    "        'subsample': trial.suggest_float('subsample', 0.5, 1.0),\n",
    "        'colsample_bytree': trial.suggest_float('colsample_bytree', 0.5, 1.0),\n",
    "        'gamma': trial.suggest_float('gamma', 0, 0.5),\n",
    "        'verbosity': 0\n",
    "    }\n",
    "\n",
    "    model = XGBClassifier(**param)\n",
    "    scores = cross_val_score(model, X, y, cv=5)\n",
    "    accuracy = scores.mean()\n",
    "    return accuracy"
   ]
  },
  {
   "cell_type": "code",
   "execution_count": null,
   "metadata": {
    "colab": {
     "base_uri": "https://localhost:8080/"
    },
    "id": "-gJD0HpmIer0",
    "outputId": "5f59ec3b-bf5b-4cbe-a081-372bc98ede91",
    "scrolled": false
   },
   "outputs": [
    {
     "name": "stderr",
     "output_type": "stream",
     "text": [
      "[I 2024-04-04 10:31:15,909] A new study created in memory with name: no-name-d1a3e25d-6388-484d-99ba-1a1876fa4ad9\n",
      "[I 2024-04-04 10:31:30,088] Trial 0 finished with value: 0.4645776378405252 and parameters: {'eta': 0.29265952978769266, 'max_depth': 5, 'min_child_weight': 2, 'subsample': 0.963535648076903, 'colsample_bytree': 0.7717330532342757, 'gamma': 0.3456746295462708}. Best is trial 0 with value: 0.4645776378405252.\n",
      "[I 2024-04-04 10:31:50,350] Trial 1 finished with value: 0.4971075766976716 and parameters: {'eta': 0.21327993010917054, 'max_depth': 6, 'min_child_weight': 4, 'subsample': 0.7894310444528239, 'colsample_bytree': 0.8228247392932925, 'gamma': 0.3814710027648135}. Best is trial 1 with value: 0.4971075766976716.\n",
      "[I 2024-04-04 10:32:14,227] Trial 2 finished with value: 0.5177046759075463 and parameters: {'eta': 0.07980066246838989, 'max_depth': 9, 'min_child_weight': 7, 'subsample': 0.9831098775100908, 'colsample_bytree': 0.600926687445652, 'gamma': 0.08439951391009015}. Best is trial 2 with value: 0.5177046759075463.\n",
      "[I 2024-04-04 10:32:39,231] Trial 3 finished with value: 0.48551991091748353 and parameters: {'eta': 0.2024895702509123, 'max_depth': 9, 'min_child_weight': 1, 'subsample': 0.8703171869846269, 'colsample_bytree': 0.9753844159567989, 'gamma': 0.03500687336347563}. Best is trial 2 with value: 0.5177046759075463.\n"
     ]
    }
   ],
   "source": [
    "study = optuna.create_study(direction='maximize')\n",
    "study.optimize(objective, n_trials=100)"
   ]
  },
  {
   "cell_type": "code",
   "execution_count": null,
   "metadata": {},
   "outputs": [],
   "source": [
    "from sklearn.metrics import classification_report, confusion_matrix\n",
    "\n",
    "# Use the best hyperparameters found by Optuna\n",
    "best_params = study.best_params\n",
    "model = XGBClassifier(**best_params)\n",
    "\n",
    "# Fit the model on the training data\n",
    "model.fit(X_train, y_train)\n",
    "\n",
    "# Predict on the training and test sets\n",
    "y_train_pred = model.predict(X_train)\n",
    "y_test_pred = model.predict(X_test)\n",
    "\n",
    "# Calculate accuracies\n",
    "train_accuracy = accuracy_score(y_train, y_train_pred)\n",
    "test_accuracy = accuracy_score(y_test, y_test_pred)\n",
    "\n",
    "# Generate confusion matrices\n",
    "train_conf_matrix = confusion_matrix(y_train, y_train_pred)\n",
    "test_conf_matrix = confusion_matrix(y_test, y_test_pred)\n",
    "\n",
    "# Generate classification reports\n",
    "train_classification_report = classification_report(y_train, y_train_pred)\n",
    "test_classification_report = classification_report(y_test, y_test_pred)\n",
    "\n",
    "# Print the results\n",
    "print(\"Train Accuracy:\", train_accuracy)\n",
    "print(\"Test Accuracy:\", test_accuracy)\n",
    "\n",
    "print(\"\\nTrain Confusion Matrix:\")\n",
    "print(train_conf_matrix)\n",
    "\n",
    "print(\"\\nTest Confusion Matrix:\")\n",
    "print(test_conf_matrix)\n",
    "\n",
    "print(\"\\nTrain Classification Report:\")\n",
    "print(train_classification_report)\n",
    "\n",
    "print(\"\\nTest Classification Report:\")\n",
    "print(test_classification_report)\n"
   ]
  },
  {
   "cell_type": "code",
   "execution_count": null,
   "metadata": {},
   "outputs": [],
   "source": [
    "import pickle\n",
    "filename = 'savemodel.sav'\n",
    "pickle.dump(model, open(filename, 'wb'))"
   ]
  },
  {
   "cell_type": "code",
   "execution_count": null,
   "metadata": {},
   "outputs": [],
   "source": [
    "load_model = pickle.load(open(filename, 'rb'))"
   ]
  },
  {
   "cell_type": "code",
   "execution_count": null,
   "metadata": {},
   "outputs": [],
   "source": [
    "X_test.head()"
   ]
  },
  {
   "cell_type": "code",
   "execution_count": null,
   "metadata": {},
   "outputs": [],
   "source": [
    "X_test.info()"
   ]
  },
  {
   "cell_type": "code",
   "execution_count": null,
   "metadata": {},
   "outputs": [],
   "source": [
    "weather_hist.head()"
   ]
  },
  {
   "cell_type": "code",
   "execution_count": null,
   "metadata": {},
   "outputs": [],
   "source": [
    "input_data = [[9.5, 7.4, 0.8, 10.2, 200, \n",
    "               16.0, 0, 1016.0, 0, 2024, 4, 1, 3]]  # Example input data\n",
    "\n",
    "# Make predictions\n",
    "predictions = model.predict(input_data)\n"
   ]
  },
  {
   "cell_type": "code",
   "execution_count": null,
   "metadata": {},
   "outputs": [],
   "source": [
    "\n",
    "# Output the predictions\n",
    "print(\"Predicted Summary:\", predictions)"
   ]
  },
  {
   "cell_type": "code",
   "execution_count": null,
   "metadata": {},
   "outputs": [],
   "source": []
  }
 ],
 "metadata": {
  "colab": {
   "provenance": []
  },
  "kernelspec": {
   "display_name": "Python 3 (ipykernel)",
   "language": "python",
   "name": "python3"
  },
  "language_info": {
   "codemirror_mode": {
    "name": "ipython",
    "version": 3
   },
   "file_extension": ".py",
   "mimetype": "text/x-python",
   "name": "python",
   "nbconvert_exporter": "python",
   "pygments_lexer": "ipython3",
   "version": "3.9.13"
  }
 },
 "nbformat": 4,
 "nbformat_minor": 1
}
